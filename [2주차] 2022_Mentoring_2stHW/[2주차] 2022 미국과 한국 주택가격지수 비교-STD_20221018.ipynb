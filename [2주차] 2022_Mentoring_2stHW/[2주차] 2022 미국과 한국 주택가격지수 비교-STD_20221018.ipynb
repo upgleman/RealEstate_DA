{
 "cells": [
  {
   "cell_type": "markdown",
   "metadata": {},
   "source": [
    "# <span style=\"color:royalblue\"> [2주차] 매크로 경제 분석</span> <img src=\"./data/logo.png\" style=\"width: 120px;\" align=\"right\">\n",
    "# 2022 미국과 한국 주택가격지수 비교 분석 \n",
    "\n",
    "--- "
   ]
  },
  {
   "cell_type": "markdown",
   "metadata": {
    "ExecuteTime": {
     "end_time": "2021-10-05T05:57:05.095771Z",
     "start_time": "2021-10-05T05:57:05.080823Z"
    }
   },
   "source": [
    "<div style=\"text-align: right\"> Final Edition : 2022.10.25<br>\n",
    "    copyrightⓒ 2022 All rights reserved by Data Lover Pablo </div>"
   ]
  },
  {
   "cell_type": "markdown",
   "metadata": {
    "ExecuteTime": {
     "end_time": "2021-08-13T04:45:48.278680Z",
     "start_time": "2021-08-13T04:45:46.962Z"
    }
   },
   "source": [
    "# 1. 미국과 한국의 주택가격지수 비교"
   ]
  },
  {
   "cell_type": "markdown",
   "metadata": {},
   "source": [
    "## 1.1 미국 주택 가격지수 데이터"
   ]
  },
  {
   "cell_type": "markdown",
   "metadata": {
    "ExecuteTime": {
     "end_time": "2021-08-13T04:45:48.278680Z",
     "start_time": "2021-08-13T04:45:46.962Z"
    }
   },
   "source": [
    "### 1.1.1 FRED(Federal Reserve Bank of St. Louis) 미국 연방준비은행 연구소 제공 데이터 수집\n",
    "* 지수명 : All-Transactions House Price Index for the United States \n",
    "* Ticker : USSTHPI\n",
    "* 기준년월 : 1980.1Q 지수 = 100\n",
    "* 업데이트 주기 : 2022년 8월 30일에 2022 2Q 데이터 업데이트\n",
    "* 데이터 링크 : https://fred.stlouisfed.org/series/USSTHPI"
   ]
  },
  {
   "cell_type": "markdown",
   "metadata": {
    "ExecuteTime": {
     "end_time": "2021-10-10T07:36:38.028043Z",
     "start_time": "2021-10-10T07:36:38.013958Z"
    }
   },
   "source": [
    "<img src=\"./data/FRED.JPG\" alt=\"Drawing\" style=\"width: 1000px;\"/>"
   ]
  },
  {
   "cell_type": "code",
   "execution_count": 152,
   "metadata": {
    "ExecuteTime": {
     "end_time": "2022-10-29T12:42:04.893464Z",
     "start_time": "2022-10-29T12:42:04.868371Z"
    }
   },
   "outputs": [],
   "source": [
    "# 필요한 패키지 및 모듈 불러오기\n",
    "\n",
    "import pandas as pd\n",
    "import numpy as np\n",
    "\n",
    "from datetime import datetime, timedelta # 시간과 날짜 간 차이 계산"
   ]
  },
  {
   "cell_type": "markdown",
   "metadata": {},
   "source": [
    "parse : 파싱은 어떤 페이지(문서, html 등)에서 내가 원하는 데이터를 특정 패턴이나 순서로 추출해 가공하는 것을 말합니다.  "
   ]
  },
  {
   "cell_type": "markdown",
   "metadata": {},
   "source": [
    "### 1.1.2 데이터 불러오기"
   ]
  },
  {
   "cell_type": "code",
   "execution_count": 153,
   "metadata": {
    "ExecuteTime": {
     "end_time": "2022-10-29T12:42:06.015185Z",
     "start_time": "2022-10-29T12:42:05.989806Z"
    }
   },
   "outputs": [
    {
     "data": {
      "text/html": [
       "<div>\n",
       "<style scoped>\n",
       "    .dataframe tbody tr th:only-of-type {\n",
       "        vertical-align: middle;\n",
       "    }\n",
       "\n",
       "    .dataframe tbody tr th {\n",
       "        vertical-align: top;\n",
       "    }\n",
       "\n",
       "    .dataframe thead th {\n",
       "        text-align: right;\n",
       "    }\n",
       "</style>\n",
       "<table border=\"1\" class=\"dataframe\">\n",
       "  <thead>\n",
       "    <tr style=\"text-align: right;\">\n",
       "      <th></th>\n",
       "      <th>DATE</th>\n",
       "      <th>USSTHPI</th>\n",
       "    </tr>\n",
       "  </thead>\n",
       "  <tbody>\n",
       "    <tr>\n",
       "      <th>0</th>\n",
       "      <td>1975-01-01</td>\n",
       "      <td>60.03</td>\n",
       "    </tr>\n",
       "    <tr>\n",
       "      <th>1</th>\n",
       "      <td>1975-04-01</td>\n",
       "      <td>60.98</td>\n",
       "    </tr>\n",
       "    <tr>\n",
       "      <th>2</th>\n",
       "      <td>1975-07-01</td>\n",
       "      <td>61.14</td>\n",
       "    </tr>\n",
       "    <tr>\n",
       "      <th>3</th>\n",
       "      <td>1975-10-01</td>\n",
       "      <td>62.22</td>\n",
       "    </tr>\n",
       "    <tr>\n",
       "      <th>4</th>\n",
       "      <td>1976-01-01</td>\n",
       "      <td>62.85</td>\n",
       "    </tr>\n",
       "    <tr>\n",
       "      <th>...</th>\n",
       "      <td>...</td>\n",
       "      <td>...</td>\n",
       "    </tr>\n",
       "    <tr>\n",
       "      <th>185</th>\n",
       "      <td>2021-04-01</td>\n",
       "      <td>511.17</td>\n",
       "    </tr>\n",
       "    <tr>\n",
       "      <th>186</th>\n",
       "      <td>2021-07-01</td>\n",
       "      <td>539.60</td>\n",
       "    </tr>\n",
       "    <tr>\n",
       "      <th>187</th>\n",
       "      <td>2021-10-01</td>\n",
       "      <td>558.07</td>\n",
       "    </tr>\n",
       "    <tr>\n",
       "      <th>188</th>\n",
       "      <td>2022-01-01</td>\n",
       "      <td>578.58</td>\n",
       "    </tr>\n",
       "    <tr>\n",
       "      <th>189</th>\n",
       "      <td>2022-04-01</td>\n",
       "      <td>617.89</td>\n",
       "    </tr>\n",
       "  </tbody>\n",
       "</table>\n",
       "<p>190 rows × 2 columns</p>\n",
       "</div>"
      ],
      "text/plain": [
       "           DATE  USSTHPI\n",
       "0    1975-01-01    60.03\n",
       "1    1975-04-01    60.98\n",
       "2    1975-07-01    61.14\n",
       "3    1975-10-01    62.22\n",
       "4    1976-01-01    62.85\n",
       "..          ...      ...\n",
       "185  2021-04-01   511.17\n",
       "186  2021-07-01   539.60\n",
       "187  2021-10-01   558.07\n",
       "188  2022-01-01   578.58\n",
       "189  2022-04-01   617.89\n",
       "\n",
       "[190 rows x 2 columns]"
      ]
     },
     "execution_count": 153,
     "metadata": {},
     "output_type": "execute_result"
    }
   ],
   "source": [
    "# House_Price_Index_US\n",
    "df_us = pd.read_csv('./data/USSTHPI_2022.csv')\n",
    "df_us"
   ]
  },
  {
   "cell_type": "code",
   "execution_count": 154,
   "metadata": {
    "ExecuteTime": {
     "end_time": "2022-10-29T12:42:06.534564Z",
     "start_time": "2022-10-29T12:42:06.509850Z"
    }
   },
   "outputs": [
    {
     "data": {
      "text/plain": [
       "DATE        object\n",
       "USSTHPI    float64\n",
       "dtype: object"
      ]
     },
     "execution_count": 154,
     "metadata": {},
     "output_type": "execute_result"
    }
   ],
   "source": [
    "# 데이터 타입 확인\n",
    "df_us.dtypes\n",
    "\n",
    "# 현재 날짜는 문자열, 지수는 정수 타입입니다."
   ]
  },
  {
   "cell_type": "code",
   "execution_count": 155,
   "metadata": {
    "ExecuteTime": {
     "end_time": "2022-10-29T12:42:07.935108Z",
     "start_time": "2022-10-29T12:42:07.900760Z"
    }
   },
   "outputs": [
    {
     "name": "stdout",
     "output_type": "stream",
     "text": [
      "<class 'pandas.core.frame.DataFrame'>\n",
      "RangeIndex: 190 entries, 0 to 189\n",
      "Data columns (total 2 columns):\n",
      " #   Column   Non-Null Count  Dtype  \n",
      "---  ------   --------------  -----  \n",
      " 0   DATE     190 non-null    object \n",
      " 1   USSTHPI  190 non-null    float64\n",
      "dtypes: float64(1), object(1)\n",
      "memory usage: 3.1+ KB\n"
     ]
    }
   ],
   "source": [
    "df_us.info()"
   ]
  },
  {
   "cell_type": "markdown",
   "metadata": {},
   "source": [
    "### 1.1.3 데이터 타입 변경(시계열)"
   ]
  },
  {
   "cell_type": "code",
   "execution_count": 156,
   "metadata": {
    "ExecuteTime": {
     "end_time": "2022-10-29T12:42:08.419112Z",
     "start_time": "2022-10-29T12:42:08.382871Z"
    }
   },
   "outputs": [
    {
     "data": {
      "text/plain": [
       "0      1975-01-01\n",
       "1      1975-04-01\n",
       "2      1975-07-01\n",
       "3      1975-10-01\n",
       "4      1976-01-01\n",
       "          ...    \n",
       "185    2021-04-01\n",
       "186    2021-07-01\n",
       "187    2021-10-01\n",
       "188    2022-01-01\n",
       "189    2022-04-01\n",
       "Name: DATE, Length: 190, dtype: object"
      ]
     },
     "execution_count": 156,
     "metadata": {},
     "output_type": "execute_result"
    }
   ],
   "source": [
    "df_us['DATE']"
   ]
  },
  {
   "cell_type": "code",
   "execution_count": 157,
   "metadata": {
    "ExecuteTime": {
     "end_time": "2022-10-29T12:42:10.312923Z",
     "start_time": "2022-10-29T12:42:10.272316Z"
    }
   },
   "outputs": [
    {
     "name": "stdout",
     "output_type": "stream",
     "text": [
      "<class 'pandas.core.frame.DataFrame'>\n",
      "RangeIndex: 190 entries, 0 to 189\n",
      "Data columns (total 2 columns):\n",
      " #   Column   Non-Null Count  Dtype         \n",
      "---  ------   --------------  -----         \n",
      " 0   DATE     190 non-null    datetime64[ns]\n",
      " 1   USSTHPI  190 non-null    float64       \n",
      "dtypes: datetime64[ns](1), float64(1)\n",
      "memory usage: 3.1 KB\n"
     ]
    }
   ],
   "source": [
    "# 문자열로 되어 있는 칼럼을 날짜타입으로 변경해줍니다. convert the 'Date' column to datetime format\n",
    "df_us['DATE']= pd.to_datetime(df_us['DATE'])\n",
    " \n",
    "# Check the format of 'Date' column\n",
    "df_us.info()"
   ]
  },
  {
   "cell_type": "code",
   "execution_count": 158,
   "metadata": {
    "ExecuteTime": {
     "end_time": "2022-10-29T12:42:10.448154Z",
     "start_time": "2022-10-29T12:42:10.432528Z"
    }
   },
   "outputs": [
    {
     "data": {
      "text/plain": [
       "(190, 2)"
      ]
     },
     "execution_count": 158,
     "metadata": {},
     "output_type": "execute_result"
    }
   ],
   "source": [
    "df_us.shape"
   ]
  },
  {
   "cell_type": "markdown",
   "metadata": {},
   "source": [
    "### 1.1.4 미국 주택 가격지수 시각화"
   ]
  },
  {
   "cell_type": "markdown",
   "metadata": {
    "ExecuteTime": {
     "end_time": "2021-08-17T07:27:17.447717Z",
     "start_time": "2021-08-17T07:27:15.280238Z"
    }
   },
   "source": [
    "rc 파라미터 설정 : [matplotlib 공식 다큐먼트](https://matplotlib.org/stable/api/_as_gen/matplotlib.pyplot.rc.html)"
   ]
  },
  {
   "cell_type": "code",
   "execution_count": 9,
   "metadata": {
    "ExecuteTime": {
     "end_time": "2022-10-29T05:56:30.872788Z",
     "start_time": "2022-10-29T05:56:30.330204Z"
    }
   },
   "outputs": [
    {
     "data": {
      "text/plain": [
       "<AxesSubplot:xlabel='DATE'>"
      ]
     },
     "execution_count": 9,
     "metadata": {},
     "output_type": "execute_result"
    },
    {
     "data": {
      "image/png": "[encoded data removed]",
      "text/plain": [
       "<Figure size 864x288 with 1 Axes>"
      ]
     },
     "metadata": {
      "needs_background": "light"
     },
     "output_type": "display_data"
    }
   ],
   "source": [
    "import matplotlib.pyplot as plt\n",
    "# import datetime as dt\n",
    "\n",
    "plt.rc('figure', figsize=(12, 4))\n",
    "plt.rc('font', family='NanumGothic')\n",
    "\n",
    "# x축에 날짜, y축에 지수를 넣고 간단히 그려봅니다.\n",
    "df_us.plot('DATE', 'USSTHPI')"
   ]
  },
  {
   "cell_type": "code",
   "execution_count": 10,
   "metadata": {
    "ExecuteTime": {
     "end_time": "2022-10-29T05:57:02.044674Z",
     "start_time": "2022-10-29T05:57:02.029052Z"
    }
   },
   "outputs": [
    {
     "data": {
      "text/plain": [
       "[Timestamp('1975-01-01 00:00:00'),\n",
       " Timestamp('1975-04-01 00:00:00'),\n",
       " Timestamp('1975-07-01 00:00:00'),\n",
       " Timestamp('1975-10-01 00:00:00'),\n",
       " Timestamp('1976-01-01 00:00:00'),\n",
       " Timestamp('1976-04-01 00:00:00'),\n",
       " Timestamp('1976-07-01 00:00:00'),\n",
       " Timestamp('1976-10-01 00:00:00'),\n",
       " Timestamp('1977-01-01 00:00:00'),\n",
       " Timestamp('1977-04-01 00:00:00'),\n",
       " Timestamp('1977-07-01 00:00:00'),\n",
       " Timestamp('1977-10-01 00:00:00'),\n",
       " Timestamp('1978-01-01 00:00:00'),\n",
       " Timestamp('1978-04-01 00:00:00'),\n",
       " Timestamp('1978-07-01 00:00:00'),\n",
       " Timestamp('1978-10-01 00:00:00'),\n",
       " Timestamp('1979-01-01 00:00:00'),\n",
       " Timestamp('1979-04-01 00:00:00'),\n",
       " Timestamp('1979-07-01 00:00:00'),\n",
       " Timestamp('1979-10-01 00:00:00'),\n",
       " Timestamp('1980-01-01 00:00:00'),\n",
       " Timestamp('1980-04-01 00:00:00'),\n",
       " Timestamp('1980-07-01 00:00:00'),\n",
       " Timestamp('1980-10-01 00:00:00'),\n",
       " Timestamp('1981-01-01 00:00:00'),\n",
       " Timestamp('1981-04-01 00:00:00'),\n",
       " Timestamp('1981-07-01 00:00:00'),\n",
       " Timestamp('1981-10-01 00:00:00'),\n",
       " Timestamp('1982-01-01 00:00:00'),\n",
       " Timestamp('1982-04-01 00:00:00'),\n",
       " Timestamp('1982-07-01 00:00:00'),\n",
       " Timestamp('1982-10-01 00:00:00'),\n",
       " Timestamp('1983-01-01 00:00:00'),\n",
       " Timestamp('1983-04-01 00:00:00'),\n",
       " Timestamp('1983-07-01 00:00:00'),\n",
       " Timestamp('1983-10-01 00:00:00'),\n",
       " Timestamp('1984-01-01 00:00:00'),\n",
       " Timestamp('1984-04-01 00:00:00'),\n",
       " Timestamp('1984-07-01 00:00:00'),\n",
       " Timestamp('1984-10-01 00:00:00'),\n",
       " Timestamp('1985-01-01 00:00:00'),\n",
       " Timestamp('1985-04-01 00:00:00'),\n",
       " Timestamp('1985-07-01 00:00:00'),\n",
       " Timestamp('1985-10-01 00:00:00'),\n",
       " Timestamp('1986-01-01 00:00:00'),\n",
       " Timestamp('1986-04-01 00:00:00'),\n",
       " Timestamp('1986-07-01 00:00:00'),\n",
       " Timestamp('1986-10-01 00:00:00'),\n",
       " Timestamp('1987-01-01 00:00:00'),\n",
       " Timestamp('1987-04-01 00:00:00'),\n",
       " Timestamp('1987-07-01 00:00:00'),\n",
       " Timestamp('1987-10-01 00:00:00'),\n",
       " Timestamp('1988-01-01 00:00:00'),\n",
       " Timestamp('1988-04-01 00:00:00'),\n",
       " Timestamp('1988-07-01 00:00:00'),\n",
       " Timestamp('1988-10-01 00:00:00'),\n",
       " Timestamp('1989-01-01 00:00:00'),\n",
       " Timestamp('1989-04-01 00:00:00'),\n",
       " Timestamp('1989-07-01 00:00:00'),\n",
       " Timestamp('1989-10-01 00:00:00'),\n",
       " Timestamp('1990-01-01 00:00:00'),\n",
       " Timestamp('1990-04-01 00:00:00'),\n",
       " Timestamp('1990-07-01 00:00:00'),\n",
       " Timestamp('1990-10-01 00:00:00'),\n",
       " Timestamp('1991-01-01 00:00:00'),\n",
       " Timestamp('1991-04-01 00:00:00'),\n",
       " Timestamp('1991-07-01 00:00:00'),\n",
       " Timestamp('1991-10-01 00:00:00'),\n",
       " Timestamp('1992-01-01 00:00:00'),\n",
       " Timestamp('1992-04-01 00:00:00'),\n",
       " Timestamp('1992-07-01 00:00:00'),\n",
       " Timestamp('1992-10-01 00:00:00'),\n",
       " Timestamp('1993-01-01 00:00:00'),\n",
       " Timestamp('1993-04-01 00:00:00'),\n",
       " Timestamp('1993-07-01 00:00:00'),\n",
       " Timestamp('1993-10-01 00:00:00'),\n",
       " Timestamp('1994-01-01 00:00:00'),\n",
       " Timestamp('1994-04-01 00:00:00'),\n",
       " Timestamp('1994-07-01 00:00:00'),\n",
       " Timestamp('1994-10-01 00:00:00'),\n",
       " Timestamp('1995-01-01 00:00:00'),\n",
       " Timestamp('1995-04-01 00:00:00'),\n",
       " Timestamp('1995-07-01 00:00:00'),\n",
       " Timestamp('1995-10-01 00:00:00'),\n",
       " Timestamp('1996-01-01 00:00:00'),\n",
       " Timestamp('1996-04-01 00:00:00'),\n",
       " Timestamp('1996-07-01 00:00:00'),\n",
       " Timestamp('1996-10-01 00:00:00'),\n",
       " Timestamp('1997-01-01 00:00:00'),\n",
       " Timestamp('1997-04-01 00:00:00'),\n",
       " Timestamp('1997-07-01 00:00:00'),\n",
       " Timestamp('1997-10-01 00:00:00'),\n",
       " Timestamp('1998-01-01 00:00:00'),\n",
       " Timestamp('1998-04-01 00:00:00'),\n",
       " Timestamp('1998-07-01 00:00:00'),\n",
       " Timestamp('1998-10-01 00:00:00'),\n",
       " Timestamp('1999-01-01 00:00:00'),\n",
       " Timestamp('1999-04-01 00:00:00'),\n",
       " Timestamp('1999-07-01 00:00:00'),\n",
       " Timestamp('1999-10-01 00:00:00'),\n",
       " Timestamp('2000-01-01 00:00:00'),\n",
       " Timestamp('2000-04-01 00:00:00'),\n",
       " Timestamp('2000-07-01 00:00:00'),\n",
       " Timestamp('2000-10-01 00:00:00'),\n",
       " Timestamp('2001-01-01 00:00:00'),\n",
       " Timestamp('2001-04-01 00:00:00'),\n",
       " Timestamp('2001-07-01 00:00:00'),\n",
       " Timestamp('2001-10-01 00:00:00'),\n",
       " Timestamp('2002-01-01 00:00:00'),\n",
       " Timestamp('2002-04-01 00:00:00'),\n",
       " Timestamp('2002-07-01 00:00:00'),\n",
       " Timestamp('2002-10-01 00:00:00'),\n",
       " Timestamp('2003-01-01 00:00:00'),\n",
       " Timestamp('2003-04-01 00:00:00'),\n",
       " Timestamp('2003-07-01 00:00:00'),\n",
       " Timestamp('2003-10-01 00:00:00'),\n",
       " Timestamp('2004-01-01 00:00:00'),\n",
       " Timestamp('2004-04-01 00:00:00'),\n",
       " Timestamp('2004-07-01 00:00:00'),\n",
       " Timestamp('2004-10-01 00:00:00'),\n",
       " Timestamp('2005-01-01 00:00:00'),\n",
       " Timestamp('2005-04-01 00:00:00'),\n",
       " Timestamp('2005-07-01 00:00:00'),\n",
       " Timestamp('2005-10-01 00:00:00'),\n",
       " Timestamp('2006-01-01 00:00:00'),\n",
       " Timestamp('2006-04-01 00:00:00'),\n",
       " Timestamp('2006-07-01 00:00:00'),\n",
       " Timestamp('2006-10-01 00:00:00'),\n",
       " Timestamp('2007-01-01 00:00:00'),\n",
       " Timestamp('2007-04-01 00:00:00'),\n",
       " Timestamp('2007-07-01 00:00:00'),\n",
       " Timestamp('2007-10-01 00:00:00'),\n",
       " Timestamp('2008-01-01 00:00:00'),\n",
       " Timestamp('2008-04-01 00:00:00'),\n",
       " Timestamp('2008-07-01 00:00:00'),\n",
       " Timestamp('2008-10-01 00:00:00'),\n",
       " Timestamp('2009-01-01 00:00:00'),\n",
       " Timestamp('2009-04-01 00:00:00'),\n",
       " Timestamp('2009-07-01 00:00:00'),\n",
       " Timestamp('2009-10-01 00:00:00'),\n",
       " Timestamp('2010-01-01 00:00:00'),\n",
       " Timestamp('2010-04-01 00:00:00'),\n",
       " Timestamp('2010-07-01 00:00:00'),\n",
       " Timestamp('2010-10-01 00:00:00'),\n",
       " Timestamp('2011-01-01 00:00:00'),\n",
       " Timestamp('2011-04-01 00:00:00'),\n",
       " Timestamp('2011-07-01 00:00:00'),\n",
       " Timestamp('2011-10-01 00:00:00'),\n",
       " Timestamp('2012-01-01 00:00:00'),\n",
       " Timestamp('2012-04-01 00:00:00'),\n",
       " Timestamp('2012-07-01 00:00:00'),\n",
       " Timestamp('2012-10-01 00:00:00'),\n",
       " Timestamp('2013-01-01 00:00:00'),\n",
       " Timestamp('2013-04-01 00:00:00'),\n",
       " Timestamp('2013-07-01 00:00:00'),\n",
       " Timestamp('2013-10-01 00:00:00'),\n",
       " Timestamp('2014-01-01 00:00:00'),\n",
       " Timestamp('2014-04-01 00:00:00'),\n",
       " Timestamp('2014-07-01 00:00:00'),\n",
       " Timestamp('2014-10-01 00:00:00'),\n",
       " Timestamp('2015-01-01 00:00:00'),\n",
       " Timestamp('2015-04-01 00:00:00'),\n",
       " Timestamp('2015-07-01 00:00:00'),\n",
       " Timestamp('2015-10-01 00:00:00'),\n",
       " Timestamp('2016-01-01 00:00:00'),\n",
       " Timestamp('2016-04-01 00:00:00'),\n",
       " Timestamp('2016-07-01 00:00:00'),\n",
       " Timestamp('2016-10-01 00:00:00'),\n",
       " Timestamp('2017-01-01 00:00:00'),\n",
       " Timestamp('2017-04-01 00:00:00'),\n",
       " Timestamp('2017-07-01 00:00:00'),\n",
       " Timestamp('2017-10-01 00:00:00'),\n",
       " Timestamp('2018-01-01 00:00:00'),\n",
       " Timestamp('2018-04-01 00:00:00'),\n",
       " Timestamp('2018-07-01 00:00:00'),\n",
       " Timestamp('2018-10-01 00:00:00'),\n",
       " Timestamp('2019-01-01 00:00:00'),\n",
       " Timestamp('2019-04-01 00:00:00'),\n",
       " Timestamp('2019-07-01 00:00:00'),\n",
       " Timestamp('2019-10-01 00:00:00'),\n",
       " Timestamp('2020-01-01 00:00:00'),\n",
       " Timestamp('2020-04-01 00:00:00'),\n",
       " Timestamp('2020-07-01 00:00:00'),\n",
       " Timestamp('2020-10-01 00:00:00'),\n",
       " Timestamp('2021-01-01 00:00:00'),\n",
       " Timestamp('2021-04-01 00:00:00'),\n",
       " Timestamp('2021-07-01 00:00:00'),\n",
       " Timestamp('2021-10-01 00:00:00'),\n",
       " Timestamp('2022-01-01 00:00:00'),\n",
       " Timestamp('2022-04-01 00:00:00')]"
      ]
     },
     "execution_count": 10,
     "metadata": {},
     "output_type": "execute_result"
    }
   ],
   "source": [
    "# 리스트 [ ,   ,   ,]\n",
    "df_us['DATE'].to_list()"
   ]
  },
  {
   "cell_type": "code",
   "execution_count": 11,
   "metadata": {
    "ExecuteTime": {
     "end_time": "2022-10-29T05:57:08.368129Z",
     "start_time": "2022-10-29T05:57:08.352508Z"
    }
   },
   "outputs": [
    {
     "data": {
      "text/plain": [
       "[1975,\n",
       " 1975,\n",
       " 1975,\n",
       " 1975,\n",
       " 1976,\n",
       " 1976,\n",
       " 1976,\n",
       " 1976,\n",
       " 1977,\n",
       " 1977,\n",
       " 1977,\n",
       " 1977,\n",
       " 1978,\n",
       " 1978,\n",
       " 1978,\n",
       " 1978,\n",
       " 1979,\n",
       " 1979,\n",
       " 1979,\n",
       " 1979,\n",
       " 1980,\n",
       " 1980,\n",
       " 1980,\n",
       " 1980,\n",
       " 1981,\n",
       " 1981,\n",
       " 1981,\n",
       " 1981,\n",
       " 1982,\n",
       " 1982,\n",
       " 1982,\n",
       " 1982,\n",
       " 1983,\n",
       " 1983,\n",
       " 1983,\n",
       " 1983,\n",
       " 1984,\n",
       " 1984,\n",
       " 1984,\n",
       " 1984,\n",
       " 1985,\n",
       " 1985,\n",
       " 1985,\n",
       " 1985,\n",
       " 1986,\n",
       " 1986,\n",
       " 1986,\n",
       " 1986,\n",
       " 1987,\n",
       " 1987,\n",
       " 1987,\n",
       " 1987,\n",
       " 1988,\n",
       " 1988,\n",
       " 1988,\n",
       " 1988,\n",
       " 1989,\n",
       " 1989,\n",
       " 1989,\n",
       " 1989,\n",
       " 1990,\n",
       " 1990,\n",
       " 1990,\n",
       " 1990,\n",
       " 1991,\n",
       " 1991,\n",
       " 1991,\n",
       " 1991,\n",
       " 1992,\n",
       " 1992,\n",
       " 1992,\n",
       " 1992,\n",
       " 1993,\n",
       " 1993,\n",
       " 1993,\n",
       " 1993,\n",
       " 1994,\n",
       " 1994,\n",
       " 1994,\n",
       " 1994,\n",
       " 1995,\n",
       " 1995,\n",
       " 1995,\n",
       " 1995,\n",
       " 1996,\n",
       " 1996,\n",
       " 1996,\n",
       " 1996,\n",
       " 1997,\n",
       " 1997,\n",
       " 1997,\n",
       " 1997,\n",
       " 1998,\n",
       " 1998,\n",
       " 1998,\n",
       " 1998,\n",
       " 1999,\n",
       " 1999,\n",
       " 1999,\n",
       " 1999,\n",
       " 2000,\n",
       " 2000,\n",
       " 2000,\n",
       " 2000,\n",
       " 2001,\n",
       " 2001,\n",
       " 2001,\n",
       " 2001,\n",
       " 2002,\n",
       " 2002,\n",
       " 2002,\n",
       " 2002,\n",
       " 2003,\n",
       " 2003,\n",
       " 2003,\n",
       " 2003,\n",
       " 2004,\n",
       " 2004,\n",
       " 2004,\n",
       " 2004,\n",
       " 2005,\n",
       " 2005,\n",
       " 2005,\n",
       " 2005,\n",
       " 2006,\n",
       " 2006,\n",
       " 2006,\n",
       " 2006,\n",
       " 2007,\n",
       " 2007,\n",
       " 2007,\n",
       " 2007,\n",
       " 2008,\n",
       " 2008,\n",
       " 2008,\n",
       " 2008,\n",
       " 2009,\n",
       " 2009,\n",
       " 2009,\n",
       " 2009,\n",
       " 2010,\n",
       " 2010,\n",
       " 2010,\n",
       " 2010,\n",
       " 2011,\n",
       " 2011,\n",
       " 2011,\n",
       " 2011,\n",
       " 2012,\n",
       " 2012,\n",
       " 2012,\n",
       " 2012,\n",
       " 2013,\n",
       " 2013,\n",
       " 2013,\n",
       " 2013,\n",
       " 2014,\n",
       " 2014,\n",
       " 2014,\n",
       " 2014,\n",
       " 2015,\n",
       " 2015,\n",
       " 2015,\n",
       " 2015,\n",
       " 2016,\n",
       " 2016,\n",
       " 2016,\n",
       " 2016,\n",
       " 2017,\n",
       " 2017,\n",
       " 2017,\n",
       " 2017,\n",
       " 2018,\n",
       " 2018,\n",
       " 2018,\n",
       " 2018,\n",
       " 2019,\n",
       " 2019,\n",
       " 2019,\n",
       " 2019,\n",
       " 2020,\n",
       " 2020,\n",
       " 2020,\n",
       " 2020,\n",
       " 2021,\n",
       " 2021,\n",
       " 2021,\n",
       " 2021,\n",
       " 2022,\n",
       " 2022]"
      ]
     },
     "execution_count": 11,
     "metadata": {},
     "output_type": "execute_result"
    }
   ],
   "source": [
    "import datetime as dt\n",
    "xlabels = df_us['DATE'].dt.year.to_list() # 1975, 1975,1975, 1975, 1976....\n",
    "xlabels"
   ]
  },
  {
   "cell_type": "code",
   "execution_count": 12,
   "metadata": {
    "ExecuteTime": {
     "end_time": "2022-10-29T05:57:11.098125Z",
     "start_time": "2022-10-29T05:57:10.427382Z"
    }
   },
   "outputs": [
    {
     "data": {
      "image/png": "[encoded data removed]",
      "text/plain": [
       "<Figure size 864x288 with 1 Axes>"
      ]
     },
     "metadata": {
      "needs_background": "light"
     },
     "output_type": "display_data"
    }
   ],
   "source": [
    "xs      = df_us['DATE'].to_list()\n",
    "xlabels = df_us['DATE'].dt.year.to_list() # 1975, 1975,1975, 1975, 1976....\n",
    "\n",
    "ys      = df_us['USSTHPI'].to_list()\n",
    "\n",
    "plt.plot(xs, ys)\n",
    "\n",
    "plt.xticks(ticks=xs, labels=xlabels, rotation=45)\n",
    "plt.xlabel('DATE')\n",
    "plt.ylabel('USSTHPI')\n",
    "\n",
    "plt.locator_params(axis='x', nbins=len(xlabels)/4)"
   ]
  },
  {
   "cell_type": "code",
   "execution_count": 13,
   "metadata": {
    "ExecuteTime": {
     "end_time": "2022-10-29T05:57:16.020895Z",
     "start_time": "2022-10-29T05:57:16.005273Z"
    }
   },
   "outputs": [
    {
     "data": {
      "text/plain": [
       "0      1975\n",
       "1      1975\n",
       "2      1975\n",
       "3      1975\n",
       "4      1976\n",
       "       ... \n",
       "185    2021\n",
       "186    2021\n",
       "187    2021\n",
       "188    2022\n",
       "189    2022\n",
       "Name: DATE, Length: 190, dtype: int64"
      ]
     },
     "execution_count": 13,
     "metadata": {},
     "output_type": "execute_result"
    }
   ],
   "source": [
    "x=df_us['DATE'].dt.year\n",
    "x"
   ]
  },
  {
   "cell_type": "markdown",
   "metadata": {},
   "source": [
    "## 1.2 한국 공동주택 가격지수 데이터 수집"
   ]
  },
  {
   "cell_type": "markdown",
   "metadata": {},
   "source": [
    "### 1.2.1 KOSIS 국가통계포털 제공 데이터 수집\n",
    "* 지수명 : 공동주택 통합 매매 실거래가격지수 (한국부동산원. 2017.11 = 100) cf. 종합주택매매가격지수(2021.6 지수 = 100) \n",
    "* 기준년월 : 2017.11 지수 - 100 (2021.6 지수 = 100)\n",
    "* 수집방법 : 지수산정기간 중 거래신고가 2번 이상 있는 동일 아파트의 가격변동률과 거래량으로 지수 산출\n",
    "* 조사기관 : [한국부동산원](http://www.r-one.co.kr/rone/resis/statistics/statisticsViewer.do?menuId=HOUSE_21111)\n",
    "* 제공링크 : https://kosis.kr/statHtml/statHtml.do?orgId=408&tblId=DT_KAB_11672_S13&conn_path=I2\n",
    "* 다운로드 : 1) 항목탭 : \"지수\" 선택  2) 행정구역별탭 : \"전국\" 선택  3) 시점탭 : 2006.01 ~ 2021.06 선택  4) 통계표 조회 버튼 클릭\n",
    "5) 행렬전환 6) 다운로드 버튼 클릭   7) CSV 파일로 저장하고 경로설정"
   ]
  },
  {
   "cell_type": "markdown",
   "metadata": {},
   "source": [
    "### 1.2.2 데이터 불러오기"
   ]
  },
  {
   "cell_type": "code",
   "execution_count": 14,
   "metadata": {
    "ExecuteTime": {
     "end_time": "2022-10-29T05:57:19.431440Z",
     "start_time": "2022-10-29T05:57:18.335202Z"
    },
    "scrolled": true
   },
   "outputs": [
    {
     "data": {
      "text/html": [
       "<div>\n",
       "<style scoped>\n",
       "    .dataframe tbody tr th:only-of-type {\n",
       "        vertical-align: middle;\n",
       "    }\n",
       "\n",
       "    .dataframe tbody tr th {\n",
       "        vertical-align: top;\n",
       "    }\n",
       "\n",
       "    .dataframe thead th {\n",
       "        text-align: right;\n",
       "    }\n",
       "</style>\n",
       "<table border=\"1\" class=\"dataframe\">\n",
       "  <thead>\n",
       "    <tr style=\"text-align: right;\">\n",
       "      <th></th>\n",
       "      <th>시점</th>\n",
       "      <th>전국</th>\n",
       "    </tr>\n",
       "  </thead>\n",
       "  <tbody>\n",
       "    <tr>\n",
       "      <th>0</th>\n",
       "      <td>시점</td>\n",
       "      <td>지수 (2017.11 = 100.0)</td>\n",
       "    </tr>\n",
       "    <tr>\n",
       "      <th>1</th>\n",
       "      <td>2006.01</td>\n",
       "      <td>60.3</td>\n",
       "    </tr>\n",
       "    <tr>\n",
       "      <th>2</th>\n",
       "      <td>2006.02</td>\n",
       "      <td>60.8</td>\n",
       "    </tr>\n",
       "    <tr>\n",
       "      <th>3</th>\n",
       "      <td>2006.03</td>\n",
       "      <td>61.5</td>\n",
       "    </tr>\n",
       "    <tr>\n",
       "      <th>4</th>\n",
       "      <td>2006.04</td>\n",
       "      <td>62</td>\n",
       "    </tr>\n",
       "    <tr>\n",
       "      <th>...</th>\n",
       "      <td>...</td>\n",
       "      <td>...</td>\n",
       "    </tr>\n",
       "    <tr>\n",
       "      <th>194</th>\n",
       "      <td>2022.02</td>\n",
       "      <td>135</td>\n",
       "    </tr>\n",
       "    <tr>\n",
       "      <th>195</th>\n",
       "      <td>2022.03</td>\n",
       "      <td>135.7</td>\n",
       "    </tr>\n",
       "    <tr>\n",
       "      <th>196</th>\n",
       "      <td>2022.04</td>\n",
       "      <td>136.8</td>\n",
       "    </tr>\n",
       "    <tr>\n",
       "      <th>197</th>\n",
       "      <td>2022.05</td>\n",
       "      <td>136.1</td>\n",
       "    </tr>\n",
       "    <tr>\n",
       "      <th>198</th>\n",
       "      <td>2022.06</td>\n",
       "      <td>136.1</td>\n",
       "    </tr>\n",
       "  </tbody>\n",
       "</table>\n",
       "<p>199 rows × 2 columns</p>\n",
       "</div>"
      ],
      "text/plain": [
       "          시점                    전국\n",
       "0         시점  지수 (2017.11 = 100.0)\n",
       "1    2006.01                  60.3\n",
       "2    2006.02                  60.8\n",
       "3    2006.03                  61.5\n",
       "4    2006.04                    62\n",
       "..       ...                   ...\n",
       "194  2022.02                   135\n",
       "195  2022.03                 135.7\n",
       "196  2022.04                 136.8\n",
       "197  2022.05                 136.1\n",
       "198  2022.06                 136.1\n",
       "\n",
       "[199 rows x 2 columns]"
      ]
     },
     "execution_count": 14,
     "metadata": {},
     "output_type": "execute_result"
    }
   ],
   "source": [
    "# 경고메세지 삭제\n",
    "import warnings\n",
    "warnings.simplefilter(\"ignore\")\n",
    "\n",
    "# 한국 공동주택 매매가격지수 불러오기\n",
    "df_kr = pd.read_excel('./data/공동주택_통합_매매_실거래가격지수_20220919162854.xlsx', engine='openpyxl')\n",
    "df_kr"
   ]
  },
  {
   "cell_type": "code",
   "execution_count": 15,
   "metadata": {
    "ExecuteTime": {
     "end_time": "2022-10-29T05:57:37.569933Z",
     "start_time": "2022-10-29T05:57:37.554807Z"
    }
   },
   "outputs": [],
   "source": [
    "# 1번째 행부터 끝행 까지 데이터를 추출\n",
    "df_kr = df_kr[1::]"
   ]
  },
  {
   "cell_type": "code",
   "execution_count": 16,
   "metadata": {
    "ExecuteTime": {
     "end_time": "2022-10-29T05:57:38.677580Z",
     "start_time": "2022-10-29T05:57:38.661958Z"
    }
   },
   "outputs": [
    {
     "data": {
      "text/html": [
       "<div>\n",
       "<style scoped>\n",
       "    .dataframe tbody tr th:only-of-type {\n",
       "        vertical-align: middle;\n",
       "    }\n",
       "\n",
       "    .dataframe tbody tr th {\n",
       "        vertical-align: top;\n",
       "    }\n",
       "\n",
       "    .dataframe thead th {\n",
       "        text-align: right;\n",
       "    }\n",
       "</style>\n",
       "<table border=\"1\" class=\"dataframe\">\n",
       "  <thead>\n",
       "    <tr style=\"text-align: right;\">\n",
       "      <th></th>\n",
       "      <th>시점</th>\n",
       "      <th>전국</th>\n",
       "    </tr>\n",
       "  </thead>\n",
       "  <tbody>\n",
       "    <tr>\n",
       "      <th>1</th>\n",
       "      <td>2006.01</td>\n",
       "      <td>60.3</td>\n",
       "    </tr>\n",
       "    <tr>\n",
       "      <th>2</th>\n",
       "      <td>2006.02</td>\n",
       "      <td>60.8</td>\n",
       "    </tr>\n",
       "    <tr>\n",
       "      <th>3</th>\n",
       "      <td>2006.03</td>\n",
       "      <td>61.5</td>\n",
       "    </tr>\n",
       "    <tr>\n",
       "      <th>4</th>\n",
       "      <td>2006.04</td>\n",
       "      <td>62</td>\n",
       "    </tr>\n",
       "    <tr>\n",
       "      <th>5</th>\n",
       "      <td>2006.05</td>\n",
       "      <td>62.6</td>\n",
       "    </tr>\n",
       "    <tr>\n",
       "      <th>...</th>\n",
       "      <td>...</td>\n",
       "      <td>...</td>\n",
       "    </tr>\n",
       "    <tr>\n",
       "      <th>194</th>\n",
       "      <td>2022.02</td>\n",
       "      <td>135</td>\n",
       "    </tr>\n",
       "    <tr>\n",
       "      <th>195</th>\n",
       "      <td>2022.03</td>\n",
       "      <td>135.7</td>\n",
       "    </tr>\n",
       "    <tr>\n",
       "      <th>196</th>\n",
       "      <td>2022.04</td>\n",
       "      <td>136.8</td>\n",
       "    </tr>\n",
       "    <tr>\n",
       "      <th>197</th>\n",
       "      <td>2022.05</td>\n",
       "      <td>136.1</td>\n",
       "    </tr>\n",
       "    <tr>\n",
       "      <th>198</th>\n",
       "      <td>2022.06</td>\n",
       "      <td>136.1</td>\n",
       "    </tr>\n",
       "  </tbody>\n",
       "</table>\n",
       "<p>198 rows × 2 columns</p>\n",
       "</div>"
      ],
      "text/plain": [
       "          시점     전국\n",
       "1    2006.01   60.3\n",
       "2    2006.02   60.8\n",
       "3    2006.03   61.5\n",
       "4    2006.04     62\n",
       "5    2006.05   62.6\n",
       "..       ...    ...\n",
       "194  2022.02    135\n",
       "195  2022.03  135.7\n",
       "196  2022.04  136.8\n",
       "197  2022.05  136.1\n",
       "198  2022.06  136.1\n",
       "\n",
       "[198 rows x 2 columns]"
      ]
     },
     "execution_count": 16,
     "metadata": {},
     "output_type": "execute_result"
    }
   ],
   "source": [
    "df_kr"
   ]
  },
  {
   "cell_type": "code",
   "execution_count": 17,
   "metadata": {
    "ExecuteTime": {
     "end_time": "2022-10-29T05:57:41.973774Z",
     "start_time": "2022-10-29T05:57:41.949816Z"
    }
   },
   "outputs": [
    {
     "data": {
      "text/plain": [
       "0     1975-01-01\n",
       "1     1975-04-01\n",
       "2     1975-07-01\n",
       "3     1975-10-01\n",
       "4     1976-01-01\n",
       "         ...    \n",
       "185   2021-04-01\n",
       "186   2021-07-01\n",
       "187   2021-10-01\n",
       "188   2022-01-01\n",
       "189   2022-04-01\n",
       "Name: DATE, Length: 190, dtype: datetime64[ns]"
      ]
     },
     "execution_count": 17,
     "metadata": {},
     "output_type": "execute_result"
    }
   ],
   "source": [
    "df_us['DATE']"
   ]
  },
  {
   "cell_type": "code",
   "execution_count": 18,
   "metadata": {
    "ExecuteTime": {
     "end_time": "2022-10-29T05:57:42.917762Z",
     "start_time": "2022-10-29T05:57:42.886520Z"
    }
   },
   "outputs": [
    {
     "data": {
      "text/plain": [
       "1      2006.01\n",
       "2      2006.02\n",
       "3      2006.03\n",
       "4      2006.04\n",
       "5      2006.05\n",
       "        ...   \n",
       "194    2022.02\n",
       "195    2022.03\n",
       "196    2022.04\n",
       "197    2022.05\n",
       "198    2022.06\n",
       "Name: 시점, Length: 198, dtype: object"
      ]
     },
     "execution_count": 18,
     "metadata": {},
     "output_type": "execute_result"
    }
   ],
   "source": [
    "df_kr['시점']"
   ]
  },
  {
   "cell_type": "code",
   "execution_count": 19,
   "metadata": {
    "ExecuteTime": {
     "end_time": "2022-09-19T08:04:05.753398Z",
     "start_time": "2022-09-19T08:04:05.741437Z"
    }
   },
   "outputs": [],
   "source": [
    "# 2가지 문제점 발생.\n",
    "# 1. 데이터 타입이 object\n",
    "# 2. 미국은 2021-04-01 이고, 한국은 2006.01 으로 표현이 다릅니다.\n",
    "\n",
    "# 한국 공동주택 매매가격지수의 시점 칼럼의 데이터 타입도 마찬가지로 문자열 -> datetime으로 변환해주어야 합니다."
   ]
  },
  {
   "cell_type": "code",
   "execution_count": 20,
   "metadata": {
    "ExecuteTime": {
     "end_time": "2022-09-19T08:04:05.768348Z",
     "start_time": "2022-09-19T08:04:05.757383Z"
    }
   },
   "outputs": [],
   "source": [
    "# pd.to_datetime(df_us['DATE'])"
   ]
  },
  {
   "cell_type": "markdown",
   "metadata": {},
   "source": [
    "### 1.2.3 데이터 타입 변경(시계열)"
   ]
  },
  {
   "cell_type": "code",
   "execution_count": 19,
   "metadata": {
    "ExecuteTime": {
     "end_time": "2022-10-29T05:57:54.103731Z",
     "start_time": "2022-10-29T05:57:54.069918Z"
    }
   },
   "outputs": [
    {
     "data": {
      "text/plain": [
       "1     2006-01-01\n",
       "2     2006-02-01\n",
       "3     2006-03-01\n",
       "4     2006-04-01\n",
       "5     2006-05-01\n",
       "         ...    \n",
       "194   2022-02-01\n",
       "195   2022-03-01\n",
       "196   2022-04-01\n",
       "197   2022-05-01\n",
       "198   2022-06-01\n",
       "Name: 시점, Length: 198, dtype: datetime64[ns]"
      ]
     },
     "execution_count": 19,
     "metadata": {},
     "output_type": "execute_result"
    }
   ],
   "source": [
    "# 시리즈(Series) 데이터를 시계열로 변환하는 방법\n",
    "pd.to_datetime(df_kr['시점']) "
   ]
  },
  {
   "cell_type": "code",
   "execution_count": 22,
   "metadata": {
    "ExecuteTime": {
     "end_time": "2022-09-19T08:04:05.798318Z",
     "start_time": "2022-09-19T08:04:05.787284Z"
    }
   },
   "outputs": [],
   "source": [
    "# 잘못된 예\n",
    "# df_kr['시점'].to_datetime\n",
    "# >>> 'Series' object has no attribute 'to_datetime'"
   ]
  },
  {
   "cell_type": "code",
   "execution_count": 159,
   "metadata": {
    "ExecuteTime": {
     "end_time": "2022-10-29T12:42:33.762362Z",
     "start_time": "2022-10-29T12:42:33.746741Z"
    }
   },
   "outputs": [],
   "source": [
    "import warnings\n",
    "warnings.filterwarnings(\"ignore\")\n",
    "\n",
    "# to_datetime() 함수는 inplace = True 라는 인자가 없습니다.\n",
    "\n",
    "df_us['Time'] = pd.to_datetime(df_us['DATE'])\n",
    "df_kr['Time'] = pd.to_datetime(df_kr['시점'])"
   ]
  },
  {
   "cell_type": "code",
   "execution_count": 21,
   "metadata": {
    "ExecuteTime": {
     "end_time": "2022-10-29T05:58:25.078411Z",
     "start_time": "2022-10-29T05:58:25.057872Z"
    }
   },
   "outputs": [
    {
     "data": {
      "text/html": [
       "<div>\n",
       "<style scoped>\n",
       "    .dataframe tbody tr th:only-of-type {\n",
       "        vertical-align: middle;\n",
       "    }\n",
       "\n",
       "    .dataframe tbody tr th {\n",
       "        vertical-align: top;\n",
       "    }\n",
       "\n",
       "    .dataframe thead th {\n",
       "        text-align: right;\n",
       "    }\n",
       "</style>\n",
       "<table border=\"1\" class=\"dataframe\">\n",
       "  <thead>\n",
       "    <tr style=\"text-align: right;\">\n",
       "      <th></th>\n",
       "      <th>시점</th>\n",
       "      <th>전국</th>\n",
       "      <th>Time</th>\n",
       "    </tr>\n",
       "  </thead>\n",
       "  <tbody>\n",
       "    <tr>\n",
       "      <th>1</th>\n",
       "      <td>2006.01</td>\n",
       "      <td>60.3</td>\n",
       "      <td>2006-01-01</td>\n",
       "    </tr>\n",
       "    <tr>\n",
       "      <th>2</th>\n",
       "      <td>2006.02</td>\n",
       "      <td>60.8</td>\n",
       "      <td>2006-02-01</td>\n",
       "    </tr>\n",
       "    <tr>\n",
       "      <th>3</th>\n",
       "      <td>2006.03</td>\n",
       "      <td>61.5</td>\n",
       "      <td>2006-03-01</td>\n",
       "    </tr>\n",
       "    <tr>\n",
       "      <th>4</th>\n",
       "      <td>2006.04</td>\n",
       "      <td>62</td>\n",
       "      <td>2006-04-01</td>\n",
       "    </tr>\n",
       "    <tr>\n",
       "      <th>5</th>\n",
       "      <td>2006.05</td>\n",
       "      <td>62.6</td>\n",
       "      <td>2006-05-01</td>\n",
       "    </tr>\n",
       "    <tr>\n",
       "      <th>...</th>\n",
       "      <td>...</td>\n",
       "      <td>...</td>\n",
       "      <td>...</td>\n",
       "    </tr>\n",
       "    <tr>\n",
       "      <th>194</th>\n",
       "      <td>2022.02</td>\n",
       "      <td>135</td>\n",
       "      <td>2022-02-01</td>\n",
       "    </tr>\n",
       "    <tr>\n",
       "      <th>195</th>\n",
       "      <td>2022.03</td>\n",
       "      <td>135.7</td>\n",
       "      <td>2022-03-01</td>\n",
       "    </tr>\n",
       "    <tr>\n",
       "      <th>196</th>\n",
       "      <td>2022.04</td>\n",
       "      <td>136.8</td>\n",
       "      <td>2022-04-01</td>\n",
       "    </tr>\n",
       "    <tr>\n",
       "      <th>197</th>\n",
       "      <td>2022.05</td>\n",
       "      <td>136.1</td>\n",
       "      <td>2022-05-01</td>\n",
       "    </tr>\n",
       "    <tr>\n",
       "      <th>198</th>\n",
       "      <td>2022.06</td>\n",
       "      <td>136.1</td>\n",
       "      <td>2022-06-01</td>\n",
       "    </tr>\n",
       "  </tbody>\n",
       "</table>\n",
       "<p>198 rows × 3 columns</p>\n",
       "</div>"
      ],
      "text/plain": [
       "          시점     전국       Time\n",
       "1    2006.01   60.3 2006-01-01\n",
       "2    2006.02   60.8 2006-02-01\n",
       "3    2006.03   61.5 2006-03-01\n",
       "4    2006.04     62 2006-04-01\n",
       "5    2006.05   62.6 2006-05-01\n",
       "..       ...    ...        ...\n",
       "194  2022.02    135 2022-02-01\n",
       "195  2022.03  135.7 2022-03-01\n",
       "196  2022.04  136.8 2022-04-01\n",
       "197  2022.05  136.1 2022-05-01\n",
       "198  2022.06  136.1 2022-06-01\n",
       "\n",
       "[198 rows x 3 columns]"
      ]
     },
     "execution_count": 21,
     "metadata": {},
     "output_type": "execute_result"
    }
   ],
   "source": [
    "df_kr"
   ]
  },
  {
   "cell_type": "markdown",
   "metadata": {},
   "source": [
    "### [참고 Tutorial] 데이터 추출하기 : iloc와 loc 차이\n",
    "\n",
    "1. iloc  \n",
    "integer location의 약어. 데이터프레임의 행이나 칼럼을 순서를 index(정수값)으로 추출하는 방식\n",
    "df.iloc[행 인덱스, 열 인덱스]\n",
    "\n",
    "2. loc  \n",
    "loc는 칼럼명을 직접 적거나 특정조건식을 써서 사람이 읽기 편하게 데이터에 접근\n",
    "df.loc[행 이름, 열 이름]\n",
    "\n",
    "[pandas 공식 튜토리얼](https://pandas.pydata.org/pandas-docs/stable/user_guide/indexing.html#returning-a-view-versus-a-copy)"
   ]
  },
  {
   "cell_type": "code",
   "execution_count": 22,
   "metadata": {
    "ExecuteTime": {
     "end_time": "2022-10-29T05:59:00.972775Z",
     "start_time": "2022-10-29T05:59:00.955829Z"
    },
    "scrolled": true
   },
   "outputs": [
    {
     "data": {
      "text/plain": [
       "시점                  2006.01\n",
       "전국                     60.3\n",
       "Time    2006-01-01 00:00:00\n",
       "Name: 1, dtype: object"
      ]
     },
     "execution_count": 22,
     "metadata": {},
     "output_type": "execute_result"
    }
   ],
   "source": [
    "df_kr.iloc[0]"
   ]
  },
  {
   "cell_type": "code",
   "execution_count": 23,
   "metadata": {
    "ExecuteTime": {
     "end_time": "2022-10-29T05:59:01.376941Z",
     "start_time": "2022-10-29T05:59:01.358989Z"
    }
   },
   "outputs": [
    {
     "data": {
      "text/plain": [
       "시점                  2006.01\n",
       "전국                     60.3\n",
       "Time    2006-01-01 00:00:00\n",
       "Name: 1, dtype: object"
      ]
     },
     "execution_count": 23,
     "metadata": {},
     "output_type": "execute_result"
    }
   ],
   "source": [
    "df_kr.loc[1]"
   ]
  },
  {
   "cell_type": "code",
   "execution_count": 24,
   "metadata": {
    "ExecuteTime": {
     "end_time": "2022-10-29T05:59:02.079973Z",
     "start_time": "2022-10-29T05:59:02.074076Z"
    }
   },
   "outputs": [
    {
     "data": {
      "text/plain": [
       "60.3"
      ]
     },
     "execution_count": 24,
     "metadata": {},
     "output_type": "execute_result"
    }
   ],
   "source": [
    "#loc 행이름 열이름\n",
    "df_kr.loc[1]['전국']"
   ]
  },
  {
   "cell_type": "code",
   "execution_count": 160,
   "metadata": {
    "ExecuteTime": {
     "end_time": "2022-10-29T12:42:40.003483Z",
     "start_time": "2022-10-29T12:42:39.969465Z"
    }
   },
   "outputs": [
    {
     "data": {
      "text/plain": [
       "0     1975-01-01\n",
       "1     1975-04-01\n",
       "2     1975-07-01\n",
       "3     1975-10-01\n",
       "4     1976-01-01\n",
       "         ...    \n",
       "185   2021-04-01\n",
       "186   2021-07-01\n",
       "187   2021-10-01\n",
       "188   2022-01-01\n",
       "189   2022-04-01\n",
       "Name: Time, Length: 190, dtype: datetime64[ns]"
      ]
     },
     "execution_count": 160,
     "metadata": {},
     "output_type": "execute_result"
    }
   ],
   "source": [
    "df_us['Time']"
   ]
  },
  {
   "cell_type": "code",
   "execution_count": 26,
   "metadata": {
    "ExecuteTime": {
     "end_time": "2022-10-29T05:59:07.203155Z",
     "start_time": "2022-10-29T05:59:07.192483Z"
    },
    "scrolled": true
   },
   "outputs": [
    {
     "data": {
      "text/plain": [
       "1     2006-01-01\n",
       "2     2006-02-01\n",
       "3     2006-03-01\n",
       "4     2006-04-01\n",
       "5     2006-05-01\n",
       "         ...    \n",
       "194   2022-02-01\n",
       "195   2022-03-01\n",
       "196   2022-04-01\n",
       "197   2022-05-01\n",
       "198   2022-06-01\n",
       "Name: Time, Length: 198, dtype: datetime64[ns]"
      ]
     },
     "execution_count": 26,
     "metadata": {},
     "output_type": "execute_result"
    }
   ],
   "source": [
    "df_kr['Time']"
   ]
  },
  {
   "cell_type": "markdown",
   "metadata": {},
   "source": [
    "## 1.3 한국 데이터와 미국 데이터 병합(Merge)"
   ]
  },
  {
   "cell_type": "markdown",
   "metadata": {},
   "source": [
    "### 1.3.1 pd.merge_asof 함수\n",
    "Time-series friendly merging\n",
    "\n",
    "* pandas는 시계열 데이터 프레임을 합 칠수 있는 특별할 함수를 제공합니다.\n",
    "* 완전히 일치하는 키 대신에 direction='nearest' 가장 근접한 키를 기반으로 하는 점을 제외하면 left-join과 유사합니다.\n",
    "* 좌측 데이터 프레임의 각 행에 대해, 좌측 프레임의 키보다 적은 우측 프레임에서 최종 행을 선택합니다."
   ]
  },
  {
   "cell_type": "code",
   "execution_count": 27,
   "metadata": {
    "ExecuteTime": {
     "end_time": "2022-10-29T07:29:25.372790Z",
     "start_time": "2022-10-29T07:29:25.361819Z"
    }
   },
   "outputs": [],
   "source": [
    "df_merged = pd.merge_asof(\n",
    "    df_us, df_kr,\n",
    "    on='Time', direction='nearest')"
   ]
  },
  {
   "cell_type": "code",
   "execution_count": 28,
   "metadata": {
    "ExecuteTime": {
     "end_time": "2022-10-29T07:29:26.331350Z",
     "start_time": "2022-10-29T07:29:26.319302Z"
    }
   },
   "outputs": [
    {
     "data": {
      "text/html": [
       "<div>\n",
       "<style scoped>\n",
       "    .dataframe tbody tr th:only-of-type {\n",
       "        vertical-align: middle;\n",
       "    }\n",
       "\n",
       "    .dataframe tbody tr th {\n",
       "        vertical-align: top;\n",
       "    }\n",
       "\n",
       "    .dataframe thead th {\n",
       "        text-align: right;\n",
       "    }\n",
       "</style>\n",
       "<table border=\"1\" class=\"dataframe\">\n",
       "  <thead>\n",
       "    <tr style=\"text-align: right;\">\n",
       "      <th></th>\n",
       "      <th>DATE</th>\n",
       "      <th>USSTHPI</th>\n",
       "      <th>Time</th>\n",
       "      <th>시점</th>\n",
       "      <th>전국</th>\n",
       "    </tr>\n",
       "  </thead>\n",
       "  <tbody>\n",
       "    <tr>\n",
       "      <th>0</th>\n",
       "      <td>1975-01-01</td>\n",
       "      <td>60.03</td>\n",
       "      <td>1975-01-01</td>\n",
       "      <td>2006.01</td>\n",
       "      <td>60.3</td>\n",
       "    </tr>\n",
       "    <tr>\n",
       "      <th>1</th>\n",
       "      <td>1975-04-01</td>\n",
       "      <td>60.98</td>\n",
       "      <td>1975-04-01</td>\n",
       "      <td>2006.01</td>\n",
       "      <td>60.3</td>\n",
       "    </tr>\n",
       "    <tr>\n",
       "      <th>2</th>\n",
       "      <td>1975-07-01</td>\n",
       "      <td>61.14</td>\n",
       "      <td>1975-07-01</td>\n",
       "      <td>2006.01</td>\n",
       "      <td>60.3</td>\n",
       "    </tr>\n",
       "    <tr>\n",
       "      <th>3</th>\n",
       "      <td>1975-10-01</td>\n",
       "      <td>62.22</td>\n",
       "      <td>1975-10-01</td>\n",
       "      <td>2006.01</td>\n",
       "      <td>60.3</td>\n",
       "    </tr>\n",
       "    <tr>\n",
       "      <th>4</th>\n",
       "      <td>1976-01-01</td>\n",
       "      <td>62.85</td>\n",
       "      <td>1976-01-01</td>\n",
       "      <td>2006.01</td>\n",
       "      <td>60.3</td>\n",
       "    </tr>\n",
       "    <tr>\n",
       "      <th>...</th>\n",
       "      <td>...</td>\n",
       "      <td>...</td>\n",
       "      <td>...</td>\n",
       "      <td>...</td>\n",
       "      <td>...</td>\n",
       "    </tr>\n",
       "    <tr>\n",
       "      <th>185</th>\n",
       "      <td>2021-04-01</td>\n",
       "      <td>511.17</td>\n",
       "      <td>2021-04-01</td>\n",
       "      <td>2021.04</td>\n",
       "      <td>124.2</td>\n",
       "    </tr>\n",
       "    <tr>\n",
       "      <th>186</th>\n",
       "      <td>2021-07-01</td>\n",
       "      <td>539.60</td>\n",
       "      <td>2021-07-01</td>\n",
       "      <td>2021.07</td>\n",
       "      <td>130.8</td>\n",
       "    </tr>\n",
       "    <tr>\n",
       "      <th>187</th>\n",
       "      <td>2021-10-01</td>\n",
       "      <td>558.07</td>\n",
       "      <td>2021-10-01</td>\n",
       "      <td>2021.10</td>\n",
       "      <td>137</td>\n",
       "    </tr>\n",
       "    <tr>\n",
       "      <th>188</th>\n",
       "      <td>2022-01-01</td>\n",
       "      <td>578.58</td>\n",
       "      <td>2022-01-01</td>\n",
       "      <td>2022.01</td>\n",
       "      <td>135.4</td>\n",
       "    </tr>\n",
       "    <tr>\n",
       "      <th>189</th>\n",
       "      <td>2022-04-01</td>\n",
       "      <td>617.89</td>\n",
       "      <td>2022-04-01</td>\n",
       "      <td>2022.04</td>\n",
       "      <td>136.8</td>\n",
       "    </tr>\n",
       "  </tbody>\n",
       "</table>\n",
       "<p>190 rows × 5 columns</p>\n",
       "</div>"
      ],
      "text/plain": [
       "          DATE  USSTHPI       Time       시점     전국\n",
       "0   1975-01-01    60.03 1975-01-01  2006.01   60.3\n",
       "1   1975-04-01    60.98 1975-04-01  2006.01   60.3\n",
       "2   1975-07-01    61.14 1975-07-01  2006.01   60.3\n",
       "3   1975-10-01    62.22 1975-10-01  2006.01   60.3\n",
       "4   1976-01-01    62.85 1976-01-01  2006.01   60.3\n",
       "..         ...      ...        ...      ...    ...\n",
       "185 2021-04-01   511.17 2021-04-01  2021.04  124.2\n",
       "186 2021-07-01   539.60 2021-07-01  2021.07  130.8\n",
       "187 2021-10-01   558.07 2021-10-01  2021.10    137\n",
       "188 2022-01-01   578.58 2022-01-01  2022.01  135.4\n",
       "189 2022-04-01   617.89 2022-04-01  2022.04  136.8\n",
       "\n",
       "[190 rows x 5 columns]"
      ]
     },
     "execution_count": 28,
     "metadata": {},
     "output_type": "execute_result"
    }
   ],
   "source": [
    "df_merged "
   ]
  },
  {
   "cell_type": "code",
   "execution_count": 29,
   "metadata": {
    "ExecuteTime": {
     "end_time": "2022-10-29T07:30:22.999793Z",
     "start_time": "2022-10-29T07:30:22.984808Z"
    }
   },
   "outputs": [],
   "source": [
    "# 시점(Time)이 정확히 일치하는 값만 병합해줍니다.\n",
    "\n",
    "df_merged = pd.merge_asof(\n",
    "    df_us.sort_values(by='Time'), df_kr.sort_values(by='Time'),\n",
    "    on='Time', allow_exact_matches=True)"
   ]
  },
  {
   "cell_type": "code",
   "execution_count": 30,
   "metadata": {
    "ExecuteTime": {
     "end_time": "2022-10-29T07:30:24.304704Z",
     "start_time": "2022-10-29T07:30:24.287388Z"
    }
   },
   "outputs": [
    {
     "data": {
      "text/html": [
       "<div>\n",
       "<style scoped>\n",
       "    .dataframe tbody tr th:only-of-type {\n",
       "        vertical-align: middle;\n",
       "    }\n",
       "\n",
       "    .dataframe tbody tr th {\n",
       "        vertical-align: top;\n",
       "    }\n",
       "\n",
       "    .dataframe thead th {\n",
       "        text-align: right;\n",
       "    }\n",
       "</style>\n",
       "<table border=\"1\" class=\"dataframe\">\n",
       "  <thead>\n",
       "    <tr style=\"text-align: right;\">\n",
       "      <th></th>\n",
       "      <th>DATE</th>\n",
       "      <th>USSTHPI</th>\n",
       "      <th>Time</th>\n",
       "      <th>시점</th>\n",
       "      <th>전국</th>\n",
       "    </tr>\n",
       "  </thead>\n",
       "  <tbody>\n",
       "    <tr>\n",
       "      <th>0</th>\n",
       "      <td>1975-01-01</td>\n",
       "      <td>60.03</td>\n",
       "      <td>1975-01-01</td>\n",
       "      <td>NaN</td>\n",
       "      <td>NaN</td>\n",
       "    </tr>\n",
       "    <tr>\n",
       "      <th>1</th>\n",
       "      <td>1975-04-01</td>\n",
       "      <td>60.98</td>\n",
       "      <td>1975-04-01</td>\n",
       "      <td>NaN</td>\n",
       "      <td>NaN</td>\n",
       "    </tr>\n",
       "    <tr>\n",
       "      <th>2</th>\n",
       "      <td>1975-07-01</td>\n",
       "      <td>61.14</td>\n",
       "      <td>1975-07-01</td>\n",
       "      <td>NaN</td>\n",
       "      <td>NaN</td>\n",
       "    </tr>\n",
       "    <tr>\n",
       "      <th>3</th>\n",
       "      <td>1975-10-01</td>\n",
       "      <td>62.22</td>\n",
       "      <td>1975-10-01</td>\n",
       "      <td>NaN</td>\n",
       "      <td>NaN</td>\n",
       "    </tr>\n",
       "    <tr>\n",
       "      <th>4</th>\n",
       "      <td>1976-01-01</td>\n",
       "      <td>62.85</td>\n",
       "      <td>1976-01-01</td>\n",
       "      <td>NaN</td>\n",
       "      <td>NaN</td>\n",
       "    </tr>\n",
       "    <tr>\n",
       "      <th>...</th>\n",
       "      <td>...</td>\n",
       "      <td>...</td>\n",
       "      <td>...</td>\n",
       "      <td>...</td>\n",
       "      <td>...</td>\n",
       "    </tr>\n",
       "    <tr>\n",
       "      <th>185</th>\n",
       "      <td>2021-04-01</td>\n",
       "      <td>511.17</td>\n",
       "      <td>2021-04-01</td>\n",
       "      <td>2021.04</td>\n",
       "      <td>124.2</td>\n",
       "    </tr>\n",
       "    <tr>\n",
       "      <th>186</th>\n",
       "      <td>2021-07-01</td>\n",
       "      <td>539.60</td>\n",
       "      <td>2021-07-01</td>\n",
       "      <td>2021.07</td>\n",
       "      <td>130.8</td>\n",
       "    </tr>\n",
       "    <tr>\n",
       "      <th>187</th>\n",
       "      <td>2021-10-01</td>\n",
       "      <td>558.07</td>\n",
       "      <td>2021-10-01</td>\n",
       "      <td>2021.10</td>\n",
       "      <td>137</td>\n",
       "    </tr>\n",
       "    <tr>\n",
       "      <th>188</th>\n",
       "      <td>2022-01-01</td>\n",
       "      <td>578.58</td>\n",
       "      <td>2022-01-01</td>\n",
       "      <td>2022.01</td>\n",
       "      <td>135.4</td>\n",
       "    </tr>\n",
       "    <tr>\n",
       "      <th>189</th>\n",
       "      <td>2022-04-01</td>\n",
       "      <td>617.89</td>\n",
       "      <td>2022-04-01</td>\n",
       "      <td>2022.04</td>\n",
       "      <td>136.8</td>\n",
       "    </tr>\n",
       "  </tbody>\n",
       "</table>\n",
       "<p>190 rows × 5 columns</p>\n",
       "</div>"
      ],
      "text/plain": [
       "          DATE  USSTHPI       Time       시점     전국\n",
       "0   1975-01-01    60.03 1975-01-01      NaN    NaN\n",
       "1   1975-04-01    60.98 1975-04-01      NaN    NaN\n",
       "2   1975-07-01    61.14 1975-07-01      NaN    NaN\n",
       "3   1975-10-01    62.22 1975-10-01      NaN    NaN\n",
       "4   1976-01-01    62.85 1976-01-01      NaN    NaN\n",
       "..         ...      ...        ...      ...    ...\n",
       "185 2021-04-01   511.17 2021-04-01  2021.04  124.2\n",
       "186 2021-07-01   539.60 2021-07-01  2021.07  130.8\n",
       "187 2021-10-01   558.07 2021-10-01  2021.10    137\n",
       "188 2022-01-01   578.58 2022-01-01  2022.01  135.4\n",
       "189 2022-04-01   617.89 2022-04-01  2022.04  136.8\n",
       "\n",
       "[190 rows x 5 columns]"
      ]
     },
     "execution_count": 30,
     "metadata": {},
     "output_type": "execute_result"
    }
   ],
   "source": [
    "df_merged"
   ]
  },
  {
   "cell_type": "markdown",
   "metadata": {},
   "source": [
    "## 1.4 결측치 처리"
   ]
  },
  {
   "cell_type": "code",
   "execution_count": 31,
   "metadata": {
    "ExecuteTime": {
     "end_time": "2022-10-29T07:30:34.856944Z",
     "start_time": "2022-10-29T07:30:34.846971Z"
    },
    "scrolled": true
   },
   "outputs": [
    {
     "data": {
      "text/html": [
       "<div>\n",
       "<style scoped>\n",
       "    .dataframe tbody tr th:only-of-type {\n",
       "        vertical-align: middle;\n",
       "    }\n",
       "\n",
       "    .dataframe tbody tr th {\n",
       "        vertical-align: top;\n",
       "    }\n",
       "\n",
       "    .dataframe thead th {\n",
       "        text-align: right;\n",
       "    }\n",
       "</style>\n",
       "<table border=\"1\" class=\"dataframe\">\n",
       "  <thead>\n",
       "    <tr style=\"text-align: right;\">\n",
       "      <th></th>\n",
       "      <th>DATE</th>\n",
       "      <th>USSTHPI</th>\n",
       "      <th>Time</th>\n",
       "      <th>시점</th>\n",
       "      <th>전국</th>\n",
       "    </tr>\n",
       "  </thead>\n",
       "  <tbody>\n",
       "    <tr>\n",
       "      <th>0</th>\n",
       "      <td>False</td>\n",
       "      <td>False</td>\n",
       "      <td>False</td>\n",
       "      <td>True</td>\n",
       "      <td>True</td>\n",
       "    </tr>\n",
       "    <tr>\n",
       "      <th>1</th>\n",
       "      <td>False</td>\n",
       "      <td>False</td>\n",
       "      <td>False</td>\n",
       "      <td>True</td>\n",
       "      <td>True</td>\n",
       "    </tr>\n",
       "    <tr>\n",
       "      <th>2</th>\n",
       "      <td>False</td>\n",
       "      <td>False</td>\n",
       "      <td>False</td>\n",
       "      <td>True</td>\n",
       "      <td>True</td>\n",
       "    </tr>\n",
       "    <tr>\n",
       "      <th>3</th>\n",
       "      <td>False</td>\n",
       "      <td>False</td>\n",
       "      <td>False</td>\n",
       "      <td>True</td>\n",
       "      <td>True</td>\n",
       "    </tr>\n",
       "    <tr>\n",
       "      <th>4</th>\n",
       "      <td>False</td>\n",
       "      <td>False</td>\n",
       "      <td>False</td>\n",
       "      <td>True</td>\n",
       "      <td>True</td>\n",
       "    </tr>\n",
       "    <tr>\n",
       "      <th>...</th>\n",
       "      <td>...</td>\n",
       "      <td>...</td>\n",
       "      <td>...</td>\n",
       "      <td>...</td>\n",
       "      <td>...</td>\n",
       "    </tr>\n",
       "    <tr>\n",
       "      <th>185</th>\n",
       "      <td>False</td>\n",
       "      <td>False</td>\n",
       "      <td>False</td>\n",
       "      <td>False</td>\n",
       "      <td>False</td>\n",
       "    </tr>\n",
       "    <tr>\n",
       "      <th>186</th>\n",
       "      <td>False</td>\n",
       "      <td>False</td>\n",
       "      <td>False</td>\n",
       "      <td>False</td>\n",
       "      <td>False</td>\n",
       "    </tr>\n",
       "    <tr>\n",
       "      <th>187</th>\n",
       "      <td>False</td>\n",
       "      <td>False</td>\n",
       "      <td>False</td>\n",
       "      <td>False</td>\n",
       "      <td>False</td>\n",
       "    </tr>\n",
       "    <tr>\n",
       "      <th>188</th>\n",
       "      <td>False</td>\n",
       "      <td>False</td>\n",
       "      <td>False</td>\n",
       "      <td>False</td>\n",
       "      <td>False</td>\n",
       "    </tr>\n",
       "    <tr>\n",
       "      <th>189</th>\n",
       "      <td>False</td>\n",
       "      <td>False</td>\n",
       "      <td>False</td>\n",
       "      <td>False</td>\n",
       "      <td>False</td>\n",
       "    </tr>\n",
       "  </tbody>\n",
       "</table>\n",
       "<p>190 rows × 5 columns</p>\n",
       "</div>"
      ],
      "text/plain": [
       "      DATE  USSTHPI   Time     시점     전국\n",
       "0    False    False  False   True   True\n",
       "1    False    False  False   True   True\n",
       "2    False    False  False   True   True\n",
       "3    False    False  False   True   True\n",
       "4    False    False  False   True   True\n",
       "..     ...      ...    ...    ...    ...\n",
       "185  False    False  False  False  False\n",
       "186  False    False  False  False  False\n",
       "187  False    False  False  False  False\n",
       "188  False    False  False  False  False\n",
       "189  False    False  False  False  False\n",
       "\n",
       "[190 rows x 5 columns]"
      ]
     },
     "execution_count": 31,
     "metadata": {},
     "output_type": "execute_result"
    }
   ],
   "source": [
    "df_merged.isnull()"
   ]
  },
  {
   "cell_type": "markdown",
   "metadata": {},
   "source": [
    "### 1.4.1 결측치 시각화"
   ]
  },
  {
   "cell_type": "code",
   "execution_count": 32,
   "metadata": {
    "ExecuteTime": {
     "end_time": "2022-10-29T07:30:41.779243Z",
     "start_time": "2022-10-29T07:30:37.610932Z"
    }
   },
   "outputs": [
    {
     "name": "stdout",
     "output_type": "stream",
     "text": [
      "Collecting missingno\n",
      "  Downloading missingno-0.5.1-py3-none-any.whl (8.7 kB)\n",
      "Requirement already satisfied: matplotlib in c:\\programdata\\anaconda3\\lib\\site-packages (from missingno) (3.3.4)\n",
      "Requirement already satisfied: numpy in c:\\programdata\\anaconda3\\lib\\site-packages (from missingno) (1.20.1)\n",
      "Requirement already satisfied: seaborn in c:\\programdata\\anaconda3\\lib\\site-packages (from missingno) (0.11.1)\n",
      "Requirement already satisfied: scipy in c:\\programdata\\anaconda3\\lib\\site-packages (from missingno) (1.6.2)\n",
      "Requirement already satisfied: pyparsing!=2.0.4,!=2.1.2,!=2.1.6,>=2.0.3 in c:\\programdata\\anaconda3\\lib\\site-packages (from matplotlib->missingno) (2.4.7)\n",
      "Requirement already satisfied: cycler>=0.10 in c:\\programdata\\anaconda3\\lib\\site-packages (from matplotlib->missingno) (0.10.0)\n",
      "Requirement already satisfied: kiwisolver>=1.0.1 in c:\\programdata\\anaconda3\\lib\\site-packages (from matplotlib->missingno) (1.3.1)\n",
      "Requirement already satisfied: pillow>=6.2.0 in c:\\programdata\\anaconda3\\lib\\site-packages (from matplotlib->missingno) (8.2.0)\n",
      "Requirement already satisfied: python-dateutil>=2.1 in c:\\programdata\\anaconda3\\lib\\site-packages (from matplotlib->missingno) (2.8.1)\n",
      "Requirement already satisfied: pandas>=0.23 in c:\\programdata\\anaconda3\\lib\\site-packages (from seaborn->missingno) (1.4.4)\n",
      "Requirement already satisfied: six in c:\\programdata\\anaconda3\\lib\\site-packages (from cycler>=0.10->matplotlib->missingno) (1.15.0)\n",
      "Requirement already satisfied: pytz>=2020.1 in c:\\programdata\\anaconda3\\lib\\site-packages (from pandas>=0.23->seaborn->missingno) (2021.1)\n",
      "Installing collected packages: missingno\n",
      "Successfully installed missingno-0.5.1\n"
     ]
    },
    {
     "name": "stderr",
     "output_type": "stream",
     "text": [
      "WARNING: Ignoring invalid distribution -ndas (c:\\programdata\\anaconda3\\lib\\site-packages)\n",
      "WARNING: Ignoring invalid distribution -ip (c:\\programdata\\anaconda3\\lib\\site-packages)\n",
      "WARNING: Ignoring invalid distribution - (c:\\programdata\\anaconda3\\lib\\site-packages)\n",
      "WARNING: Ignoring invalid distribution -andas (c:\\programdata\\anaconda3\\lib\\site-packages)\n",
      "WARNING: Ignoring invalid distribution -ndas (c:\\programdata\\anaconda3\\lib\\site-packages)\n",
      "WARNING: Ignoring invalid distribution -ip (c:\\programdata\\anaconda3\\lib\\site-packages)\n",
      "WARNING: Ignoring invalid distribution - (c:\\programdata\\anaconda3\\lib\\site-packages)\n",
      "WARNING: Ignoring invalid distribution -andas (c:\\programdata\\anaconda3\\lib\\site-packages)\n",
      "WARNING: Ignoring invalid distribution -ndas (c:\\programdata\\anaconda3\\lib\\site-packages)\n",
      "WARNING: Ignoring invalid distribution -ip (c:\\programdata\\anaconda3\\lib\\site-packages)\n",
      "WARNING: Ignoring invalid distribution - (c:\\programdata\\anaconda3\\lib\\site-packages)\n",
      "WARNING: Ignoring invalid distribution -andas (c:\\programdata\\anaconda3\\lib\\site-packages)\n",
      "WARNING: Ignoring invalid distribution -ndas (c:\\programdata\\anaconda3\\lib\\site-packages)\n",
      "WARNING: Ignoring invalid distribution -ip (c:\\programdata\\anaconda3\\lib\\site-packages)\n",
      "WARNING: Ignoring invalid distribution - (c:\\programdata\\anaconda3\\lib\\site-packages)\n",
      "WARNING: Ignoring invalid distribution -andas (c:\\programdata\\anaconda3\\lib\\site-packages)\n",
      "WARNING: Ignoring invalid distribution -ndas (c:\\programdata\\anaconda3\\lib\\site-packages)\n",
      "WARNING: Ignoring invalid distribution -ip (c:\\programdata\\anaconda3\\lib\\site-packages)\n",
      "WARNING: Ignoring invalid distribution - (c:\\programdata\\anaconda3\\lib\\site-packages)\n",
      "WARNING: Ignoring invalid distribution -andas (c:\\programdata\\anaconda3\\lib\\site-packages)\n",
      "WARNING: Ignoring invalid distribution -ndas (c:\\programdata\\anaconda3\\lib\\site-packages)\n",
      "WARNING: Ignoring invalid distribution -ip (c:\\programdata\\anaconda3\\lib\\site-packages)\n",
      "WARNING: Ignoring invalid distribution - (c:\\programdata\\anaconda3\\lib\\site-packages)\n",
      "WARNING: Ignoring invalid distribution -andas (c:\\programdata\\anaconda3\\lib\\site-packages)\n",
      "WARNING: Ignoring invalid distribution -ndas (c:\\programdata\\anaconda3\\lib\\site-packages)\n",
      "WARNING: Ignoring invalid distribution -ip (c:\\programdata\\anaconda3\\lib\\site-packages)\n",
      "WARNING: Ignoring invalid distribution - (c:\\programdata\\anaconda3\\lib\\site-packages)\n",
      "WARNING: Ignoring invalid distribution -andas (c:\\programdata\\anaconda3\\lib\\site-packages)\n"
     ]
    }
   ],
   "source": [
    "!pip install missingno"
   ]
  },
  {
   "cell_type": "code",
   "execution_count": 33,
   "metadata": {
    "ExecuteTime": {
     "end_time": "2022-10-29T07:30:51.579793Z",
     "start_time": "2022-10-29T07:30:50.417502Z"
    }
   },
   "outputs": [
    {
     "data": {
      "text/plain": [
       "<AxesSubplot:>"
      ]
     },
     "execution_count": 33,
     "metadata": {},
     "output_type": "execute_result"
    },
    {
     "data": {
      "image/png": "[encoded data removed]",
      "text/plain": [
       "<Figure size 1800x720 with 2 Axes>"
      ]
     },
     "metadata": {
      "needs_background": "light"
     },
     "output_type": "display_data"
    }
   ],
   "source": [
    "# !pip install missingno \n",
    "# 패키지를 설치해주세요\n",
    "\n",
    "import missingno as msno\n",
    "\n",
    "# %matplotlib inline # notebook을 실행한 브라우저에서 바로 그림을 볼 수 있게 해줍니다.\n",
    "plt.rc('font', family = 'NanumGothic')\n",
    "msno.matrix(df_merged)"
   ]
  },
  {
   "cell_type": "code",
   "execution_count": 35,
   "metadata": {
    "ExecuteTime": {
     "end_time": "2022-09-19T08:04:07.822663Z",
     "start_time": "2022-09-19T08:04:07.808712Z"
    }
   },
   "outputs": [],
   "source": [
    "# msno.dendrogram(df_merged)\n",
    "# msno.heatmap(df_merged)\n",
    "# msno.bar(df_merged)"
   ]
  },
  {
   "cell_type": "code",
   "execution_count": 34,
   "metadata": {
    "ExecuteTime": {
     "end_time": "2022-10-29T07:31:15.334455Z",
     "start_time": "2022-10-29T07:31:15.319473Z"
    }
   },
   "outputs": [
    {
     "data": {
      "text/plain": [
       "DATE         0\n",
       "USSTHPI      0\n",
       "Time         0\n",
       "시점         124\n",
       "전국         124\n",
       "dtype: int64"
      ]
     },
     "execution_count": 34,
     "metadata": {},
     "output_type": "execute_result"
    }
   ],
   "source": [
    "df_merged.isnull().sum()"
   ]
  },
  {
   "cell_type": "markdown",
   "metadata": {},
   "source": [
    "### 1.4.2 결측치 제거"
   ]
  },
  {
   "cell_type": "code",
   "execution_count": 35,
   "metadata": {
    "ExecuteTime": {
     "end_time": "2022-10-29T07:31:34.582822Z",
     "start_time": "2022-10-29T07:31:34.558886Z"
    }
   },
   "outputs": [
    {
     "data": {
      "text/html": [
       "<div>\n",
       "<style scoped>\n",
       "    .dataframe tbody tr th:only-of-type {\n",
       "        vertical-align: middle;\n",
       "    }\n",
       "\n",
       "    .dataframe tbody tr th {\n",
       "        vertical-align: top;\n",
       "    }\n",
       "\n",
       "    .dataframe thead th {\n",
       "        text-align: right;\n",
       "    }\n",
       "</style>\n",
       "<table border=\"1\" class=\"dataframe\">\n",
       "  <thead>\n",
       "    <tr style=\"text-align: right;\">\n",
       "      <th></th>\n",
       "      <th>DATE</th>\n",
       "      <th>USSTHPI</th>\n",
       "      <th>Time</th>\n",
       "      <th>시점</th>\n",
       "      <th>전국</th>\n",
       "    </tr>\n",
       "  </thead>\n",
       "  <tbody>\n",
       "    <tr>\n",
       "      <th>124</th>\n",
       "      <td>2006-01-01</td>\n",
       "      <td>368.73</td>\n",
       "      <td>2006-01-01</td>\n",
       "      <td>2006.01</td>\n",
       "      <td>60.3</td>\n",
       "    </tr>\n",
       "    <tr>\n",
       "      <th>125</th>\n",
       "      <td>2006-04-01</td>\n",
       "      <td>372.51</td>\n",
       "      <td>2006-04-01</td>\n",
       "      <td>2006.04</td>\n",
       "      <td>62</td>\n",
       "    </tr>\n",
       "    <tr>\n",
       "      <th>126</th>\n",
       "      <td>2006-07-01</td>\n",
       "      <td>375.57</td>\n",
       "      <td>2006-07-01</td>\n",
       "      <td>2006.07</td>\n",
       "      <td>63.5</td>\n",
       "    </tr>\n",
       "    <tr>\n",
       "      <th>127</th>\n",
       "      <td>2006-10-01</td>\n",
       "      <td>379.42</td>\n",
       "      <td>2006-10-01</td>\n",
       "      <td>2006.10</td>\n",
       "      <td>68.6</td>\n",
       "    </tr>\n",
       "    <tr>\n",
       "      <th>128</th>\n",
       "      <td>2007-01-01</td>\n",
       "      <td>380.83</td>\n",
       "      <td>2007-01-01</td>\n",
       "      <td>2007.01</td>\n",
       "      <td>73.9</td>\n",
       "    </tr>\n",
       "    <tr>\n",
       "      <th>...</th>\n",
       "      <td>...</td>\n",
       "      <td>...</td>\n",
       "      <td>...</td>\n",
       "      <td>...</td>\n",
       "      <td>...</td>\n",
       "    </tr>\n",
       "    <tr>\n",
       "      <th>185</th>\n",
       "      <td>2021-04-01</td>\n",
       "      <td>511.17</td>\n",
       "      <td>2021-04-01</td>\n",
       "      <td>2021.04</td>\n",
       "      <td>124.2</td>\n",
       "    </tr>\n",
       "    <tr>\n",
       "      <th>186</th>\n",
       "      <td>2021-07-01</td>\n",
       "      <td>539.60</td>\n",
       "      <td>2021-07-01</td>\n",
       "      <td>2021.07</td>\n",
       "      <td>130.8</td>\n",
       "    </tr>\n",
       "    <tr>\n",
       "      <th>187</th>\n",
       "      <td>2021-10-01</td>\n",
       "      <td>558.07</td>\n",
       "      <td>2021-10-01</td>\n",
       "      <td>2021.10</td>\n",
       "      <td>137</td>\n",
       "    </tr>\n",
       "    <tr>\n",
       "      <th>188</th>\n",
       "      <td>2022-01-01</td>\n",
       "      <td>578.58</td>\n",
       "      <td>2022-01-01</td>\n",
       "      <td>2022.01</td>\n",
       "      <td>135.4</td>\n",
       "    </tr>\n",
       "    <tr>\n",
       "      <th>189</th>\n",
       "      <td>2022-04-01</td>\n",
       "      <td>617.89</td>\n",
       "      <td>2022-04-01</td>\n",
       "      <td>2022.04</td>\n",
       "      <td>136.8</td>\n",
       "    </tr>\n",
       "  </tbody>\n",
       "</table>\n",
       "<p>66 rows × 5 columns</p>\n",
       "</div>"
      ],
      "text/plain": [
       "          DATE  USSTHPI       Time       시점     전국\n",
       "124 2006-01-01   368.73 2006-01-01  2006.01   60.3\n",
       "125 2006-04-01   372.51 2006-04-01  2006.04     62\n",
       "126 2006-07-01   375.57 2006-07-01  2006.07   63.5\n",
       "127 2006-10-01   379.42 2006-10-01  2006.10   68.6\n",
       "128 2007-01-01   380.83 2007-01-01  2007.01   73.9\n",
       "..         ...      ...        ...      ...    ...\n",
       "185 2021-04-01   511.17 2021-04-01  2021.04  124.2\n",
       "186 2021-07-01   539.60 2021-07-01  2021.07  130.8\n",
       "187 2021-10-01   558.07 2021-10-01  2021.10    137\n",
       "188 2022-01-01   578.58 2022-01-01  2022.01  135.4\n",
       "189 2022-04-01   617.89 2022-04-01  2022.04  136.8\n",
       "\n",
       "[66 rows x 5 columns]"
      ]
     },
     "execution_count": 35,
     "metadata": {},
     "output_type": "execute_result"
    }
   ],
   "source": [
    "# axis = 0 은 기본값으로 행 방향(가로). axis=1 은 열 방향(세로) 입니다.\n",
    "df_merged.dropna(axis=0) "
   ]
  },
  {
   "cell_type": "markdown",
   "metadata": {},
   "source": [
    "## 1.5 데이터 전처리"
   ]
  },
  {
   "cell_type": "code",
   "execution_count": 36,
   "metadata": {
    "ExecuteTime": {
     "end_time": "2022-10-29T07:31:37.984253Z",
     "start_time": "2022-10-29T07:31:37.973284Z"
    }
   },
   "outputs": [
    {
     "name": "stdout",
     "output_type": "stream",
     "text": [
      "<class 'pandas.core.frame.DataFrame'>\n",
      "Int64Index: 190 entries, 0 to 189\n",
      "Data columns (total 5 columns):\n",
      " #   Column   Non-Null Count  Dtype         \n",
      "---  ------   --------------  -----         \n",
      " 0   DATE     190 non-null    datetime64[ns]\n",
      " 1   USSTHPI  190 non-null    float64       \n",
      " 2   Time     190 non-null    datetime64[ns]\n",
      " 3   시점       66 non-null     object        \n",
      " 4   전국       66 non-null     object        \n",
      "dtypes: datetime64[ns](2), float64(1), object(2)\n",
      "memory usage: 8.9+ KB\n"
     ]
    }
   ],
   "source": [
    "# 중요한 데이터 타입을 확인해봅니다. 시점과 인덱스 값이 여전히 문자열(object)입니다.\n",
    "df_merged.info()"
   ]
  },
  {
   "cell_type": "markdown",
   "metadata": {},
   "source": [
    "### 1.5.1 데이터 타입 변경"
   ]
  },
  {
   "cell_type": "code",
   "execution_count": 37,
   "metadata": {
    "ExecuteTime": {
     "end_time": "2022-10-29T07:32:01.593589Z",
     "start_time": "2022-10-29T07:32:01.579896Z"
    }
   },
   "outputs": [],
   "source": [
    "# 전국의 주택가격지수의 데이터 타입을 문자에서 숫자로 바꿔줍니다.\n",
    "df_merged['전국'] = df_merged['전국'].astype(np.float64)"
   ]
  },
  {
   "cell_type": "code",
   "execution_count": 38,
   "metadata": {
    "ExecuteTime": {
     "end_time": "2022-10-29T07:32:02.597431Z",
     "start_time": "2022-10-29T07:32:02.586952Z"
    }
   },
   "outputs": [
    {
     "data": {
      "text/plain": [
       "0     1975-01-01\n",
       "1     1975-04-01\n",
       "2     1975-07-01\n",
       "3     1975-10-01\n",
       "4     1976-01-01\n",
       "         ...    \n",
       "185   2021-04-01\n",
       "186   2021-07-01\n",
       "187   2021-10-01\n",
       "188   2022-01-01\n",
       "189   2022-04-01\n",
       "Name: Time, Length: 190, dtype: datetime64[ns]"
      ]
     },
     "execution_count": 38,
     "metadata": {},
     "output_type": "execute_result"
    }
   ],
   "source": [
    "df_merged['Time']"
   ]
  },
  {
   "cell_type": "code",
   "execution_count": 39,
   "metadata": {
    "ExecuteTime": {
     "end_time": "2022-10-29T07:32:04.995449Z",
     "start_time": "2022-10-29T07:32:04.970514Z"
    }
   },
   "outputs": [
    {
     "data": {
      "text/html": [
       "<div>\n",
       "<style scoped>\n",
       "    .dataframe tbody tr th:only-of-type {\n",
       "        vertical-align: middle;\n",
       "    }\n",
       "\n",
       "    .dataframe tbody tr th {\n",
       "        vertical-align: top;\n",
       "    }\n",
       "\n",
       "    .dataframe thead th {\n",
       "        text-align: right;\n",
       "    }\n",
       "</style>\n",
       "<table border=\"1\" class=\"dataframe\">\n",
       "  <thead>\n",
       "    <tr style=\"text-align: right;\">\n",
       "      <th></th>\n",
       "      <th>DATE</th>\n",
       "      <th>USSTHPI</th>\n",
       "      <th>Time</th>\n",
       "      <th>시점</th>\n",
       "      <th>전국</th>\n",
       "    </tr>\n",
       "  </thead>\n",
       "  <tbody>\n",
       "    <tr>\n",
       "      <th>0</th>\n",
       "      <td>1975-01-01</td>\n",
       "      <td>60.03</td>\n",
       "      <td>1975-01-01</td>\n",
       "      <td>NaN</td>\n",
       "      <td>NaN</td>\n",
       "    </tr>\n",
       "    <tr>\n",
       "      <th>1</th>\n",
       "      <td>1975-04-01</td>\n",
       "      <td>60.98</td>\n",
       "      <td>1975-04-01</td>\n",
       "      <td>NaN</td>\n",
       "      <td>NaN</td>\n",
       "    </tr>\n",
       "    <tr>\n",
       "      <th>2</th>\n",
       "      <td>1975-07-01</td>\n",
       "      <td>61.14</td>\n",
       "      <td>1975-07-01</td>\n",
       "      <td>NaN</td>\n",
       "      <td>NaN</td>\n",
       "    </tr>\n",
       "    <tr>\n",
       "      <th>3</th>\n",
       "      <td>1975-10-01</td>\n",
       "      <td>62.22</td>\n",
       "      <td>1975-10-01</td>\n",
       "      <td>NaN</td>\n",
       "      <td>NaN</td>\n",
       "    </tr>\n",
       "    <tr>\n",
       "      <th>4</th>\n",
       "      <td>1976-01-01</td>\n",
       "      <td>62.85</td>\n",
       "      <td>1976-01-01</td>\n",
       "      <td>NaN</td>\n",
       "      <td>NaN</td>\n",
       "    </tr>\n",
       "    <tr>\n",
       "      <th>...</th>\n",
       "      <td>...</td>\n",
       "      <td>...</td>\n",
       "      <td>...</td>\n",
       "      <td>...</td>\n",
       "      <td>...</td>\n",
       "    </tr>\n",
       "    <tr>\n",
       "      <th>185</th>\n",
       "      <td>2021-04-01</td>\n",
       "      <td>511.17</td>\n",
       "      <td>2021-04-01</td>\n",
       "      <td>2021.04</td>\n",
       "      <td>124.2</td>\n",
       "    </tr>\n",
       "    <tr>\n",
       "      <th>186</th>\n",
       "      <td>2021-07-01</td>\n",
       "      <td>539.60</td>\n",
       "      <td>2021-07-01</td>\n",
       "      <td>2021.07</td>\n",
       "      <td>130.8</td>\n",
       "    </tr>\n",
       "    <tr>\n",
       "      <th>187</th>\n",
       "      <td>2021-10-01</td>\n",
       "      <td>558.07</td>\n",
       "      <td>2021-10-01</td>\n",
       "      <td>2021.10</td>\n",
       "      <td>137.0</td>\n",
       "    </tr>\n",
       "    <tr>\n",
       "      <th>188</th>\n",
       "      <td>2022-01-01</td>\n",
       "      <td>578.58</td>\n",
       "      <td>2022-01-01</td>\n",
       "      <td>2022.01</td>\n",
       "      <td>135.4</td>\n",
       "    </tr>\n",
       "    <tr>\n",
       "      <th>189</th>\n",
       "      <td>2022-04-01</td>\n",
       "      <td>617.89</td>\n",
       "      <td>2022-04-01</td>\n",
       "      <td>2022.04</td>\n",
       "      <td>136.8</td>\n",
       "    </tr>\n",
       "  </tbody>\n",
       "</table>\n",
       "<p>190 rows × 5 columns</p>\n",
       "</div>"
      ],
      "text/plain": [
       "          DATE  USSTHPI       Time       시점     전국\n",
       "0   1975-01-01    60.03 1975-01-01      NaN    NaN\n",
       "1   1975-04-01    60.98 1975-04-01      NaN    NaN\n",
       "2   1975-07-01    61.14 1975-07-01      NaN    NaN\n",
       "3   1975-10-01    62.22 1975-10-01      NaN    NaN\n",
       "4   1976-01-01    62.85 1976-01-01      NaN    NaN\n",
       "..         ...      ...        ...      ...    ...\n",
       "185 2021-04-01   511.17 2021-04-01  2021.04  124.2\n",
       "186 2021-07-01   539.60 2021-07-01  2021.07  130.8\n",
       "187 2021-10-01   558.07 2021-10-01  2021.10  137.0\n",
       "188 2022-01-01   578.58 2022-01-01  2022.01  135.4\n",
       "189 2022-04-01   617.89 2022-04-01  2022.04  136.8\n",
       "\n",
       "[190 rows x 5 columns]"
      ]
     },
     "execution_count": 39,
     "metadata": {},
     "output_type": "execute_result"
    }
   ],
   "source": [
    "df_merged"
   ]
  },
  {
   "cell_type": "code",
   "execution_count": 42,
   "metadata": {
    "ExecuteTime": {
     "end_time": "2022-09-19T08:04:07.977151Z",
     "start_time": "2022-09-19T08:04:07.972167Z"
    }
   },
   "outputs": [],
   "source": [
    "# 위에서 dropna를 했음에도 불구하고 NaN 값이 그대로 있습니다. 아래 inplace 개념을 알아두어야 합니다."
   ]
  },
  {
   "cell_type": "markdown",
   "metadata": {},
   "source": [
    "### [참고 Tutorial] dropna() 함수 : inplace 파라미터 와 reset_index 함수<br>\n",
    "[pandas 공식 튜토리얼](https://pandas.pydata.org/pandas-docs/stable/reference/api/pandas.DataFrame.dropna.html?highlight=dropna#pandas.DataFrame.dropna)  \n",
    "[R friend 블로그](https://rfriend.tistory.com/263)  \n",
    "[wikidocs](https://wikidocs.net/136562)  "
   ]
  },
  {
   "cell_type": "code",
   "execution_count": 40,
   "metadata": {
    "ExecuteTime": {
     "end_time": "2022-10-29T07:33:12.922527Z",
     "start_time": "2022-10-29T07:33:12.903071Z"
    }
   },
   "outputs": [
    {
     "data": {
      "text/html": [
       "<div>\n",
       "<style scoped>\n",
       "    .dataframe tbody tr th:only-of-type {\n",
       "        vertical-align: middle;\n",
       "    }\n",
       "\n",
       "    .dataframe tbody tr th {\n",
       "        vertical-align: top;\n",
       "    }\n",
       "\n",
       "    .dataframe thead th {\n",
       "        text-align: right;\n",
       "    }\n",
       "</style>\n",
       "<table border=\"1\" class=\"dataframe\">\n",
       "  <thead>\n",
       "    <tr style=\"text-align: right;\">\n",
       "      <th></th>\n",
       "      <th>DATE</th>\n",
       "      <th>USSTHPI</th>\n",
       "      <th>Time</th>\n",
       "      <th>시점</th>\n",
       "      <th>전국</th>\n",
       "    </tr>\n",
       "  </thead>\n",
       "  <tbody>\n",
       "    <tr>\n",
       "      <th>124</th>\n",
       "      <td>2006-01-01</td>\n",
       "      <td>368.73</td>\n",
       "      <td>2006-01-01</td>\n",
       "      <td>2006.01</td>\n",
       "      <td>60.3</td>\n",
       "    </tr>\n",
       "    <tr>\n",
       "      <th>125</th>\n",
       "      <td>2006-04-01</td>\n",
       "      <td>372.51</td>\n",
       "      <td>2006-04-01</td>\n",
       "      <td>2006.04</td>\n",
       "      <td>62.0</td>\n",
       "    </tr>\n",
       "    <tr>\n",
       "      <th>126</th>\n",
       "      <td>2006-07-01</td>\n",
       "      <td>375.57</td>\n",
       "      <td>2006-07-01</td>\n",
       "      <td>2006.07</td>\n",
       "      <td>63.5</td>\n",
       "    </tr>\n",
       "    <tr>\n",
       "      <th>127</th>\n",
       "      <td>2006-10-01</td>\n",
       "      <td>379.42</td>\n",
       "      <td>2006-10-01</td>\n",
       "      <td>2006.10</td>\n",
       "      <td>68.6</td>\n",
       "    </tr>\n",
       "    <tr>\n",
       "      <th>128</th>\n",
       "      <td>2007-01-01</td>\n",
       "      <td>380.83</td>\n",
       "      <td>2007-01-01</td>\n",
       "      <td>2007.01</td>\n",
       "      <td>73.9</td>\n",
       "    </tr>\n",
       "    <tr>\n",
       "      <th>...</th>\n",
       "      <td>...</td>\n",
       "      <td>...</td>\n",
       "      <td>...</td>\n",
       "      <td>...</td>\n",
       "      <td>...</td>\n",
       "    </tr>\n",
       "    <tr>\n",
       "      <th>185</th>\n",
       "      <td>2021-04-01</td>\n",
       "      <td>511.17</td>\n",
       "      <td>2021-04-01</td>\n",
       "      <td>2021.04</td>\n",
       "      <td>124.2</td>\n",
       "    </tr>\n",
       "    <tr>\n",
       "      <th>186</th>\n",
       "      <td>2021-07-01</td>\n",
       "      <td>539.60</td>\n",
       "      <td>2021-07-01</td>\n",
       "      <td>2021.07</td>\n",
       "      <td>130.8</td>\n",
       "    </tr>\n",
       "    <tr>\n",
       "      <th>187</th>\n",
       "      <td>2021-10-01</td>\n",
       "      <td>558.07</td>\n",
       "      <td>2021-10-01</td>\n",
       "      <td>2021.10</td>\n",
       "      <td>137.0</td>\n",
       "    </tr>\n",
       "    <tr>\n",
       "      <th>188</th>\n",
       "      <td>2022-01-01</td>\n",
       "      <td>578.58</td>\n",
       "      <td>2022-01-01</td>\n",
       "      <td>2022.01</td>\n",
       "      <td>135.4</td>\n",
       "    </tr>\n",
       "    <tr>\n",
       "      <th>189</th>\n",
       "      <td>2022-04-01</td>\n",
       "      <td>617.89</td>\n",
       "      <td>2022-04-01</td>\n",
       "      <td>2022.04</td>\n",
       "      <td>136.8</td>\n",
       "    </tr>\n",
       "  </tbody>\n",
       "</table>\n",
       "<p>66 rows × 5 columns</p>\n",
       "</div>"
      ],
      "text/plain": [
       "          DATE  USSTHPI       Time       시점     전국\n",
       "124 2006-01-01   368.73 2006-01-01  2006.01   60.3\n",
       "125 2006-04-01   372.51 2006-04-01  2006.04   62.0\n",
       "126 2006-07-01   375.57 2006-07-01  2006.07   63.5\n",
       "127 2006-10-01   379.42 2006-10-01  2006.10   68.6\n",
       "128 2007-01-01   380.83 2007-01-01  2007.01   73.9\n",
       "..         ...      ...        ...      ...    ...\n",
       "185 2021-04-01   511.17 2021-04-01  2021.04  124.2\n",
       "186 2021-07-01   539.60 2021-07-01  2021.07  130.8\n",
       "187 2021-10-01   558.07 2021-10-01  2021.10  137.0\n",
       "188 2022-01-01   578.58 2022-01-01  2022.01  135.4\n",
       "189 2022-04-01   617.89 2022-04-01  2022.04  136.8\n",
       "\n",
       "[66 rows x 5 columns]"
      ]
     },
     "execution_count": 40,
     "metadata": {},
     "output_type": "execute_result"
    }
   ],
   "source": [
    "df_merged.dropna(inplace=True)\n",
    "df_merged"
   ]
  },
  {
   "cell_type": "code",
   "execution_count": 41,
   "metadata": {
    "ExecuteTime": {
     "end_time": "2022-10-29T07:35:08.322995Z",
     "start_time": "2022-10-29T07:35:08.316681Z"
    }
   },
   "outputs": [],
   "source": [
    "# dropna() 함수에서 inplace = True 인자값은 기존의 값을 새로운 값으로 대체하라는 옵션\n",
    "df_merged.dropna(inplace=True)\n",
    "# df_merged = df_merged.dropna()\n",
    "\n",
    "\n",
    "# reset_index() 함수에서 drop = True 인자값은 기존 인덱스 칼럼을 삭제하라는 옵션\n",
    "df_merged.reset_index(drop=True, inplace=True)"
   ]
  },
  {
   "cell_type": "code",
   "execution_count": 42,
   "metadata": {
    "ExecuteTime": {
     "end_time": "2022-10-29T07:35:15.949603Z",
     "start_time": "2022-10-29T07:35:15.932648Z"
    }
   },
   "outputs": [
    {
     "data": {
      "text/html": [
       "<div>\n",
       "<style scoped>\n",
       "    .dataframe tbody tr th:only-of-type {\n",
       "        vertical-align: middle;\n",
       "    }\n",
       "\n",
       "    .dataframe tbody tr th {\n",
       "        vertical-align: top;\n",
       "    }\n",
       "\n",
       "    .dataframe thead th {\n",
       "        text-align: right;\n",
       "    }\n",
       "</style>\n",
       "<table border=\"1\" class=\"dataframe\">\n",
       "  <thead>\n",
       "    <tr style=\"text-align: right;\">\n",
       "      <th></th>\n",
       "      <th>DATE</th>\n",
       "      <th>USSTHPI</th>\n",
       "      <th>Time</th>\n",
       "      <th>시점</th>\n",
       "      <th>전국</th>\n",
       "    </tr>\n",
       "  </thead>\n",
       "  <tbody>\n",
       "    <tr>\n",
       "      <th>0</th>\n",
       "      <td>2006-01-01</td>\n",
       "      <td>368.73</td>\n",
       "      <td>2006-01-01</td>\n",
       "      <td>2006.01</td>\n",
       "      <td>60.3</td>\n",
       "    </tr>\n",
       "    <tr>\n",
       "      <th>1</th>\n",
       "      <td>2006-04-01</td>\n",
       "      <td>372.51</td>\n",
       "      <td>2006-04-01</td>\n",
       "      <td>2006.04</td>\n",
       "      <td>62.0</td>\n",
       "    </tr>\n",
       "    <tr>\n",
       "      <th>2</th>\n",
       "      <td>2006-07-01</td>\n",
       "      <td>375.57</td>\n",
       "      <td>2006-07-01</td>\n",
       "      <td>2006.07</td>\n",
       "      <td>63.5</td>\n",
       "    </tr>\n",
       "    <tr>\n",
       "      <th>3</th>\n",
       "      <td>2006-10-01</td>\n",
       "      <td>379.42</td>\n",
       "      <td>2006-10-01</td>\n",
       "      <td>2006.10</td>\n",
       "      <td>68.6</td>\n",
       "    </tr>\n",
       "    <tr>\n",
       "      <th>4</th>\n",
       "      <td>2007-01-01</td>\n",
       "      <td>380.83</td>\n",
       "      <td>2007-01-01</td>\n",
       "      <td>2007.01</td>\n",
       "      <td>73.9</td>\n",
       "    </tr>\n",
       "    <tr>\n",
       "      <th>...</th>\n",
       "      <td>...</td>\n",
       "      <td>...</td>\n",
       "      <td>...</td>\n",
       "      <td>...</td>\n",
       "      <td>...</td>\n",
       "    </tr>\n",
       "    <tr>\n",
       "      <th>61</th>\n",
       "      <td>2021-04-01</td>\n",
       "      <td>511.17</td>\n",
       "      <td>2021-04-01</td>\n",
       "      <td>2021.04</td>\n",
       "      <td>124.2</td>\n",
       "    </tr>\n",
       "    <tr>\n",
       "      <th>62</th>\n",
       "      <td>2021-07-01</td>\n",
       "      <td>539.60</td>\n",
       "      <td>2021-07-01</td>\n",
       "      <td>2021.07</td>\n",
       "      <td>130.8</td>\n",
       "    </tr>\n",
       "    <tr>\n",
       "      <th>63</th>\n",
       "      <td>2021-10-01</td>\n",
       "      <td>558.07</td>\n",
       "      <td>2021-10-01</td>\n",
       "      <td>2021.10</td>\n",
       "      <td>137.0</td>\n",
       "    </tr>\n",
       "    <tr>\n",
       "      <th>64</th>\n",
       "      <td>2022-01-01</td>\n",
       "      <td>578.58</td>\n",
       "      <td>2022-01-01</td>\n",
       "      <td>2022.01</td>\n",
       "      <td>135.4</td>\n",
       "    </tr>\n",
       "    <tr>\n",
       "      <th>65</th>\n",
       "      <td>2022-04-01</td>\n",
       "      <td>617.89</td>\n",
       "      <td>2022-04-01</td>\n",
       "      <td>2022.04</td>\n",
       "      <td>136.8</td>\n",
       "    </tr>\n",
       "  </tbody>\n",
       "</table>\n",
       "<p>66 rows × 5 columns</p>\n",
       "</div>"
      ],
      "text/plain": [
       "         DATE  USSTHPI       Time       시점     전국\n",
       "0  2006-01-01   368.73 2006-01-01  2006.01   60.3\n",
       "1  2006-04-01   372.51 2006-04-01  2006.04   62.0\n",
       "2  2006-07-01   375.57 2006-07-01  2006.07   63.5\n",
       "3  2006-10-01   379.42 2006-10-01  2006.10   68.6\n",
       "4  2007-01-01   380.83 2007-01-01  2007.01   73.9\n",
       "..        ...      ...        ...      ...    ...\n",
       "61 2021-04-01   511.17 2021-04-01  2021.04  124.2\n",
       "62 2021-07-01   539.60 2021-07-01  2021.07  130.8\n",
       "63 2021-10-01   558.07 2021-10-01  2021.10  137.0\n",
       "64 2022-01-01   578.58 2022-01-01  2022.01  135.4\n",
       "65 2022-04-01   617.89 2022-04-01  2022.04  136.8\n",
       "\n",
       "[66 rows x 5 columns]"
      ]
     },
     "execution_count": 42,
     "metadata": {},
     "output_type": "execute_result"
    }
   ],
   "source": [
    "df_merged"
   ]
  },
  {
   "cell_type": "markdown",
   "metadata": {},
   "source": [
    "### 1.5.2 특정 칼럼 선택"
   ]
  },
  {
   "cell_type": "code",
   "execution_count": 43,
   "metadata": {
    "ExecuteTime": {
     "end_time": "2022-10-29T07:35:41.916468Z",
     "start_time": "2022-10-29T07:35:41.903575Z"
    }
   },
   "outputs": [
    {
     "data": {
      "text/html": [
       "<div>\n",
       "<style scoped>\n",
       "    .dataframe tbody tr th:only-of-type {\n",
       "        vertical-align: middle;\n",
       "    }\n",
       "\n",
       "    .dataframe tbody tr th {\n",
       "        vertical-align: top;\n",
       "    }\n",
       "\n",
       "    .dataframe thead th {\n",
       "        text-align: right;\n",
       "    }\n",
       "</style>\n",
       "<table border=\"1\" class=\"dataframe\">\n",
       "  <thead>\n",
       "    <tr style=\"text-align: right;\">\n",
       "      <th></th>\n",
       "      <th>Time</th>\n",
       "      <th>USSTHPI</th>\n",
       "      <th>전국</th>\n",
       "    </tr>\n",
       "  </thead>\n",
       "  <tbody>\n",
       "    <tr>\n",
       "      <th>0</th>\n",
       "      <td>2006-01-01</td>\n",
       "      <td>368.73</td>\n",
       "      <td>60.3</td>\n",
       "    </tr>\n",
       "    <tr>\n",
       "      <th>1</th>\n",
       "      <td>2006-04-01</td>\n",
       "      <td>372.51</td>\n",
       "      <td>62.0</td>\n",
       "    </tr>\n",
       "    <tr>\n",
       "      <th>2</th>\n",
       "      <td>2006-07-01</td>\n",
       "      <td>375.57</td>\n",
       "      <td>63.5</td>\n",
       "    </tr>\n",
       "    <tr>\n",
       "      <th>3</th>\n",
       "      <td>2006-10-01</td>\n",
       "      <td>379.42</td>\n",
       "      <td>68.6</td>\n",
       "    </tr>\n",
       "    <tr>\n",
       "      <th>4</th>\n",
       "      <td>2007-01-01</td>\n",
       "      <td>380.83</td>\n",
       "      <td>73.9</td>\n",
       "    </tr>\n",
       "    <tr>\n",
       "      <th>...</th>\n",
       "      <td>...</td>\n",
       "      <td>...</td>\n",
       "      <td>...</td>\n",
       "    </tr>\n",
       "    <tr>\n",
       "      <th>61</th>\n",
       "      <td>2021-04-01</td>\n",
       "      <td>511.17</td>\n",
       "      <td>124.2</td>\n",
       "    </tr>\n",
       "    <tr>\n",
       "      <th>62</th>\n",
       "      <td>2021-07-01</td>\n",
       "      <td>539.60</td>\n",
       "      <td>130.8</td>\n",
       "    </tr>\n",
       "    <tr>\n",
       "      <th>63</th>\n",
       "      <td>2021-10-01</td>\n",
       "      <td>558.07</td>\n",
       "      <td>137.0</td>\n",
       "    </tr>\n",
       "    <tr>\n",
       "      <th>64</th>\n",
       "      <td>2022-01-01</td>\n",
       "      <td>578.58</td>\n",
       "      <td>135.4</td>\n",
       "    </tr>\n",
       "    <tr>\n",
       "      <th>65</th>\n",
       "      <td>2022-04-01</td>\n",
       "      <td>617.89</td>\n",
       "      <td>136.8</td>\n",
       "    </tr>\n",
       "  </tbody>\n",
       "</table>\n",
       "<p>66 rows × 3 columns</p>\n",
       "</div>"
      ],
      "text/plain": [
       "         Time  USSTHPI     전국\n",
       "0  2006-01-01   368.73   60.3\n",
       "1  2006-04-01   372.51   62.0\n",
       "2  2006-07-01   375.57   63.5\n",
       "3  2006-10-01   379.42   68.6\n",
       "4  2007-01-01   380.83   73.9\n",
       "..        ...      ...    ...\n",
       "61 2021-04-01   511.17  124.2\n",
       "62 2021-07-01   539.60  130.8\n",
       "63 2021-10-01   558.07  137.0\n",
       "64 2022-01-01   578.58  135.4\n",
       "65 2022-04-01   617.89  136.8\n",
       "\n",
       "[66 rows x 3 columns]"
      ]
     },
     "execution_count": 43,
     "metadata": {},
     "output_type": "execute_result"
    }
   ],
   "source": [
    "df = df_merged[[\"Time\", \"USSTHPI\", \"전국\"]]\n",
    "df"
   ]
  },
  {
   "cell_type": "markdown",
   "metadata": {},
   "source": [
    "### 1.5.3 칼럼 이름 설정"
   ]
  },
  {
   "cell_type": "code",
   "execution_count": 44,
   "metadata": {
    "ExecuteTime": {
     "end_time": "2022-10-29T07:35:45.857219Z",
     "start_time": "2022-10-29T07:35:45.852232Z"
    }
   },
   "outputs": [
    {
     "data": {
      "text/plain": [
       "Index(['Time', 'USSTHPI', '전국'], dtype='object')"
      ]
     },
     "execution_count": 44,
     "metadata": {},
     "output_type": "execute_result"
    }
   ],
   "source": [
    "df.columns"
   ]
  },
  {
   "cell_type": "code",
   "execution_count": 45,
   "metadata": {
    "ExecuteTime": {
     "end_time": "2022-10-29T07:35:51.085899Z",
     "start_time": "2022-10-29T07:35:51.068941Z"
    }
   },
   "outputs": [
    {
     "data": {
      "text/html": [
       "<div>\n",
       "<style scoped>\n",
       "    .dataframe tbody tr th:only-of-type {\n",
       "        vertical-align: middle;\n",
       "    }\n",
       "\n",
       "    .dataframe tbody tr th {\n",
       "        vertical-align: top;\n",
       "    }\n",
       "\n",
       "    .dataframe thead th {\n",
       "        text-align: right;\n",
       "    }\n",
       "</style>\n",
       "<table border=\"1\" class=\"dataframe\">\n",
       "  <thead>\n",
       "    <tr style=\"text-align: right;\">\n",
       "      <th></th>\n",
       "      <th>Time</th>\n",
       "      <th>US</th>\n",
       "      <th>KR</th>\n",
       "    </tr>\n",
       "  </thead>\n",
       "  <tbody>\n",
       "    <tr>\n",
       "      <th>0</th>\n",
       "      <td>2006-01-01</td>\n",
       "      <td>368.73</td>\n",
       "      <td>60.3</td>\n",
       "    </tr>\n",
       "    <tr>\n",
       "      <th>1</th>\n",
       "      <td>2006-04-01</td>\n",
       "      <td>372.51</td>\n",
       "      <td>62.0</td>\n",
       "    </tr>\n",
       "    <tr>\n",
       "      <th>2</th>\n",
       "      <td>2006-07-01</td>\n",
       "      <td>375.57</td>\n",
       "      <td>63.5</td>\n",
       "    </tr>\n",
       "    <tr>\n",
       "      <th>3</th>\n",
       "      <td>2006-10-01</td>\n",
       "      <td>379.42</td>\n",
       "      <td>68.6</td>\n",
       "    </tr>\n",
       "    <tr>\n",
       "      <th>4</th>\n",
       "      <td>2007-01-01</td>\n",
       "      <td>380.83</td>\n",
       "      <td>73.9</td>\n",
       "    </tr>\n",
       "    <tr>\n",
       "      <th>...</th>\n",
       "      <td>...</td>\n",
       "      <td>...</td>\n",
       "      <td>...</td>\n",
       "    </tr>\n",
       "    <tr>\n",
       "      <th>61</th>\n",
       "      <td>2021-04-01</td>\n",
       "      <td>511.17</td>\n",
       "      <td>124.2</td>\n",
       "    </tr>\n",
       "    <tr>\n",
       "      <th>62</th>\n",
       "      <td>2021-07-01</td>\n",
       "      <td>539.60</td>\n",
       "      <td>130.8</td>\n",
       "    </tr>\n",
       "    <tr>\n",
       "      <th>63</th>\n",
       "      <td>2021-10-01</td>\n",
       "      <td>558.07</td>\n",
       "      <td>137.0</td>\n",
       "    </tr>\n",
       "    <tr>\n",
       "      <th>64</th>\n",
       "      <td>2022-01-01</td>\n",
       "      <td>578.58</td>\n",
       "      <td>135.4</td>\n",
       "    </tr>\n",
       "    <tr>\n",
       "      <th>65</th>\n",
       "      <td>2022-04-01</td>\n",
       "      <td>617.89</td>\n",
       "      <td>136.8</td>\n",
       "    </tr>\n",
       "  </tbody>\n",
       "</table>\n",
       "<p>66 rows × 3 columns</p>\n",
       "</div>"
      ],
      "text/plain": [
       "         Time      US     KR\n",
       "0  2006-01-01  368.73   60.3\n",
       "1  2006-04-01  372.51   62.0\n",
       "2  2006-07-01  375.57   63.5\n",
       "3  2006-10-01  379.42   68.6\n",
       "4  2007-01-01  380.83   73.9\n",
       "..        ...     ...    ...\n",
       "61 2021-04-01  511.17  124.2\n",
       "62 2021-07-01  539.60  130.8\n",
       "63 2021-10-01  558.07  137.0\n",
       "64 2022-01-01  578.58  135.4\n",
       "65 2022-04-01  617.89  136.8\n",
       "\n",
       "[66 rows x 3 columns]"
      ]
     },
     "execution_count": 45,
     "metadata": {},
     "output_type": "execute_result"
    }
   ],
   "source": [
    "df.columns = [\"Time\", \"US\", \"KR\"]\n",
    "df"
   ]
  },
  {
   "cell_type": "code",
   "execution_count": 118,
   "metadata": {
    "ExecuteTime": {
     "end_time": "2022-10-29T11:17:23.944998Z",
     "start_time": "2022-10-29T11:17:23.554464Z"
    }
   },
   "outputs": [
    {
     "data": {
      "image/png": "[encoded data removed]",
      "text/plain": [
       "<Figure size 1200x300 with 2 Axes>"
      ]
     },
     "metadata": {},
     "output_type": "display_data"
    }
   ],
   "source": [
    "import matplotlib.pyplot as plt\n",
    "\n",
    "# 1. 기본 스타일 설정\n",
    "plt.style.use('default')\n",
    "plt.rcParams['figure.figsize'] = (12, 3)\n",
    "plt.rcParams['font.size'] = 12\n",
    "\n",
    "# 2. 데이터 준비\n",
    "x = df.Time #df.시점 # df['시점']\n",
    "y1 = df.US\n",
    "y2 = df.KR\n",
    "\n",
    "# 3. 그래프 그리기\n",
    "fig, ax1 = plt.subplots()\n",
    "\n",
    "# y1 : 미국 인덱스에 대한 값\n",
    "ax1.plot(x, y1, '-s', color='green', markersize=3, linewidth=3, alpha=0.7, label='US Price')\n",
    "\n",
    "# ax1.set_ylim(300, 600)\n",
    "ax1.set_xlabel('Year')\n",
    "ax1.set_ylabel('US')\n",
    "ax1.tick_params(axis='both', direction='in')\n",
    "\n",
    "# y2 : 한국 인덱스에 대한 값\n",
    "ax2 = ax1.twinx()\n",
    "ax2.plot(x, y2, '-s', color='blue', markersize=3, linewidth=3, alpha=0.7, label='KR Price')\n",
    "\n",
    "# ax2.bar(x, y2, color='deeppink', label='KR Price', alpha=0.7, width=30)\n",
    "# ax2.set_ylim(40, 140)\n",
    "\n",
    "ax2.set_ylabel('KR')\n",
    "ax2.tick_params(axis='y', direction='in')\n",
    "\n",
    "# set_zorder() 메서드는 z-축 방향의 순서를 지정합니다.\n",
    "# 아래 그림과 같이 zorder가 낮을수록 먼저 그려지고(ax2 = 한국), zorder가 높을수록 나중에 그려집니다.(ax1 = 미국)\n",
    "\n",
    "ax1.set_zorder(ax2.get_zorder() + 10)\n",
    "ax1.patch.set_visible(False)\n",
    "\n",
    "ax1.legend(loc='upper left')\n",
    "ax2.legend(loc='lower right')\n",
    "\n",
    "plt.savefig('./data/US_VS_KR.png')\n",
    "\n",
    "plt.show()"
   ]
  },
  {
   "cell_type": "markdown",
   "metadata": {},
   "source": [
    "# [기준점 표준화] 데이터 분석 Check Point"
   ]
  },
  {
   "cell_type": "markdown",
   "metadata": {},
   "source": [
    "-------------------------"
   ]
  },
  {
   "cell_type": "markdown",
   "metadata": {},
   "source": [
    "## 기준시점에 대한 통일\n",
    " - 미국의 주택가격지수 기준시점 : 1980.1분기 = 100\n",
    " - 한국의 주택가격지수 기준시점 : 2017.11.1 = 100"
   ]
  },
  {
   "cell_type": "markdown",
   "metadata": {},
   "source": [
    "미국과 한국의 주택가격지수의 기준시점이 다릅니다. 기준시점을 통일 시키고 다시 데이터 시각화를 통해 나타내어 보세요."
   ]
  },
  {
   "cell_type": "code",
   "execution_count": 47,
   "metadata": {
    "ExecuteTime": {
     "end_time": "2022-10-29T07:38:24.504181Z",
     "start_time": "2022-10-29T07:38:24.485060Z"
    },
    "scrolled": true
   },
   "outputs": [
    {
     "data": {
      "text/html": [
       "<div>\n",
       "<style scoped>\n",
       "    .dataframe tbody tr th:only-of-type {\n",
       "        vertical-align: middle;\n",
       "    }\n",
       "\n",
       "    .dataframe tbody tr th {\n",
       "        vertical-align: top;\n",
       "    }\n",
       "\n",
       "    .dataframe thead th {\n",
       "        text-align: right;\n",
       "    }\n",
       "</style>\n",
       "<table border=\"1\" class=\"dataframe\">\n",
       "  <thead>\n",
       "    <tr style=\"text-align: right;\">\n",
       "      <th></th>\n",
       "      <th>DATE</th>\n",
       "      <th>USSTHPI</th>\n",
       "      <th>Time</th>\n",
       "      <th>시점</th>\n",
       "      <th>전국</th>\n",
       "    </tr>\n",
       "  </thead>\n",
       "  <tbody>\n",
       "    <tr>\n",
       "      <th>46</th>\n",
       "      <td>2017-07-01</td>\n",
       "      <td>400.67</td>\n",
       "      <td>2017-07-01</td>\n",
       "      <td>2017.07</td>\n",
       "      <td>100.0</td>\n",
       "    </tr>\n",
       "    <tr>\n",
       "      <th>47</th>\n",
       "      <td>2017-10-01</td>\n",
       "      <td>404.00</td>\n",
       "      <td>2017-10-01</td>\n",
       "      <td>2017.10</td>\n",
       "      <td>100.3</td>\n",
       "    </tr>\n",
       "    <tr>\n",
       "      <th>48</th>\n",
       "      <td>2018-01-01</td>\n",
       "      <td>409.71</td>\n",
       "      <td>2018-01-01</td>\n",
       "      <td>2018.01</td>\n",
       "      <td>99.9</td>\n",
       "    </tr>\n",
       "    <tr>\n",
       "      <th>49</th>\n",
       "      <td>2018-04-01</td>\n",
       "      <td>417.26</td>\n",
       "      <td>2018-04-01</td>\n",
       "      <td>2018.04</td>\n",
       "      <td>100.4</td>\n",
       "    </tr>\n",
       "    <tr>\n",
       "      <th>50</th>\n",
       "      <td>2018-07-01</td>\n",
       "      <td>422.35</td>\n",
       "      <td>2018-07-01</td>\n",
       "      <td>2018.07</td>\n",
       "      <td>100.2</td>\n",
       "    </tr>\n",
       "    <tr>\n",
       "      <th>52</th>\n",
       "      <td>2019-01-01</td>\n",
       "      <td>428.52</td>\n",
       "      <td>2019-01-01</td>\n",
       "      <td>2019.01</td>\n",
       "      <td>100.7</td>\n",
       "    </tr>\n",
       "    <tr>\n",
       "      <th>53</th>\n",
       "      <td>2019-04-01</td>\n",
       "      <td>435.66</td>\n",
       "      <td>2019-04-01</td>\n",
       "      <td>2019.04</td>\n",
       "      <td>99.7</td>\n",
       "    </tr>\n",
       "    <tr>\n",
       "      <th>54</th>\n",
       "      <td>2019-07-01</td>\n",
       "      <td>441.19</td>\n",
       "      <td>2019-07-01</td>\n",
       "      <td>2019.07</td>\n",
       "      <td>100.1</td>\n",
       "    </tr>\n",
       "  </tbody>\n",
       "</table>\n",
       "</div>"
      ],
      "text/plain": [
       "         DATE  USSTHPI       Time       시점     전국\n",
       "46 2017-07-01   400.67 2017-07-01  2017.07  100.0\n",
       "47 2017-10-01   404.00 2017-10-01  2017.10  100.3\n",
       "48 2018-01-01   409.71 2018-01-01  2018.01   99.9\n",
       "49 2018-04-01   417.26 2018-04-01  2018.04  100.4\n",
       "50 2018-07-01   422.35 2018-07-01  2018.07  100.2\n",
       "52 2019-01-01   428.52 2019-01-01  2019.01  100.7\n",
       "53 2019-04-01   435.66 2019-04-01  2019.04   99.7\n",
       "54 2019-07-01   441.19 2019-07-01  2019.07  100.1"
      ]
     },
     "execution_count": 47,
     "metadata": {},
     "output_type": "execute_result"
    }
   ],
   "source": [
    "df_merged[(df_merged['전국']>99) & (df_merged['전국']<101)]"
   ]
  },
  {
   "cell_type": "code",
   "execution_count": 48,
   "metadata": {
    "ExecuteTime": {
     "end_time": "2022-10-29T07:39:09.692668Z",
     "start_time": "2022-10-29T07:39:09.680701Z"
    }
   },
   "outputs": [
    {
     "data": {
      "text/plain": [
       "46    100.0\n",
       "Name: 전국, dtype: float64"
      ]
     },
     "execution_count": 48,
     "metadata": {},
     "output_type": "execute_result"
    }
   ],
   "source": [
    "base_point_KR = df_merged['전국'][df_merged['DATE']=='2017-07-01']\n",
    "base_point_KR"
   ]
  },
  {
   "cell_type": "code",
   "execution_count": 49,
   "metadata": {
    "ExecuteTime": {
     "end_time": "2022-10-29T07:39:47.030748Z",
     "start_time": "2022-10-29T07:39:47.014791Z"
    }
   },
   "outputs": [
    {
     "data": {
      "text/plain": [
       "400.67"
      ]
     },
     "execution_count": 49,
     "metadata": {},
     "output_type": "execute_result"
    }
   ],
   "source": [
    "base_point_US = np.float(df_merged['USSTHPI'][df_merged['DATE']=='2017-07-01'])\n",
    "base_point_US"
   ]
  },
  {
   "cell_type": "code",
   "execution_count": 50,
   "metadata": {
    "ExecuteTime": {
     "end_time": "2022-10-29T07:39:50.042417Z",
     "start_time": "2022-10-29T07:39:50.038168Z"
    }
   },
   "outputs": [],
   "source": [
    "# 2017.7 = 100 기준인 US값을 400.67 로 나눠주고 100을 곱해 환산해줍니다.\n",
    "\n",
    "df_merged['USSTHP(2017.7=100)'] = df_merged['USSTHPI'] / base_point_US * 100"
   ]
  },
  {
   "cell_type": "code",
   "execution_count": 51,
   "metadata": {
    "ExecuteTime": {
     "end_time": "2022-10-29T07:39:51.524753Z",
     "start_time": "2022-10-29T07:39:51.512785Z"
    }
   },
   "outputs": [
    {
     "name": "stdout",
     "output_type": "stream",
     "text": [
      "<class 'pandas.core.frame.DataFrame'>\n",
      "RangeIndex: 66 entries, 0 to 65\n",
      "Data columns (total 6 columns):\n",
      " #   Column              Non-Null Count  Dtype         \n",
      "---  ------              --------------  -----         \n",
      " 0   DATE                66 non-null     datetime64[ns]\n",
      " 1   USSTHPI             66 non-null     float64       \n",
      " 2   Time                66 non-null     datetime64[ns]\n",
      " 3   시점                  66 non-null     object        \n",
      " 4   전국                  66 non-null     float64       \n",
      " 5   USSTHP(2017.7=100)  66 non-null     float64       \n",
      "dtypes: datetime64[ns](2), float64(3), object(1)\n",
      "memory usage: 3.2+ KB\n"
     ]
    }
   ],
   "source": [
    "df_merged.info()"
   ]
  },
  {
   "cell_type": "code",
   "execution_count": 52,
   "metadata": {
    "ExecuteTime": {
     "end_time": "2022-10-29T07:39:53.727482Z",
     "start_time": "2022-10-29T07:39:53.702997Z"
    }
   },
   "outputs": [
    {
     "data": {
      "text/html": [
       "<div>\n",
       "<style scoped>\n",
       "    .dataframe tbody tr th:only-of-type {\n",
       "        vertical-align: middle;\n",
       "    }\n",
       "\n",
       "    .dataframe tbody tr th {\n",
       "        vertical-align: top;\n",
       "    }\n",
       "\n",
       "    .dataframe thead th {\n",
       "        text-align: right;\n",
       "    }\n",
       "</style>\n",
       "<table border=\"1\" class=\"dataframe\">\n",
       "  <thead>\n",
       "    <tr style=\"text-align: right;\">\n",
       "      <th></th>\n",
       "      <th>DATE</th>\n",
       "      <th>USSTHPI</th>\n",
       "      <th>Time</th>\n",
       "      <th>시점</th>\n",
       "      <th>전국</th>\n",
       "      <th>USSTHP(2017.7=100)</th>\n",
       "    </tr>\n",
       "  </thead>\n",
       "  <tbody>\n",
       "    <tr>\n",
       "      <th>0</th>\n",
       "      <td>2006-01-01</td>\n",
       "      <td>368.73</td>\n",
       "      <td>2006-01-01</td>\n",
       "      <td>2006.01</td>\n",
       "      <td>60.3</td>\n",
       "      <td>92.028353</td>\n",
       "    </tr>\n",
       "    <tr>\n",
       "      <th>1</th>\n",
       "      <td>2006-04-01</td>\n",
       "      <td>372.51</td>\n",
       "      <td>2006-04-01</td>\n",
       "      <td>2006.04</td>\n",
       "      <td>62.0</td>\n",
       "      <td>92.971772</td>\n",
       "    </tr>\n",
       "    <tr>\n",
       "      <th>2</th>\n",
       "      <td>2006-07-01</td>\n",
       "      <td>375.57</td>\n",
       "      <td>2006-07-01</td>\n",
       "      <td>2006.07</td>\n",
       "      <td>63.5</td>\n",
       "      <td>93.735493</td>\n",
       "    </tr>\n",
       "    <tr>\n",
       "      <th>3</th>\n",
       "      <td>2006-10-01</td>\n",
       "      <td>379.42</td>\n",
       "      <td>2006-10-01</td>\n",
       "      <td>2006.10</td>\n",
       "      <td>68.6</td>\n",
       "      <td>94.696384</td>\n",
       "    </tr>\n",
       "    <tr>\n",
       "      <th>4</th>\n",
       "      <td>2007-01-01</td>\n",
       "      <td>380.83</td>\n",
       "      <td>2007-01-01</td>\n",
       "      <td>2007.01</td>\n",
       "      <td>73.9</td>\n",
       "      <td>95.048294</td>\n",
       "    </tr>\n",
       "    <tr>\n",
       "      <th>...</th>\n",
       "      <td>...</td>\n",
       "      <td>...</td>\n",
       "      <td>...</td>\n",
       "      <td>...</td>\n",
       "      <td>...</td>\n",
       "      <td>...</td>\n",
       "    </tr>\n",
       "    <tr>\n",
       "      <th>61</th>\n",
       "      <td>2021-04-01</td>\n",
       "      <td>511.17</td>\n",
       "      <td>2021-04-01</td>\n",
       "      <td>2021.04</td>\n",
       "      <td>124.2</td>\n",
       "      <td>127.578806</td>\n",
       "    </tr>\n",
       "    <tr>\n",
       "      <th>62</th>\n",
       "      <td>2021-07-01</td>\n",
       "      <td>539.60</td>\n",
       "      <td>2021-07-01</td>\n",
       "      <td>2021.07</td>\n",
       "      <td>130.8</td>\n",
       "      <td>134.674420</td>\n",
       "    </tr>\n",
       "    <tr>\n",
       "      <th>63</th>\n",
       "      <td>2021-10-01</td>\n",
       "      <td>558.07</td>\n",
       "      <td>2021-10-01</td>\n",
       "      <td>2021.10</td>\n",
       "      <td>137.0</td>\n",
       "      <td>139.284199</td>\n",
       "    </tr>\n",
       "    <tr>\n",
       "      <th>64</th>\n",
       "      <td>2022-01-01</td>\n",
       "      <td>578.58</td>\n",
       "      <td>2022-01-01</td>\n",
       "      <td>2022.01</td>\n",
       "      <td>135.4</td>\n",
       "      <td>144.403125</td>\n",
       "    </tr>\n",
       "    <tr>\n",
       "      <th>65</th>\n",
       "      <td>2022-04-01</td>\n",
       "      <td>617.89</td>\n",
       "      <td>2022-04-01</td>\n",
       "      <td>2022.04</td>\n",
       "      <td>136.8</td>\n",
       "      <td>154.214191</td>\n",
       "    </tr>\n",
       "  </tbody>\n",
       "</table>\n",
       "<p>66 rows × 6 columns</p>\n",
       "</div>"
      ],
      "text/plain": [
       "         DATE  USSTHPI       Time       시점     전국  USSTHP(2017.7=100)\n",
       "0  2006-01-01   368.73 2006-01-01  2006.01   60.3           92.028353\n",
       "1  2006-04-01   372.51 2006-04-01  2006.04   62.0           92.971772\n",
       "2  2006-07-01   375.57 2006-07-01  2006.07   63.5           93.735493\n",
       "3  2006-10-01   379.42 2006-10-01  2006.10   68.6           94.696384\n",
       "4  2007-01-01   380.83 2007-01-01  2007.01   73.9           95.048294\n",
       "..        ...      ...        ...      ...    ...                 ...\n",
       "61 2021-04-01   511.17 2021-04-01  2021.04  124.2          127.578806\n",
       "62 2021-07-01   539.60 2021-07-01  2021.07  130.8          134.674420\n",
       "63 2021-10-01   558.07 2021-10-01  2021.10  137.0          139.284199\n",
       "64 2022-01-01   578.58 2022-01-01  2022.01  135.4          144.403125\n",
       "65 2022-04-01   617.89 2022-04-01  2022.04  136.8          154.214191\n",
       "\n",
       "[66 rows x 6 columns]"
      ]
     },
     "execution_count": 52,
     "metadata": {},
     "output_type": "execute_result"
    }
   ],
   "source": [
    "df_merged"
   ]
  },
  {
   "cell_type": "code",
   "execution_count": 53,
   "metadata": {
    "ExecuteTime": {
     "end_time": "2022-10-29T07:40:06.380180Z",
     "start_time": "2022-10-29T07:40:06.363225Z"
    }
   },
   "outputs": [
    {
     "data": {
      "text/plain": [
       "0      92.028353\n",
       "1      92.971772\n",
       "2      93.735493\n",
       "3      94.696384\n",
       "4      95.048294\n",
       "         ...    \n",
       "61    127.578806\n",
       "62    134.674420\n",
       "63    139.284199\n",
       "64    144.403125\n",
       "65    154.214191\n",
       "Name: USSTHP(2017.7=100), Length: 66, dtype: float64"
      ]
     },
     "execution_count": 53,
     "metadata": {},
     "output_type": "execute_result"
    }
   ],
   "source": [
    "df_merged['USSTHP(2017.7=100)'] "
   ]
  },
  {
   "cell_type": "code",
   "execution_count": 54,
   "metadata": {
    "ExecuteTime": {
     "end_time": "2022-10-29T07:40:07.130225Z",
     "start_time": "2022-10-29T07:40:07.123244Z"
    }
   },
   "outputs": [],
   "source": [
    "df_merged.dropna(inplace=True)"
   ]
  },
  {
   "cell_type": "markdown",
   "metadata": {},
   "source": [
    "### 1.5.2 특정 칼럼 선택"
   ]
  },
  {
   "cell_type": "code",
   "execution_count": 55,
   "metadata": {
    "ExecuteTime": {
     "end_time": "2022-10-29T07:40:10.129111Z",
     "start_time": "2022-10-29T07:40:10.111158Z"
    }
   },
   "outputs": [
    {
     "data": {
      "text/html": [
       "<div>\n",
       "<style scoped>\n",
       "    .dataframe tbody tr th:only-of-type {\n",
       "        vertical-align: middle;\n",
       "    }\n",
       "\n",
       "    .dataframe tbody tr th {\n",
       "        vertical-align: top;\n",
       "    }\n",
       "\n",
       "    .dataframe thead th {\n",
       "        text-align: right;\n",
       "    }\n",
       "</style>\n",
       "<table border=\"1\" class=\"dataframe\">\n",
       "  <thead>\n",
       "    <tr style=\"text-align: right;\">\n",
       "      <th></th>\n",
       "      <th>Time</th>\n",
       "      <th>USSTHP(2017.7=100)</th>\n",
       "      <th>전국</th>\n",
       "    </tr>\n",
       "  </thead>\n",
       "  <tbody>\n",
       "    <tr>\n",
       "      <th>0</th>\n",
       "      <td>2006-01-01</td>\n",
       "      <td>92.028353</td>\n",
       "      <td>60.3</td>\n",
       "    </tr>\n",
       "    <tr>\n",
       "      <th>1</th>\n",
       "      <td>2006-04-01</td>\n",
       "      <td>92.971772</td>\n",
       "      <td>62.0</td>\n",
       "    </tr>\n",
       "    <tr>\n",
       "      <th>2</th>\n",
       "      <td>2006-07-01</td>\n",
       "      <td>93.735493</td>\n",
       "      <td>63.5</td>\n",
       "    </tr>\n",
       "    <tr>\n",
       "      <th>3</th>\n",
       "      <td>2006-10-01</td>\n",
       "      <td>94.696384</td>\n",
       "      <td>68.6</td>\n",
       "    </tr>\n",
       "    <tr>\n",
       "      <th>4</th>\n",
       "      <td>2007-01-01</td>\n",
       "      <td>95.048294</td>\n",
       "      <td>73.9</td>\n",
       "    </tr>\n",
       "    <tr>\n",
       "      <th>...</th>\n",
       "      <td>...</td>\n",
       "      <td>...</td>\n",
       "      <td>...</td>\n",
       "    </tr>\n",
       "    <tr>\n",
       "      <th>61</th>\n",
       "      <td>2021-04-01</td>\n",
       "      <td>127.578806</td>\n",
       "      <td>124.2</td>\n",
       "    </tr>\n",
       "    <tr>\n",
       "      <th>62</th>\n",
       "      <td>2021-07-01</td>\n",
       "      <td>134.674420</td>\n",
       "      <td>130.8</td>\n",
       "    </tr>\n",
       "    <tr>\n",
       "      <th>63</th>\n",
       "      <td>2021-10-01</td>\n",
       "      <td>139.284199</td>\n",
       "      <td>137.0</td>\n",
       "    </tr>\n",
       "    <tr>\n",
       "      <th>64</th>\n",
       "      <td>2022-01-01</td>\n",
       "      <td>144.403125</td>\n",
       "      <td>135.4</td>\n",
       "    </tr>\n",
       "    <tr>\n",
       "      <th>65</th>\n",
       "      <td>2022-04-01</td>\n",
       "      <td>154.214191</td>\n",
       "      <td>136.8</td>\n",
       "    </tr>\n",
       "  </tbody>\n",
       "</table>\n",
       "<p>66 rows × 3 columns</p>\n",
       "</div>"
      ],
      "text/plain": [
       "         Time  USSTHP(2017.7=100)     전국\n",
       "0  2006-01-01           92.028353   60.3\n",
       "1  2006-04-01           92.971772   62.0\n",
       "2  2006-07-01           93.735493   63.5\n",
       "3  2006-10-01           94.696384   68.6\n",
       "4  2007-01-01           95.048294   73.9\n",
       "..        ...                 ...    ...\n",
       "61 2021-04-01          127.578806  124.2\n",
       "62 2021-07-01          134.674420  130.8\n",
       "63 2021-10-01          139.284199  137.0\n",
       "64 2022-01-01          144.403125  135.4\n",
       "65 2022-04-01          154.214191  136.8\n",
       "\n",
       "[66 rows x 3 columns]"
      ]
     },
     "execution_count": 55,
     "metadata": {},
     "output_type": "execute_result"
    }
   ],
   "source": [
    "df_new = df_merged[[\"Time\", \"USSTHP(2017.7=100)\", \"전국\"]]\n",
    "df_new"
   ]
  },
  {
   "cell_type": "markdown",
   "metadata": {},
   "source": [
    "### 1.5.3 칼럼 이름 설정"
   ]
  },
  {
   "cell_type": "code",
   "execution_count": 56,
   "metadata": {
    "ExecuteTime": {
     "end_time": "2022-10-29T07:40:13.724932Z",
     "start_time": "2022-10-29T07:40:13.707472Z"
    },
    "scrolled": true
   },
   "outputs": [
    {
     "data": {
      "text/html": [
       "<div>\n",
       "<style scoped>\n",
       "    .dataframe tbody tr th:only-of-type {\n",
       "        vertical-align: middle;\n",
       "    }\n",
       "\n",
       "    .dataframe tbody tr th {\n",
       "        vertical-align: top;\n",
       "    }\n",
       "\n",
       "    .dataframe thead th {\n",
       "        text-align: right;\n",
       "    }\n",
       "</style>\n",
       "<table border=\"1\" class=\"dataframe\">\n",
       "  <thead>\n",
       "    <tr style=\"text-align: right;\">\n",
       "      <th></th>\n",
       "      <th>Time</th>\n",
       "      <th>US</th>\n",
       "      <th>KR</th>\n",
       "    </tr>\n",
       "  </thead>\n",
       "  <tbody>\n",
       "    <tr>\n",
       "      <th>0</th>\n",
       "      <td>2006-01-01</td>\n",
       "      <td>92.028353</td>\n",
       "      <td>60.3</td>\n",
       "    </tr>\n",
       "    <tr>\n",
       "      <th>1</th>\n",
       "      <td>2006-04-01</td>\n",
       "      <td>92.971772</td>\n",
       "      <td>62.0</td>\n",
       "    </tr>\n",
       "    <tr>\n",
       "      <th>2</th>\n",
       "      <td>2006-07-01</td>\n",
       "      <td>93.735493</td>\n",
       "      <td>63.5</td>\n",
       "    </tr>\n",
       "    <tr>\n",
       "      <th>3</th>\n",
       "      <td>2006-10-01</td>\n",
       "      <td>94.696384</td>\n",
       "      <td>68.6</td>\n",
       "    </tr>\n",
       "    <tr>\n",
       "      <th>4</th>\n",
       "      <td>2007-01-01</td>\n",
       "      <td>95.048294</td>\n",
       "      <td>73.9</td>\n",
       "    </tr>\n",
       "    <tr>\n",
       "      <th>...</th>\n",
       "      <td>...</td>\n",
       "      <td>...</td>\n",
       "      <td>...</td>\n",
       "    </tr>\n",
       "    <tr>\n",
       "      <th>61</th>\n",
       "      <td>2021-04-01</td>\n",
       "      <td>127.578806</td>\n",
       "      <td>124.2</td>\n",
       "    </tr>\n",
       "    <tr>\n",
       "      <th>62</th>\n",
       "      <td>2021-07-01</td>\n",
       "      <td>134.674420</td>\n",
       "      <td>130.8</td>\n",
       "    </tr>\n",
       "    <tr>\n",
       "      <th>63</th>\n",
       "      <td>2021-10-01</td>\n",
       "      <td>139.284199</td>\n",
       "      <td>137.0</td>\n",
       "    </tr>\n",
       "    <tr>\n",
       "      <th>64</th>\n",
       "      <td>2022-01-01</td>\n",
       "      <td>144.403125</td>\n",
       "      <td>135.4</td>\n",
       "    </tr>\n",
       "    <tr>\n",
       "      <th>65</th>\n",
       "      <td>2022-04-01</td>\n",
       "      <td>154.214191</td>\n",
       "      <td>136.8</td>\n",
       "    </tr>\n",
       "  </tbody>\n",
       "</table>\n",
       "<p>66 rows × 3 columns</p>\n",
       "</div>"
      ],
      "text/plain": [
       "         Time          US     KR\n",
       "0  2006-01-01   92.028353   60.3\n",
       "1  2006-04-01   92.971772   62.0\n",
       "2  2006-07-01   93.735493   63.5\n",
       "3  2006-10-01   94.696384   68.6\n",
       "4  2007-01-01   95.048294   73.9\n",
       "..        ...         ...    ...\n",
       "61 2021-04-01  127.578806  124.2\n",
       "62 2021-07-01  134.674420  130.8\n",
       "63 2021-10-01  139.284199  137.0\n",
       "64 2022-01-01  144.403125  135.4\n",
       "65 2022-04-01  154.214191  136.8\n",
       "\n",
       "[66 rows x 3 columns]"
      ]
     },
     "execution_count": 56,
     "metadata": {},
     "output_type": "execute_result"
    }
   ],
   "source": [
    "df_new.columns = [\"Time\", \"US\", \"KR\"]\n",
    "df_new"
   ]
  },
  {
   "cell_type": "markdown",
   "metadata": {},
   "source": [
    "# 1.6 미국과 한국 주택가격지수 시각화"
   ]
  },
  {
   "cell_type": "markdown",
   "metadata": {},
   "source": [
    "### 1.6.1 데이터 병합 주택가격지수 그래프"
   ]
  },
  {
   "cell_type": "code",
   "execution_count": 57,
   "metadata": {
    "ExecuteTime": {
     "end_time": "2022-10-29T07:40:17.158037Z",
     "start_time": "2022-10-29T07:40:17.136647Z"
    }
   },
   "outputs": [
    {
     "data": {
      "text/html": [
       "<div>\n",
       "<style scoped>\n",
       "    .dataframe tbody tr th:only-of-type {\n",
       "        vertical-align: middle;\n",
       "    }\n",
       "\n",
       "    .dataframe tbody tr th {\n",
       "        vertical-align: top;\n",
       "    }\n",
       "\n",
       "    .dataframe thead th {\n",
       "        text-align: right;\n",
       "    }\n",
       "</style>\n",
       "<table border=\"1\" class=\"dataframe\">\n",
       "  <thead>\n",
       "    <tr style=\"text-align: right;\">\n",
       "      <th></th>\n",
       "      <th>Time</th>\n",
       "      <th>US</th>\n",
       "      <th>KR</th>\n",
       "    </tr>\n",
       "  </thead>\n",
       "  <tbody>\n",
       "    <tr>\n",
       "      <th>0</th>\n",
       "      <td>2006-01-01</td>\n",
       "      <td>92.028353</td>\n",
       "      <td>60.3</td>\n",
       "    </tr>\n",
       "    <tr>\n",
       "      <th>1</th>\n",
       "      <td>2006-04-01</td>\n",
       "      <td>92.971772</td>\n",
       "      <td>62.0</td>\n",
       "    </tr>\n",
       "    <tr>\n",
       "      <th>2</th>\n",
       "      <td>2006-07-01</td>\n",
       "      <td>93.735493</td>\n",
       "      <td>63.5</td>\n",
       "    </tr>\n",
       "    <tr>\n",
       "      <th>3</th>\n",
       "      <td>2006-10-01</td>\n",
       "      <td>94.696384</td>\n",
       "      <td>68.6</td>\n",
       "    </tr>\n",
       "    <tr>\n",
       "      <th>4</th>\n",
       "      <td>2007-01-01</td>\n",
       "      <td>95.048294</td>\n",
       "      <td>73.9</td>\n",
       "    </tr>\n",
       "    <tr>\n",
       "      <th>...</th>\n",
       "      <td>...</td>\n",
       "      <td>...</td>\n",
       "      <td>...</td>\n",
       "    </tr>\n",
       "    <tr>\n",
       "      <th>61</th>\n",
       "      <td>2021-04-01</td>\n",
       "      <td>127.578806</td>\n",
       "      <td>124.2</td>\n",
       "    </tr>\n",
       "    <tr>\n",
       "      <th>62</th>\n",
       "      <td>2021-07-01</td>\n",
       "      <td>134.674420</td>\n",
       "      <td>130.8</td>\n",
       "    </tr>\n",
       "    <tr>\n",
       "      <th>63</th>\n",
       "      <td>2021-10-01</td>\n",
       "      <td>139.284199</td>\n",
       "      <td>137.0</td>\n",
       "    </tr>\n",
       "    <tr>\n",
       "      <th>64</th>\n",
       "      <td>2022-01-01</td>\n",
       "      <td>144.403125</td>\n",
       "      <td>135.4</td>\n",
       "    </tr>\n",
       "    <tr>\n",
       "      <th>65</th>\n",
       "      <td>2022-04-01</td>\n",
       "      <td>154.214191</td>\n",
       "      <td>136.8</td>\n",
       "    </tr>\n",
       "  </tbody>\n",
       "</table>\n",
       "<p>66 rows × 3 columns</p>\n",
       "</div>"
      ],
      "text/plain": [
       "         Time          US     KR\n",
       "0  2006-01-01   92.028353   60.3\n",
       "1  2006-04-01   92.971772   62.0\n",
       "2  2006-07-01   93.735493   63.5\n",
       "3  2006-10-01   94.696384   68.6\n",
       "4  2007-01-01   95.048294   73.9\n",
       "..        ...         ...    ...\n",
       "61 2021-04-01  127.578806  124.2\n",
       "62 2021-07-01  134.674420  130.8\n",
       "63 2021-10-01  139.284199  137.0\n",
       "64 2022-01-01  144.403125  135.4\n",
       "65 2022-04-01  154.214191  136.8\n",
       "\n",
       "[66 rows x 3 columns]"
      ]
     },
     "execution_count": 57,
     "metadata": {},
     "output_type": "execute_result"
    }
   ],
   "source": [
    "df_new"
   ]
  },
  {
   "cell_type": "code",
   "execution_count": 110,
   "metadata": {
    "ExecuteTime": {
     "end_time": "2022-10-29T10:53:28.623580Z",
     "start_time": "2022-10-29T10:53:28.279910Z"
    }
   },
   "outputs": [
    {
     "data": {
      "image/png": "[encoded data removed]",
      "text/plain": [
       "<Figure size 1200x300 with 1 Axes>"
      ]
     },
     "metadata": {},
     "output_type": "display_data"
    }
   ],
   "source": [
    "# 1. 기본 스타일 설정\n",
    "plt.style.use('default')\n",
    "plt.rcParams['figure.figsize'] = (12, 3)\n",
    "plt.rcParams['font.size'] = 12\n",
    "\n",
    "# 2. 데이터 준비\n",
    "x = df_new.Time\n",
    "y1 = df_new.US\n",
    "y2 = df_new.KR\n",
    "\n",
    "# 3. 그래프 그리기\n",
    "fig, ax1 = plt.subplots()\n",
    "\n",
    "# y1 : 미국 인덱스에 대한 값\n",
    "ax1.plot(x, y1, '-s', color='green', markersize=3, linewidth=3, alpha=0.7, label='US Price')\n",
    "\n",
    "# y2 : 한국 인덱스에 대한 값\n",
    "ax1.plot(x, y2, '-s', color='blue', markersize=3, linewidth=3, alpha=0.7, label='KR Price')\n",
    "\n",
    "ax1.set_xlabel('Year')\n",
    "ax1.set_ylabel('US')\n",
    "ax1.tick_params(axis='both', direction='in')\n",
    "\n",
    "# set_zorder() 메서드는 z-축 방향의 순서를 지정합니다.\n",
    "# 아래 그림과 같이 zorder가 낮을수록 먼저 그려지고(ax2 = 한국), zorder가 높을수록 나중에 그려집니다.(ax1 = 미국)\n",
    "\n",
    "ax1.set_zorder(ax2.get_zorder() + 10)\n",
    "ax1.patch.set_visible(False)\n",
    "ax1.legend(loc='upper left')\n",
    "\n",
    "plt.savefig('./data/US_VS_KR_100.png')\n",
    "\n",
    "plt.show()"
   ]
  },
  {
   "cell_type": "markdown",
   "metadata": {},
   "source": [
    "## 1.7 상관관계"
   ]
  },
  {
   "cell_type": "markdown",
   "metadata": {},
   "source": [
    "\n",
    "*  <span style=\"color:royalblue\">피어슨<br>\n",
    "  - 상관관계에서 기본적으로 사용되는 상관계수<br>\n",
    "  - 연속형변수의 상관관계 측정<br>\n",
    "  - 모수 검정(parametric test)<br><br></span>\n",
    "\n",
    "  \n",
    "* 켄달\n",
    "  - 켄달 상관계수(타우)\n",
    "  - 변수값 대신 순위로 바꿔 이용(내신등급, 학점)\n",
    "  - 비모수 검정(Non-parametric test)\n",
    "  - sample size가 작을때. 데이터중 같은 값이 많을때 사용<br><br>\n",
    "  \n",
    "* 스피어만 \n",
    "  - 스피어만 상관계수\n",
    "  - 켄달과 동일한 순위기준 상관계수\n",
    "  - 비모수 검정(Non-parametric test)\n",
    "  - 데이터 내 편차와 이상치에 민감. 켄달보다 높은 상관관계 수치를 보임<br><br>\n",
    "\n",
    "[피어슨, 켄달, 스피어만 차이점 수식](https://www.statisticssolutions.com/free-resources/directory-of-statistical-analyses/correlation-pearson-kendall-spearman/)"
   ]
  },
  {
   "cell_type": "markdown",
   "metadata": {
    "ExecuteTime": {
     "end_time": "2021-10-10T08:17:01.600127Z",
     "start_time": "2021-10-10T08:17:01.592943Z"
    }
   },
   "source": [
    "### 상관관계 정도\n",
    "<img src=\"./data/상관관계정도.png\" alt=\"Drawing\" style=\"width: 400px;\"/>"
   ]
  },
  {
   "cell_type": "markdown",
   "metadata": {},
   "source": [
    "[요점정리]\n",
    "1. 피어슨(Pearson) 상관계수는 두 수치형 변수 사이의 \"선형\" 관계를 평가합니다. \n",
    "2. 스피어만(Spearman) 상관계수는 원시 데이터가 아니라 각 변수에 대해 \"순위\" 를 매긴 값을 기반으로 합니다.<br>\n",
    "   \"순서형 변수\" 가 포함된 관계를 평가하기 위해 사용됩니다."
   ]
  },
  {
   "cell_type": "code",
   "execution_count": 59,
   "metadata": {
    "ExecuteTime": {
     "end_time": "2022-10-29T07:40:43.387344Z",
     "start_time": "2022-10-29T07:40:43.366399Z"
    }
   },
   "outputs": [
    {
     "data": {
      "text/html": [
       "<div>\n",
       "<style scoped>\n",
       "    .dataframe tbody tr th:only-of-type {\n",
       "        vertical-align: middle;\n",
       "    }\n",
       "\n",
       "    .dataframe tbody tr th {\n",
       "        vertical-align: top;\n",
       "    }\n",
       "\n",
       "    .dataframe thead th {\n",
       "        text-align: right;\n",
       "    }\n",
       "</style>\n",
       "<table border=\"1\" class=\"dataframe\">\n",
       "  <thead>\n",
       "    <tr style=\"text-align: right;\">\n",
       "      <th></th>\n",
       "      <th>US</th>\n",
       "      <th>KR</th>\n",
       "    </tr>\n",
       "  </thead>\n",
       "  <tbody>\n",
       "    <tr>\n",
       "      <th>US</th>\n",
       "      <td>1.000000</td>\n",
       "      <td>0.819859</td>\n",
       "    </tr>\n",
       "    <tr>\n",
       "      <th>KR</th>\n",
       "      <td>0.819859</td>\n",
       "      <td>1.000000</td>\n",
       "    </tr>\n",
       "  </tbody>\n",
       "</table>\n",
       "</div>"
      ],
      "text/plain": [
       "          US        KR\n",
       "US  1.000000  0.819859\n",
       "KR  0.819859  1.000000"
      ]
     },
     "execution_count": 59,
     "metadata": {},
     "output_type": "execute_result"
    }
   ],
   "source": [
    "# US_CS_M2.corr(method='pearson', min_periods=1)\n",
    "df_new.corr(method='pearson', min_periods=1)"
   ]
  },
  {
   "cell_type": "markdown",
   "metadata": {},
   "source": [
    "[판다스 공식 튜토리얼 - pd.corr 상관계수](https://pandas.pydata.org/pandas-docs/stable/reference/api/pandas.DataFrame.corr.html?highlight=corr)"
   ]
  },
  {
   "cell_type": "markdown",
   "metadata": {},
   "source": [
    "## 학습내용 정리요약\n",
    "- 날짜, 시간데이터 Date and Time Data Types and Tools\n",
    "- 타임시리즈 Time Series Basics  \n",
    "<br>\n",
    "- 결측치 시각화와 결측치 처리\n",
    "- merge_asof() 함수 , 데이터 타입변경\n",
    "- dropna(), reset_index() 함수와  inplace, drop 인자값\n",
    "- 타임 시리즈 자료 플롯팅 Time Series Plotting\n",
    "- 상관관계 correlation"
   ]
  },
  {
   "cell_type": "markdown",
   "metadata": {},
   "source": [
    "# 2. 주요 선진국 주택 가격지수 데이터 수집 및 분석"
   ]
  },
  {
   "cell_type": "markdown",
   "metadata": {},
   "source": [
    "[통계청 제공 국외통계작성기관](http://kostat.go.kr/portal/korea/kor_ko/7/4/2/index.action)"
   ]
  },
  {
   "cell_type": "markdown",
   "metadata": {},
   "source": [
    "## 2.1 영국 주택 가격지수 데이터 <img src=\"./data/영국.png\" alt=\"Drawing\" style=\"width: 30px;\" align=\"left\">"
   ]
  },
  {
   "cell_type": "markdown",
   "metadata": {
    "ExecuteTime": {
     "end_time": "2021-08-13T04:45:48.278680Z",
     "start_time": "2021-08-13T04:45:46.962Z"
    }
   },
   "source": [
    "### 2.1.1  영국 통계청(ONS : Office for National Statistics) 제공 데이터 수집\n",
    "* 지수명 ; UK House Price Index \n",
    "* 경로 : Home > Economy > Inflation and price indices > UK House Price Index\n",
    "* 제공데이터 : 평균 실거래가, 변동률 두가지 지표\n",
    "* 제공기관 : 영국 통계청 https://www.ons.gov.uk/ (영국통계청은 영국 의회 직속인 독립적인 통계 기관입니다.)\n",
    "* 데이터 링크 : [영국 주택가격 지수](https://www.ons.gov.uk/economy/inflationandpriceindices/bulletins/housepriceindex/october2021)"
   ]
  },
  {
   "cell_type": "markdown",
   "metadata": {},
   "source": [
    "## 2.2 독일 주택 가격지수 데이터 <img src=\"./data/독일.jpg\" alt=\"Drawing\" style=\"width: 30px;\" align=\"left\">"
   ]
  },
  {
   "cell_type": "markdown",
   "metadata": {
    "ExecuteTime": {
     "end_time": "2021-08-13T04:45:48.278680Z",
     "start_time": "2021-08-13T04:45:46.962Z"
    }
   },
   "source": [
    "### 2.2.1  독일 통계청(Statistisches Bundesamt) 제공 데이터 수집\n",
    "* 지수명 ; House Price Index \n",
    "* 경로 : [Construction prices and real property prices](https://www-genesis.destatis.de/genesis//online?operation=table&code=61262-0001&bypass=true&levelindex=0&levelid=1633940589196#abreadcrumb)\n",
    "* 제공데이터 : HOUSE PRICE INDEX(2015  = 100), 변동률 두가지 지표\n",
    "* 제공기관 : 독일 통계청 https://www.destatis.de/DE/Home\n",
    "* 데이터 링크 : [독일 주택가격 지수](https://www.destatis.de/EN/Press/2021/12/PE21_593_61262.html)"
   ]
  },
  {
   "cell_type": "markdown",
   "metadata": {},
   "source": [
    "## 2.3 주요국의 주택가격지수 비교(FRED 데이터 제공)"
   ]
  },
  {
   "cell_type": "markdown",
   "metadata": {},
   "source": [
    "[캐나다, 뉴질랜드, 홍콩, 영국 주택가격지수 비교](https://fredblog.stlouisfed.org/2017/12/houses-up-and-down/?utm_source=series_page&utm_medium=related_content&utm_term=related_resources&utm_campaign=fredblog)"
   ]
  },
  {
   "cell_type": "markdown",
   "metadata": {},
   "source": [
    "# 3. 명목 주택가격 및 실질 주택가격 [각자 학습]"
   ]
  },
  {
   "cell_type": "markdown",
   "metadata": {
    "ExecuteTime": {
     "end_time": "2021-10-11T08:18:12.825267Z",
     "start_time": "2021-10-11T08:18:12.708235Z"
    }
   },
   "source": [
    "## 3.1 명목 주택가격 : 주택의 절대적인 가격"
   ]
  },
  {
   "cell_type": "markdown",
   "metadata": {
    "ExecuteTime": {
     "end_time": "2021-10-11T08:19:49.825911Z",
     "start_time": "2021-10-11T08:19:49.809802Z"
    }
   },
   "source": [
    "## 3.2 실질 주택가격 : 명목 주택가격 - 물가 상승률"
   ]
  },
  {
   "cell_type": "markdown",
   "metadata": {},
   "source": [
    "### 과제\n",
    "### M2 통화량"
   ]
  },
  {
   "cell_type": "code",
   "execution_count": 131,
   "metadata": {
    "ExecuteTime": {
     "end_time": "2022-10-29T12:33:30.916062Z",
     "start_time": "2022-10-29T12:33:30.895874Z"
    }
   },
   "outputs": [
    {
     "data": {
      "text/html": [
       "<div>\n",
       "<style scoped>\n",
       "    .dataframe tbody tr th:only-of-type {\n",
       "        vertical-align: middle;\n",
       "    }\n",
       "\n",
       "    .dataframe tbody tr th {\n",
       "        vertical-align: top;\n",
       "    }\n",
       "\n",
       "    .dataframe thead th {\n",
       "        text-align: right;\n",
       "    }\n",
       "</style>\n",
       "<table border=\"1\" class=\"dataframe\">\n",
       "  <thead>\n",
       "    <tr style=\"text-align: right;\">\n",
       "      <th></th>\n",
       "      <th>DATE</th>\n",
       "      <th>M2</th>\n",
       "    </tr>\n",
       "  </thead>\n",
       "  <tbody>\n",
       "    <tr>\n",
       "      <th>0</th>\n",
       "      <td>1980-11-03</td>\n",
       "      <td>1591.4</td>\n",
       "    </tr>\n",
       "    <tr>\n",
       "      <th>1</th>\n",
       "      <td>1980-11-10</td>\n",
       "      <td>1592.9</td>\n",
       "    </tr>\n",
       "    <tr>\n",
       "      <th>2</th>\n",
       "      <td>1980-11-17</td>\n",
       "      <td>1596.3</td>\n",
       "    </tr>\n",
       "    <tr>\n",
       "      <th>3</th>\n",
       "      <td>1980-11-24</td>\n",
       "      <td>1597.2</td>\n",
       "    </tr>\n",
       "    <tr>\n",
       "      <th>4</th>\n",
       "      <td>1980-12-01</td>\n",
       "      <td>1596.1</td>\n",
       "    </tr>\n",
       "    <tr>\n",
       "      <th>...</th>\n",
       "      <td>...</td>\n",
       "      <td>...</td>\n",
       "    </tr>\n",
       "    <tr>\n",
       "      <th>2096</th>\n",
       "      <td>2021-01-04</td>\n",
       "      <td>19039.8</td>\n",
       "    </tr>\n",
       "    <tr>\n",
       "      <th>2097</th>\n",
       "      <td>2021-01-11</td>\n",
       "      <td>19411.0</td>\n",
       "    </tr>\n",
       "    <tr>\n",
       "      <th>2098</th>\n",
       "      <td>2021-01-18</td>\n",
       "      <td>19425.0</td>\n",
       "    </tr>\n",
       "    <tr>\n",
       "      <th>2099</th>\n",
       "      <td>2021-01-25</td>\n",
       "      <td>19376.2</td>\n",
       "    </tr>\n",
       "    <tr>\n",
       "      <th>2100</th>\n",
       "      <td>2021-02-01</td>\n",
       "      <td>19370.5</td>\n",
       "    </tr>\n",
       "  </tbody>\n",
       "</table>\n",
       "<p>2101 rows × 2 columns</p>\n",
       "</div>"
      ],
      "text/plain": [
       "            DATE       M2\n",
       "0     1980-11-03   1591.4\n",
       "1     1980-11-10   1592.9\n",
       "2     1980-11-17   1596.3\n",
       "3     1980-11-24   1597.2\n",
       "4     1980-12-01   1596.1\n",
       "...          ...      ...\n",
       "2096  2021-01-04  19039.8\n",
       "2097  2021-01-11  19411.0\n",
       "2098  2021-01-18  19425.0\n",
       "2099  2021-01-25  19376.2\n",
       "2100  2021-02-01  19370.5\n",
       "\n",
       "[2101 rows x 2 columns]"
      ]
     },
     "execution_count": 131,
     "metadata": {},
     "output_type": "execute_result"
    }
   ],
   "source": [
    "#M2 index_US\n",
    "# House_Price_Index_US\n",
    "# df_m2 = pd.read_csv('./data/MYAGM2USM052S.csv')\n",
    "# df_m2\n",
    "\n",
    "df_m = pd.read_csv('./data/M2.csv')\n",
    "df_m"
   ]
  },
  {
   "cell_type": "code",
   "execution_count": 132,
   "metadata": {
    "ExecuteTime": {
     "end_time": "2022-10-29T12:34:02.735425Z",
     "start_time": "2022-10-29T12:34:02.700014Z"
    }
   },
   "outputs": [
    {
     "data": {
      "text/plain": [
       "DATE     object\n",
       "M2      float64\n",
       "dtype: object"
      ]
     },
     "execution_count": 132,
     "metadata": {},
     "output_type": "execute_result"
    }
   ],
   "source": [
    "# 데이터 타입 확인\n",
    "# df_m2.dtypes\n",
    "df_m.dtypes"
   ]
  },
  {
   "cell_type": "code",
   "execution_count": 133,
   "metadata": {
    "ExecuteTime": {
     "end_time": "2022-10-29T12:34:35.997636Z",
     "start_time": "2022-10-29T12:34:35.953988Z"
    }
   },
   "outputs": [
    {
     "name": "stdout",
     "output_type": "stream",
     "text": [
      "<class 'pandas.core.frame.DataFrame'>\n",
      "RangeIndex: 2101 entries, 0 to 2100\n",
      "Data columns (total 2 columns):\n",
      " #   Column  Non-Null Count  Dtype         \n",
      "---  ------  --------------  -----         \n",
      " 0   DATE    2101 non-null   datetime64[ns]\n",
      " 1   M2      2101 non-null   float64       \n",
      "dtypes: datetime64[ns](1), float64(1)\n",
      "memory usage: 33.0 KB\n"
     ]
    }
   ],
   "source": [
    "# 문자열로 되어 있는 칼럼을 날짜타입으로 변경해줍니다. convert the 'Date' column to datetime format\n",
    "# df_m2['DATE']= pd.to_datetime(df_m2['DATE'])\n",
    "df_m['DATE']= pd.to_datetime(df_m['DATE'])\n",
    "# Check the format of 'Date' column\n",
    "# df_m2.info()\n",
    "df_m.info()\n"
   ]
  },
  {
   "cell_type": "code",
   "execution_count": 134,
   "metadata": {
    "ExecuteTime": {
     "end_time": "2022-10-29T12:34:48.071270Z",
     "start_time": "2022-10-29T12:34:48.040026Z"
    }
   },
   "outputs": [
    {
     "data": {
      "text/plain": [
       "(2101, 2)"
      ]
     },
     "execution_count": 134,
     "metadata": {},
     "output_type": "execute_result"
    }
   ],
   "source": [
    "# df_m2.shape\n",
    "df_m.shape"
   ]
  },
  {
   "cell_type": "code",
   "execution_count": 70,
   "metadata": {
    "ExecuteTime": {
     "end_time": "2022-10-29T08:56:04.488359Z",
     "start_time": "2022-10-29T08:56:04.457118Z"
    }
   },
   "outputs": [
    {
     "data": {
      "text/html": [
       "<div>\n",
       "<style scoped>\n",
       "    .dataframe tbody tr th:only-of-type {\n",
       "        vertical-align: middle;\n",
       "    }\n",
       "\n",
       "    .dataframe tbody tr th {\n",
       "        vertical-align: top;\n",
       "    }\n",
       "\n",
       "    .dataframe thead th {\n",
       "        text-align: right;\n",
       "    }\n",
       "</style>\n",
       "<table border=\"1\" class=\"dataframe\">\n",
       "  <thead>\n",
       "    <tr style=\"text-align: right;\">\n",
       "      <th></th>\n",
       "      <th>DATE</th>\n",
       "      <th>M2</th>\n",
       "    </tr>\n",
       "  </thead>\n",
       "  <tbody>\n",
       "    <tr>\n",
       "      <th>0</th>\n",
       "      <td>1959-01-01</td>\n",
       "      <td>2.866000e+11</td>\n",
       "    </tr>\n",
       "    <tr>\n",
       "      <th>1</th>\n",
       "      <td>1959-02-01</td>\n",
       "      <td>2.877000e+11</td>\n",
       "    </tr>\n",
       "    <tr>\n",
       "      <th>2</th>\n",
       "      <td>1959-03-01</td>\n",
       "      <td>2.892000e+11</td>\n",
       "    </tr>\n",
       "    <tr>\n",
       "      <th>3</th>\n",
       "      <td>1959-04-01</td>\n",
       "      <td>2.901000e+11</td>\n",
       "    </tr>\n",
       "    <tr>\n",
       "      <th>4</th>\n",
       "      <td>1959-05-01</td>\n",
       "      <td>2.922000e+11</td>\n",
       "    </tr>\n",
       "    <tr>\n",
       "      <th>...</th>\n",
       "      <td>...</td>\n",
       "      <td>...</td>\n",
       "    </tr>\n",
       "    <tr>\n",
       "      <th>694</th>\n",
       "      <td>2016-11-01</td>\n",
       "      <td>1.314790e+13</td>\n",
       "    </tr>\n",
       "    <tr>\n",
       "      <th>695</th>\n",
       "      <td>2016-12-01</td>\n",
       "      <td>1.318090e+13</td>\n",
       "    </tr>\n",
       "    <tr>\n",
       "      <th>696</th>\n",
       "      <td>2017-01-01</td>\n",
       "      <td>1.326050e+13</td>\n",
       "    </tr>\n",
       "    <tr>\n",
       "      <th>697</th>\n",
       "      <td>2017-02-01</td>\n",
       "      <td>1.329930e+13</td>\n",
       "    </tr>\n",
       "    <tr>\n",
       "      <th>698</th>\n",
       "      <td>2017-03-01</td>\n",
       "      <td>1.338050e+13</td>\n",
       "    </tr>\n",
       "  </tbody>\n",
       "</table>\n",
       "<p>699 rows × 2 columns</p>\n",
       "</div>"
      ],
      "text/plain": [
       "          DATE            M2\n",
       "0   1959-01-01  2.866000e+11\n",
       "1   1959-02-01  2.877000e+11\n",
       "2   1959-03-01  2.892000e+11\n",
       "3   1959-04-01  2.901000e+11\n",
       "4   1959-05-01  2.922000e+11\n",
       "..         ...           ...\n",
       "694 2016-11-01  1.314790e+13\n",
       "695 2016-12-01  1.318090e+13\n",
       "696 2017-01-01  1.326050e+13\n",
       "697 2017-02-01  1.329930e+13\n",
       "698 2017-03-01  1.338050e+13\n",
       "\n",
       "[699 rows x 2 columns]"
      ]
     },
     "execution_count": 70,
     "metadata": {},
     "output_type": "execute_result"
    }
   ],
   "source": [
    "#컬럼명 변경\n",
    "# df_m2.columns=['DATE', 'M2']\n",
    "# df_m2"
   ]
  },
  {
   "cell_type": "code",
   "execution_count": 91,
   "metadata": {
    "ExecuteTime": {
     "end_time": "2022-10-29T10:41:19.078681Z",
     "start_time": "2022-10-29T10:41:19.045386Z"
    }
   },
   "outputs": [],
   "source": [
    "#M2 변수 전처리 1billion 으로 나누기\n",
    "# billion = 1e+09\n",
    "# df_m2['M2_div'] = df_m2['M2'] / billion"
   ]
  },
  {
   "cell_type": "markdown",
   "metadata": {},
   "source": [
    "### M2 통화량 시각화"
   ]
  },
  {
   "cell_type": "code",
   "execution_count": 135,
   "metadata": {
    "ExecuteTime": {
     "end_time": "2022-10-29T12:35:53.052738Z",
     "start_time": "2022-10-29T12:35:52.796458Z"
    }
   },
   "outputs": [
    {
     "data": {
      "text/plain": [
       "<AxesSubplot:xlabel='DATE'>"
      ]
     },
     "execution_count": 135,
     "metadata": {},
     "output_type": "execute_result"
    },
    {
     "data": {
      "image/png": "[encoded data removed]",
      "text/plain": [
       "<Figure size 1200x400 with 1 Axes>"
      ]
     },
     "metadata": {},
     "output_type": "display_data"
    }
   ],
   "source": [
    "import matplotlib.pyplot as plt\n",
    "# import datetime as dt\n",
    "\n",
    "plt.rc('figure', figsize=(12, 4))\n",
    "plt.rc('font', family='NanumGothic')\n",
    "\n",
    "# x축에 날짜, y축에 지수를 넣고 간단히 그려봅니다.\n",
    "# df_m2.plot('DATE', 'M2')\n",
    "df_m.plot('DATE', 'M2')"
   ]
  },
  {
   "cell_type": "code",
   "execution_count": 96,
   "metadata": {
    "ExecuteTime": {
     "end_time": "2022-10-29T10:42:46.383331Z",
     "start_time": "2022-10-29T10:42:45.653275Z"
    }
   },
   "outputs": [
    {
     "data": {
      "image/png": "[encoded data removed]",
      "text/plain": [
       "<Figure size 1200x400 with 1 Axes>"
      ]
     },
     "metadata": {},
     "output_type": "display_data"
    }
   ],
   "source": [
    "# 리스트 [ ,   ,   ,]\n",
    "xm = df_m2['DATE'].to_list()\n",
    "xmlabels = df_m2['DATE'].dt.year.to_list() # 1975, 1975,1975, 1975, 1976....\n",
    "\n",
    "ym = df_m2['M2_div'].to_list()\n",
    "\n",
    "plt.plot(xm, ym)\n",
    "\n",
    "plt.xticks(ticks=xm, labels=xmlabels, rotation=45)\n",
    "plt.xlabel('DATE')\n",
    "plt.ylabel('M2_DIV')\n",
    "\n",
    "plt.locator_params(axis='x', nbins=len(xmlabels)/60)\n"
   ]
  },
  {
   "cell_type": "code",
   "execution_count": 147,
   "metadata": {
    "ExecuteTime": {
     "end_time": "2022-10-29T12:40:48.074677Z",
     "start_time": "2022-10-29T12:40:45.664862Z"
    }
   },
   "outputs": [
    {
     "data": {
      "image/png": "[encoded data removed]",
      "text/plain": [
       "<Figure size 1200x400 with 1 Axes>"
      ]
     },
     "metadata": {},
     "output_type": "display_data"
    }
   ],
   "source": [
    "# 리스트 [ ,   ,   ,]\n",
    "xm2 = df_m['DATE'].to_list()\n",
    "xmlabels2 = df_m['DATE'].dt.year.to_list() # 1975, 1975,1975, 1975, 1976....\n",
    "\n",
    "ym2 = df_m['M2'].to_list()\n",
    "\n",
    "plt.plot(xm2, ym2)\n",
    "\n",
    "plt.xticks(ticks=xm2, labels=xmlabels2, rotation=45)\n",
    "plt.xlabel('DATE')\n",
    "plt.ylabel('M2_DIV')\n",
    "\n",
    "plt.locator_params(axis='x', nbins=len(xmlabels2)/50)"
   ]
  },
  {
   "cell_type": "code",
   "execution_count": 142,
   "metadata": {
    "ExecuteTime": {
     "end_time": "2022-10-29T12:39:11.901705Z",
     "start_time": "2022-10-29T12:39:11.877729Z"
    }
   },
   "outputs": [
    {
     "data": {
      "text/plain": [
       "2101"
      ]
     },
     "execution_count": 142,
     "metadata": {},
     "output_type": "execute_result"
    }
   ],
   "source": [
    "len(xmlabels2)"
   ]
  },
  {
   "cell_type": "code",
   "execution_count": 150,
   "metadata": {
    "ExecuteTime": {
     "end_time": "2022-10-29T12:41:17.566586Z",
     "start_time": "2022-10-29T12:41:17.539668Z"
    }
   },
   "outputs": [],
   "source": [
    "import warnings\n",
    "warnings.filterwarnings(\"ignore\")\n",
    "\n",
    "# to_datetime() 함수는 inplace = True 라는 인자가 없습니다.\n",
    "\n",
    "# df_us['Time']\n",
    "df_m['Time'] = pd.to_datetime(df_m['DATE'])"
   ]
  },
  {
   "cell_type": "code",
   "execution_count": 151,
   "metadata": {
    "ExecuteTime": {
     "end_time": "2022-10-29T12:41:19.039549Z",
     "start_time": "2022-10-29T12:41:19.008309Z"
    }
   },
   "outputs": [
    {
     "data": {
      "text/plain": [
       "<bound method DataFrame.info of            DATE       M2       Time\n",
       "0    1980-11-03   1591.4 1980-11-03\n",
       "1    1980-11-10   1592.9 1980-11-10\n",
       "2    1980-11-17   1596.3 1980-11-17\n",
       "3    1980-11-24   1597.2 1980-11-24\n",
       "4    1980-12-01   1596.1 1980-12-01\n",
       "...         ...      ...        ...\n",
       "2096 2021-01-04  19039.8 2021-01-04\n",
       "2097 2021-01-11  19411.0 2021-01-11\n",
       "2098 2021-01-18  19425.0 2021-01-18\n",
       "2099 2021-01-25  19376.2 2021-01-25\n",
       "2100 2021-02-01  19370.5 2021-02-01\n",
       "\n",
       "[2101 rows x 3 columns]>"
      ]
     },
     "execution_count": 151,
     "metadata": {},
     "output_type": "execute_result"
    }
   ],
   "source": [
    "df_m.info"
   ]
  },
  {
   "cell_type": "markdown",
   "metadata": {},
   "source": [
    "### M2 & 미국 주택 지수 병합 시각화"
   ]
  },
  {
   "cell_type": "code",
   "execution_count": 161,
   "metadata": {
    "ExecuteTime": {
     "end_time": "2022-10-29T12:43:11.672625Z",
     "start_time": "2022-10-29T12:43:11.645128Z"
    }
   },
   "outputs": [],
   "source": [
    "# df_merged2 = pd.merge_asof(\n",
    "#     df_us, df_m2,\n",
    "#     on='Time', direction='nearest')\n",
    "\n",
    "df_merged3 = pd.merge_asof(\n",
    "    df_us, df_m,\n",
    "    on='Time', direction='nearest')"
   ]
  },
  {
   "cell_type": "code",
   "execution_count": 162,
   "metadata": {
    "ExecuteTime": {
     "end_time": "2022-10-29T12:43:14.321294Z",
     "start_time": "2022-10-29T12:43:14.282132Z"
    }
   },
   "outputs": [
    {
     "data": {
      "text/html": [
       "<div>\n",
       "<style scoped>\n",
       "    .dataframe tbody tr th:only-of-type {\n",
       "        vertical-align: middle;\n",
       "    }\n",
       "\n",
       "    .dataframe tbody tr th {\n",
       "        vertical-align: top;\n",
       "    }\n",
       "\n",
       "    .dataframe thead th {\n",
       "        text-align: right;\n",
       "    }\n",
       "</style>\n",
       "<table border=\"1\" class=\"dataframe\">\n",
       "  <thead>\n",
       "    <tr style=\"text-align: right;\">\n",
       "      <th></th>\n",
       "      <th>DATE_x</th>\n",
       "      <th>USSTHPI</th>\n",
       "      <th>Time</th>\n",
       "      <th>DATE_y</th>\n",
       "      <th>M2</th>\n",
       "    </tr>\n",
       "  </thead>\n",
       "  <tbody>\n",
       "    <tr>\n",
       "      <th>0</th>\n",
       "      <td>1975-01-01</td>\n",
       "      <td>60.03</td>\n",
       "      <td>1975-01-01</td>\n",
       "      <td>1980-11-03</td>\n",
       "      <td>1591.4</td>\n",
       "    </tr>\n",
       "    <tr>\n",
       "      <th>1</th>\n",
       "      <td>1975-04-01</td>\n",
       "      <td>60.98</td>\n",
       "      <td>1975-04-01</td>\n",
       "      <td>1980-11-03</td>\n",
       "      <td>1591.4</td>\n",
       "    </tr>\n",
       "    <tr>\n",
       "      <th>2</th>\n",
       "      <td>1975-07-01</td>\n",
       "      <td>61.14</td>\n",
       "      <td>1975-07-01</td>\n",
       "      <td>1980-11-03</td>\n",
       "      <td>1591.4</td>\n",
       "    </tr>\n",
       "    <tr>\n",
       "      <th>3</th>\n",
       "      <td>1975-10-01</td>\n",
       "      <td>62.22</td>\n",
       "      <td>1975-10-01</td>\n",
       "      <td>1980-11-03</td>\n",
       "      <td>1591.4</td>\n",
       "    </tr>\n",
       "    <tr>\n",
       "      <th>4</th>\n",
       "      <td>1976-01-01</td>\n",
       "      <td>62.85</td>\n",
       "      <td>1976-01-01</td>\n",
       "      <td>1980-11-03</td>\n",
       "      <td>1591.4</td>\n",
       "    </tr>\n",
       "    <tr>\n",
       "      <th>...</th>\n",
       "      <td>...</td>\n",
       "      <td>...</td>\n",
       "      <td>...</td>\n",
       "      <td>...</td>\n",
       "      <td>...</td>\n",
       "    </tr>\n",
       "    <tr>\n",
       "      <th>185</th>\n",
       "      <td>2021-04-01</td>\n",
       "      <td>511.17</td>\n",
       "      <td>2021-04-01</td>\n",
       "      <td>2021-02-01</td>\n",
       "      <td>19370.5</td>\n",
       "    </tr>\n",
       "    <tr>\n",
       "      <th>186</th>\n",
       "      <td>2021-07-01</td>\n",
       "      <td>539.60</td>\n",
       "      <td>2021-07-01</td>\n",
       "      <td>2021-02-01</td>\n",
       "      <td>19370.5</td>\n",
       "    </tr>\n",
       "    <tr>\n",
       "      <th>187</th>\n",
       "      <td>2021-10-01</td>\n",
       "      <td>558.07</td>\n",
       "      <td>2021-10-01</td>\n",
       "      <td>2021-02-01</td>\n",
       "      <td>19370.5</td>\n",
       "    </tr>\n",
       "    <tr>\n",
       "      <th>188</th>\n",
       "      <td>2022-01-01</td>\n",
       "      <td>578.58</td>\n",
       "      <td>2022-01-01</td>\n",
       "      <td>2021-02-01</td>\n",
       "      <td>19370.5</td>\n",
       "    </tr>\n",
       "    <tr>\n",
       "      <th>189</th>\n",
       "      <td>2022-04-01</td>\n",
       "      <td>617.89</td>\n",
       "      <td>2022-04-01</td>\n",
       "      <td>2021-02-01</td>\n",
       "      <td>19370.5</td>\n",
       "    </tr>\n",
       "  </tbody>\n",
       "</table>\n",
       "<p>190 rows × 5 columns</p>\n",
       "</div>"
      ],
      "text/plain": [
       "        DATE_x  USSTHPI       Time     DATE_y       M2\n",
       "0   1975-01-01    60.03 1975-01-01 1980-11-03   1591.4\n",
       "1   1975-04-01    60.98 1975-04-01 1980-11-03   1591.4\n",
       "2   1975-07-01    61.14 1975-07-01 1980-11-03   1591.4\n",
       "3   1975-10-01    62.22 1975-10-01 1980-11-03   1591.4\n",
       "4   1976-01-01    62.85 1976-01-01 1980-11-03   1591.4\n",
       "..         ...      ...        ...        ...      ...\n",
       "185 2021-04-01   511.17 2021-04-01 2021-02-01  19370.5\n",
       "186 2021-07-01   539.60 2021-07-01 2021-02-01  19370.5\n",
       "187 2021-10-01   558.07 2021-10-01 2021-02-01  19370.5\n",
       "188 2022-01-01   578.58 2022-01-01 2021-02-01  19370.5\n",
       "189 2022-04-01   617.89 2022-04-01 2021-02-01  19370.5\n",
       "\n",
       "[190 rows x 5 columns]"
      ]
     },
     "execution_count": 162,
     "metadata": {},
     "output_type": "execute_result"
    }
   ],
   "source": [
    "df_merged3"
   ]
  },
  {
   "cell_type": "markdown",
   "metadata": {},
   "source": [
    "### 결측치 처리"
   ]
  },
  {
   "cell_type": "code",
   "execution_count": 166,
   "metadata": {
    "ExecuteTime": {
     "end_time": "2022-10-29T12:44:51.404863Z",
     "start_time": "2022-10-29T12:44:51.389241Z"
    }
   },
   "outputs": [
    {
     "data": {
      "text/html": [
       "<div>\n",
       "<style scoped>\n",
       "    .dataframe tbody tr th:only-of-type {\n",
       "        vertical-align: middle;\n",
       "    }\n",
       "\n",
       "    .dataframe tbody tr th {\n",
       "        vertical-align: top;\n",
       "    }\n",
       "\n",
       "    .dataframe thead th {\n",
       "        text-align: right;\n",
       "    }\n",
       "</style>\n",
       "<table border=\"1\" class=\"dataframe\">\n",
       "  <thead>\n",
       "    <tr style=\"text-align: right;\">\n",
       "      <th></th>\n",
       "      <th>DATE_x</th>\n",
       "      <th>USSTHPI</th>\n",
       "      <th>Time</th>\n",
       "      <th>DATE_y</th>\n",
       "      <th>M2</th>\n",
       "    </tr>\n",
       "  </thead>\n",
       "  <tbody>\n",
       "    <tr>\n",
       "      <th>0</th>\n",
       "      <td>False</td>\n",
       "      <td>False</td>\n",
       "      <td>False</td>\n",
       "      <td>False</td>\n",
       "      <td>False</td>\n",
       "    </tr>\n",
       "    <tr>\n",
       "      <th>1</th>\n",
       "      <td>False</td>\n",
       "      <td>False</td>\n",
       "      <td>False</td>\n",
       "      <td>False</td>\n",
       "      <td>False</td>\n",
       "    </tr>\n",
       "    <tr>\n",
       "      <th>2</th>\n",
       "      <td>False</td>\n",
       "      <td>False</td>\n",
       "      <td>False</td>\n",
       "      <td>False</td>\n",
       "      <td>False</td>\n",
       "    </tr>\n",
       "    <tr>\n",
       "      <th>3</th>\n",
       "      <td>False</td>\n",
       "      <td>False</td>\n",
       "      <td>False</td>\n",
       "      <td>False</td>\n",
       "      <td>False</td>\n",
       "    </tr>\n",
       "    <tr>\n",
       "      <th>4</th>\n",
       "      <td>False</td>\n",
       "      <td>False</td>\n",
       "      <td>False</td>\n",
       "      <td>False</td>\n",
       "      <td>False</td>\n",
       "    </tr>\n",
       "    <tr>\n",
       "      <th>...</th>\n",
       "      <td>...</td>\n",
       "      <td>...</td>\n",
       "      <td>...</td>\n",
       "      <td>...</td>\n",
       "      <td>...</td>\n",
       "    </tr>\n",
       "    <tr>\n",
       "      <th>185</th>\n",
       "      <td>False</td>\n",
       "      <td>False</td>\n",
       "      <td>False</td>\n",
       "      <td>False</td>\n",
       "      <td>False</td>\n",
       "    </tr>\n",
       "    <tr>\n",
       "      <th>186</th>\n",
       "      <td>False</td>\n",
       "      <td>False</td>\n",
       "      <td>False</td>\n",
       "      <td>False</td>\n",
       "      <td>False</td>\n",
       "    </tr>\n",
       "    <tr>\n",
       "      <th>187</th>\n",
       "      <td>False</td>\n",
       "      <td>False</td>\n",
       "      <td>False</td>\n",
       "      <td>False</td>\n",
       "      <td>False</td>\n",
       "    </tr>\n",
       "    <tr>\n",
       "      <th>188</th>\n",
       "      <td>False</td>\n",
       "      <td>False</td>\n",
       "      <td>False</td>\n",
       "      <td>False</td>\n",
       "      <td>False</td>\n",
       "    </tr>\n",
       "    <tr>\n",
       "      <th>189</th>\n",
       "      <td>False</td>\n",
       "      <td>False</td>\n",
       "      <td>False</td>\n",
       "      <td>False</td>\n",
       "      <td>False</td>\n",
       "    </tr>\n",
       "  </tbody>\n",
       "</table>\n",
       "<p>190 rows × 5 columns</p>\n",
       "</div>"
      ],
      "text/plain": [
       "     DATE_x  USSTHPI   Time  DATE_y     M2\n",
       "0     False    False  False   False  False\n",
       "1     False    False  False   False  False\n",
       "2     False    False  False   False  False\n",
       "3     False    False  False   False  False\n",
       "4     False    False  False   False  False\n",
       "..      ...      ...    ...     ...    ...\n",
       "185   False    False  False   False  False\n",
       "186   False    False  False   False  False\n",
       "187   False    False  False   False  False\n",
       "188   False    False  False   False  False\n",
       "189   False    False  False   False  False\n",
       "\n",
       "[190 rows x 5 columns]"
      ]
     },
     "execution_count": 166,
     "metadata": {},
     "output_type": "execute_result"
    }
   ],
   "source": [
    "df_merged3.isnull()"
   ]
  },
  {
   "cell_type": "code",
   "execution_count": 167,
   "metadata": {
    "ExecuteTime": {
     "end_time": "2022-10-29T12:44:54.895467Z",
     "start_time": "2022-10-29T12:44:54.626364Z"
    }
   },
   "outputs": [
    {
     "data": {
      "text/plain": [
       "<AxesSubplot:>"
      ]
     },
     "execution_count": 167,
     "metadata": {},
     "output_type": "execute_result"
    },
    {
     "data": {
      "image/png": "[encoded data removed]",
      "text/plain": [
       "<Figure size 2500x1000 with 2 Axes>"
      ]
     },
     "metadata": {},
     "output_type": "display_data"
    }
   ],
   "source": [
    "#결측치 시각화\n",
    "import missingno as msno\n",
    "\n",
    "# %matplotlib inline # notebook을 실행한 브라우저에서 바로 그림을 볼 수 있게 해줍니다.\n",
    "plt.rc('font', family = 'NanumGothic')\n",
    "msno.matrix(df_merged3)"
   ]
  },
  {
   "cell_type": "code",
   "execution_count": 168,
   "metadata": {
    "ExecuteTime": {
     "end_time": "2022-10-29T12:44:59.915317Z",
     "start_time": "2022-10-29T12:44:59.899710Z"
    }
   },
   "outputs": [
    {
     "data": {
      "text/plain": [
       "DATE_x     0\n",
       "USSTHPI    0\n",
       "Time       0\n",
       "DATE_y     0\n",
       "M2         0\n",
       "dtype: int64"
      ]
     },
     "execution_count": 168,
     "metadata": {},
     "output_type": "execute_result"
    }
   ],
   "source": [
    "#결측치 없음\n",
    "df_merged3.isnull().sum()"
   ]
  },
  {
   "cell_type": "code",
   "execution_count": 169,
   "metadata": {
    "ExecuteTime": {
     "end_time": "2022-10-29T12:45:02.800303Z",
     "start_time": "2022-10-29T12:45:02.769060Z"
    }
   },
   "outputs": [
    {
     "name": "stdout",
     "output_type": "stream",
     "text": [
      "<class 'pandas.core.frame.DataFrame'>\n",
      "Int64Index: 190 entries, 0 to 189\n",
      "Data columns (total 5 columns):\n",
      " #   Column   Non-Null Count  Dtype         \n",
      "---  ------   --------------  -----         \n",
      " 0   DATE_x   190 non-null    datetime64[ns]\n",
      " 1   USSTHPI  190 non-null    float64       \n",
      " 2   Time     190 non-null    datetime64[ns]\n",
      " 3   DATE_y   190 non-null    datetime64[ns]\n",
      " 4   M2       190 non-null    float64       \n",
      "dtypes: datetime64[ns](3), float64(2)\n",
      "memory usage: 8.9 KB\n"
     ]
    }
   ],
   "source": [
    "df_merged3.info()"
   ]
  },
  {
   "cell_type": "code",
   "execution_count": 170,
   "metadata": {
    "ExecuteTime": {
     "end_time": "2022-10-29T12:45:08.113328Z",
     "start_time": "2022-10-29T12:45:08.080395Z"
    }
   },
   "outputs": [
    {
     "data": {
      "text/html": [
       "<div>\n",
       "<style scoped>\n",
       "    .dataframe tbody tr th:only-of-type {\n",
       "        vertical-align: middle;\n",
       "    }\n",
       "\n",
       "    .dataframe tbody tr th {\n",
       "        vertical-align: top;\n",
       "    }\n",
       "\n",
       "    .dataframe thead th {\n",
       "        text-align: right;\n",
       "    }\n",
       "</style>\n",
       "<table border=\"1\" class=\"dataframe\">\n",
       "  <thead>\n",
       "    <tr style=\"text-align: right;\">\n",
       "      <th></th>\n",
       "      <th>DATE_x</th>\n",
       "      <th>USSTHPI</th>\n",
       "      <th>Time</th>\n",
       "      <th>DATE_y</th>\n",
       "      <th>M2</th>\n",
       "    </tr>\n",
       "  </thead>\n",
       "  <tbody>\n",
       "    <tr>\n",
       "      <th>0</th>\n",
       "      <td>1975-01-01</td>\n",
       "      <td>60.03</td>\n",
       "      <td>1975-01-01</td>\n",
       "      <td>1980-11-03</td>\n",
       "      <td>1591.4</td>\n",
       "    </tr>\n",
       "    <tr>\n",
       "      <th>1</th>\n",
       "      <td>1975-04-01</td>\n",
       "      <td>60.98</td>\n",
       "      <td>1975-04-01</td>\n",
       "      <td>1980-11-03</td>\n",
       "      <td>1591.4</td>\n",
       "    </tr>\n",
       "    <tr>\n",
       "      <th>2</th>\n",
       "      <td>1975-07-01</td>\n",
       "      <td>61.14</td>\n",
       "      <td>1975-07-01</td>\n",
       "      <td>1980-11-03</td>\n",
       "      <td>1591.4</td>\n",
       "    </tr>\n",
       "    <tr>\n",
       "      <th>3</th>\n",
       "      <td>1975-10-01</td>\n",
       "      <td>62.22</td>\n",
       "      <td>1975-10-01</td>\n",
       "      <td>1980-11-03</td>\n",
       "      <td>1591.4</td>\n",
       "    </tr>\n",
       "    <tr>\n",
       "      <th>4</th>\n",
       "      <td>1976-01-01</td>\n",
       "      <td>62.85</td>\n",
       "      <td>1976-01-01</td>\n",
       "      <td>1980-11-03</td>\n",
       "      <td>1591.4</td>\n",
       "    </tr>\n",
       "    <tr>\n",
       "      <th>...</th>\n",
       "      <td>...</td>\n",
       "      <td>...</td>\n",
       "      <td>...</td>\n",
       "      <td>...</td>\n",
       "      <td>...</td>\n",
       "    </tr>\n",
       "    <tr>\n",
       "      <th>185</th>\n",
       "      <td>2021-04-01</td>\n",
       "      <td>511.17</td>\n",
       "      <td>2021-04-01</td>\n",
       "      <td>2021-02-01</td>\n",
       "      <td>19370.5</td>\n",
       "    </tr>\n",
       "    <tr>\n",
       "      <th>186</th>\n",
       "      <td>2021-07-01</td>\n",
       "      <td>539.60</td>\n",
       "      <td>2021-07-01</td>\n",
       "      <td>2021-02-01</td>\n",
       "      <td>19370.5</td>\n",
       "    </tr>\n",
       "    <tr>\n",
       "      <th>187</th>\n",
       "      <td>2021-10-01</td>\n",
       "      <td>558.07</td>\n",
       "      <td>2021-10-01</td>\n",
       "      <td>2021-02-01</td>\n",
       "      <td>19370.5</td>\n",
       "    </tr>\n",
       "    <tr>\n",
       "      <th>188</th>\n",
       "      <td>2022-01-01</td>\n",
       "      <td>578.58</td>\n",
       "      <td>2022-01-01</td>\n",
       "      <td>2021-02-01</td>\n",
       "      <td>19370.5</td>\n",
       "    </tr>\n",
       "    <tr>\n",
       "      <th>189</th>\n",
       "      <td>2022-04-01</td>\n",
       "      <td>617.89</td>\n",
       "      <td>2022-04-01</td>\n",
       "      <td>2021-02-01</td>\n",
       "      <td>19370.5</td>\n",
       "    </tr>\n",
       "  </tbody>\n",
       "</table>\n",
       "<p>190 rows × 5 columns</p>\n",
       "</div>"
      ],
      "text/plain": [
       "        DATE_x  USSTHPI       Time     DATE_y       M2\n",
       "0   1975-01-01    60.03 1975-01-01 1980-11-03   1591.4\n",
       "1   1975-04-01    60.98 1975-04-01 1980-11-03   1591.4\n",
       "2   1975-07-01    61.14 1975-07-01 1980-11-03   1591.4\n",
       "3   1975-10-01    62.22 1975-10-01 1980-11-03   1591.4\n",
       "4   1976-01-01    62.85 1976-01-01 1980-11-03   1591.4\n",
       "..         ...      ...        ...        ...      ...\n",
       "185 2021-04-01   511.17 2021-04-01 2021-02-01  19370.5\n",
       "186 2021-07-01   539.60 2021-07-01 2021-02-01  19370.5\n",
       "187 2021-10-01   558.07 2021-10-01 2021-02-01  19370.5\n",
       "188 2022-01-01   578.58 2022-01-01 2021-02-01  19370.5\n",
       "189 2022-04-01   617.89 2022-04-01 2021-02-01  19370.5\n",
       "\n",
       "[190 rows x 5 columns]"
      ]
     },
     "execution_count": 170,
     "metadata": {},
     "output_type": "execute_result"
    }
   ],
   "source": [
    "df_merged3.dropna(inplace=True)\n",
    "df_merged3"
   ]
  },
  {
   "cell_type": "code",
   "execution_count": 171,
   "metadata": {
    "ExecuteTime": {
     "end_time": "2022-10-29T12:45:16.926803Z",
     "start_time": "2022-10-29T12:45:16.898346Z"
    }
   },
   "outputs": [],
   "source": [
    "# reset_index() 함수에서 drop = True 인자값은 기존 인덱스 칼럼을 삭제하라는 옵션\n",
    "df_merged3.reset_index(drop=True, inplace=True)"
   ]
  },
  {
   "cell_type": "code",
   "execution_count": 172,
   "metadata": {
    "ExecuteTime": {
     "end_time": "2022-10-29T12:45:20.584049Z",
     "start_time": "2022-10-29T12:45:20.552805Z"
    }
   },
   "outputs": [
    {
     "data": {
      "text/html": [
       "<div>\n",
       "<style scoped>\n",
       "    .dataframe tbody tr th:only-of-type {\n",
       "        vertical-align: middle;\n",
       "    }\n",
       "\n",
       "    .dataframe tbody tr th {\n",
       "        vertical-align: top;\n",
       "    }\n",
       "\n",
       "    .dataframe thead th {\n",
       "        text-align: right;\n",
       "    }\n",
       "</style>\n",
       "<table border=\"1\" class=\"dataframe\">\n",
       "  <thead>\n",
       "    <tr style=\"text-align: right;\">\n",
       "      <th></th>\n",
       "      <th>DATE_x</th>\n",
       "      <th>USSTHPI</th>\n",
       "      <th>Time</th>\n",
       "      <th>DATE_y</th>\n",
       "      <th>M2</th>\n",
       "    </tr>\n",
       "  </thead>\n",
       "  <tbody>\n",
       "    <tr>\n",
       "      <th>0</th>\n",
       "      <td>1975-01-01</td>\n",
       "      <td>60.03</td>\n",
       "      <td>1975-01-01</td>\n",
       "      <td>1980-11-03</td>\n",
       "      <td>1591.4</td>\n",
       "    </tr>\n",
       "    <tr>\n",
       "      <th>1</th>\n",
       "      <td>1975-04-01</td>\n",
       "      <td>60.98</td>\n",
       "      <td>1975-04-01</td>\n",
       "      <td>1980-11-03</td>\n",
       "      <td>1591.4</td>\n",
       "    </tr>\n",
       "    <tr>\n",
       "      <th>2</th>\n",
       "      <td>1975-07-01</td>\n",
       "      <td>61.14</td>\n",
       "      <td>1975-07-01</td>\n",
       "      <td>1980-11-03</td>\n",
       "      <td>1591.4</td>\n",
       "    </tr>\n",
       "    <tr>\n",
       "      <th>3</th>\n",
       "      <td>1975-10-01</td>\n",
       "      <td>62.22</td>\n",
       "      <td>1975-10-01</td>\n",
       "      <td>1980-11-03</td>\n",
       "      <td>1591.4</td>\n",
       "    </tr>\n",
       "    <tr>\n",
       "      <th>4</th>\n",
       "      <td>1976-01-01</td>\n",
       "      <td>62.85</td>\n",
       "      <td>1976-01-01</td>\n",
       "      <td>1980-11-03</td>\n",
       "      <td>1591.4</td>\n",
       "    </tr>\n",
       "    <tr>\n",
       "      <th>...</th>\n",
       "      <td>...</td>\n",
       "      <td>...</td>\n",
       "      <td>...</td>\n",
       "      <td>...</td>\n",
       "      <td>...</td>\n",
       "    </tr>\n",
       "    <tr>\n",
       "      <th>185</th>\n",
       "      <td>2021-04-01</td>\n",
       "      <td>511.17</td>\n",
       "      <td>2021-04-01</td>\n",
       "      <td>2021-02-01</td>\n",
       "      <td>19370.5</td>\n",
       "    </tr>\n",
       "    <tr>\n",
       "      <th>186</th>\n",
       "      <td>2021-07-01</td>\n",
       "      <td>539.60</td>\n",
       "      <td>2021-07-01</td>\n",
       "      <td>2021-02-01</td>\n",
       "      <td>19370.5</td>\n",
       "    </tr>\n",
       "    <tr>\n",
       "      <th>187</th>\n",
       "      <td>2021-10-01</td>\n",
       "      <td>558.07</td>\n",
       "      <td>2021-10-01</td>\n",
       "      <td>2021-02-01</td>\n",
       "      <td>19370.5</td>\n",
       "    </tr>\n",
       "    <tr>\n",
       "      <th>188</th>\n",
       "      <td>2022-01-01</td>\n",
       "      <td>578.58</td>\n",
       "      <td>2022-01-01</td>\n",
       "      <td>2021-02-01</td>\n",
       "      <td>19370.5</td>\n",
       "    </tr>\n",
       "    <tr>\n",
       "      <th>189</th>\n",
       "      <td>2022-04-01</td>\n",
       "      <td>617.89</td>\n",
       "      <td>2022-04-01</td>\n",
       "      <td>2021-02-01</td>\n",
       "      <td>19370.5</td>\n",
       "    </tr>\n",
       "  </tbody>\n",
       "</table>\n",
       "<p>190 rows × 5 columns</p>\n",
       "</div>"
      ],
      "text/plain": [
       "        DATE_x  USSTHPI       Time     DATE_y       M2\n",
       "0   1975-01-01    60.03 1975-01-01 1980-11-03   1591.4\n",
       "1   1975-04-01    60.98 1975-04-01 1980-11-03   1591.4\n",
       "2   1975-07-01    61.14 1975-07-01 1980-11-03   1591.4\n",
       "3   1975-10-01    62.22 1975-10-01 1980-11-03   1591.4\n",
       "4   1976-01-01    62.85 1976-01-01 1980-11-03   1591.4\n",
       "..         ...      ...        ...        ...      ...\n",
       "185 2021-04-01   511.17 2021-04-01 2021-02-01  19370.5\n",
       "186 2021-07-01   539.60 2021-07-01 2021-02-01  19370.5\n",
       "187 2021-10-01   558.07 2021-10-01 2021-02-01  19370.5\n",
       "188 2022-01-01   578.58 2022-01-01 2021-02-01  19370.5\n",
       "189 2022-04-01   617.89 2022-04-01 2021-02-01  19370.5\n",
       "\n",
       "[190 rows x 5 columns]"
      ]
     },
     "execution_count": 172,
     "metadata": {},
     "output_type": "execute_result"
    }
   ],
   "source": [
    "df_merged3"
   ]
  },
  {
   "cell_type": "code",
   "execution_count": 173,
   "metadata": {
    "ExecuteTime": {
     "end_time": "2022-10-29T12:45:49.635632Z",
     "start_time": "2022-10-29T12:45:49.620011Z"
    }
   },
   "outputs": [
    {
     "data": {
      "text/html": [
       "<div>\n",
       "<style scoped>\n",
       "    .dataframe tbody tr th:only-of-type {\n",
       "        vertical-align: middle;\n",
       "    }\n",
       "\n",
       "    .dataframe tbody tr th {\n",
       "        vertical-align: top;\n",
       "    }\n",
       "\n",
       "    .dataframe thead th {\n",
       "        text-align: right;\n",
       "    }\n",
       "</style>\n",
       "<table border=\"1\" class=\"dataframe\">\n",
       "  <thead>\n",
       "    <tr style=\"text-align: right;\">\n",
       "      <th></th>\n",
       "      <th>Time</th>\n",
       "      <th>USSTHPI</th>\n",
       "      <th>M2</th>\n",
       "    </tr>\n",
       "  </thead>\n",
       "  <tbody>\n",
       "    <tr>\n",
       "      <th>0</th>\n",
       "      <td>1975-01-01</td>\n",
       "      <td>60.03</td>\n",
       "      <td>1591.4</td>\n",
       "    </tr>\n",
       "    <tr>\n",
       "      <th>1</th>\n",
       "      <td>1975-04-01</td>\n",
       "      <td>60.98</td>\n",
       "      <td>1591.4</td>\n",
       "    </tr>\n",
       "    <tr>\n",
       "      <th>2</th>\n",
       "      <td>1975-07-01</td>\n",
       "      <td>61.14</td>\n",
       "      <td>1591.4</td>\n",
       "    </tr>\n",
       "    <tr>\n",
       "      <th>3</th>\n",
       "      <td>1975-10-01</td>\n",
       "      <td>62.22</td>\n",
       "      <td>1591.4</td>\n",
       "    </tr>\n",
       "    <tr>\n",
       "      <th>4</th>\n",
       "      <td>1976-01-01</td>\n",
       "      <td>62.85</td>\n",
       "      <td>1591.4</td>\n",
       "    </tr>\n",
       "    <tr>\n",
       "      <th>...</th>\n",
       "      <td>...</td>\n",
       "      <td>...</td>\n",
       "      <td>...</td>\n",
       "    </tr>\n",
       "    <tr>\n",
       "      <th>185</th>\n",
       "      <td>2021-04-01</td>\n",
       "      <td>511.17</td>\n",
       "      <td>19370.5</td>\n",
       "    </tr>\n",
       "    <tr>\n",
       "      <th>186</th>\n",
       "      <td>2021-07-01</td>\n",
       "      <td>539.60</td>\n",
       "      <td>19370.5</td>\n",
       "    </tr>\n",
       "    <tr>\n",
       "      <th>187</th>\n",
       "      <td>2021-10-01</td>\n",
       "      <td>558.07</td>\n",
       "      <td>19370.5</td>\n",
       "    </tr>\n",
       "    <tr>\n",
       "      <th>188</th>\n",
       "      <td>2022-01-01</td>\n",
       "      <td>578.58</td>\n",
       "      <td>19370.5</td>\n",
       "    </tr>\n",
       "    <tr>\n",
       "      <th>189</th>\n",
       "      <td>2022-04-01</td>\n",
       "      <td>617.89</td>\n",
       "      <td>19370.5</td>\n",
       "    </tr>\n",
       "  </tbody>\n",
       "</table>\n",
       "<p>190 rows × 3 columns</p>\n",
       "</div>"
      ],
      "text/plain": [
       "          Time  USSTHPI       M2\n",
       "0   1975-01-01    60.03   1591.4\n",
       "1   1975-04-01    60.98   1591.4\n",
       "2   1975-07-01    61.14   1591.4\n",
       "3   1975-10-01    62.22   1591.4\n",
       "4   1976-01-01    62.85   1591.4\n",
       "..         ...      ...      ...\n",
       "185 2021-04-01   511.17  19370.5\n",
       "186 2021-07-01   539.60  19370.5\n",
       "187 2021-10-01   558.07  19370.5\n",
       "188 2022-01-01   578.58  19370.5\n",
       "189 2022-04-01   617.89  19370.5\n",
       "\n",
       "[190 rows x 3 columns]"
      ]
     },
     "execution_count": 173,
     "metadata": {},
     "output_type": "execute_result"
    }
   ],
   "source": [
    "# df2 = df_merged2[[\"Time\", \"USSTHPI\", \"M2_div\"]]\n",
    "# df2\n",
    "df3 = df_merged3[[\"Time\", \"USSTHPI\", \"M2\"]]\n",
    "df3"
   ]
  },
  {
   "cell_type": "code",
   "execution_count": 109,
   "metadata": {
    "ExecuteTime": {
     "end_time": "2022-10-29T10:52:44.235464Z",
     "start_time": "2022-10-29T10:52:44.200332Z"
    }
   },
   "outputs": [
    {
     "data": {
      "text/html": [
       "<div>\n",
       "<style scoped>\n",
       "    .dataframe tbody tr th:only-of-type {\n",
       "        vertical-align: middle;\n",
       "    }\n",
       "\n",
       "    .dataframe tbody tr th {\n",
       "        vertical-align: top;\n",
       "    }\n",
       "\n",
       "    .dataframe thead th {\n",
       "        text-align: right;\n",
       "    }\n",
       "</style>\n",
       "<table border=\"1\" class=\"dataframe\">\n",
       "  <thead>\n",
       "    <tr style=\"text-align: right;\">\n",
       "      <th></th>\n",
       "      <th>Time</th>\n",
       "      <th>STHPI</th>\n",
       "      <th>M2_B</th>\n",
       "    </tr>\n",
       "  </thead>\n",
       "  <tbody>\n",
       "    <tr>\n",
       "      <th>0</th>\n",
       "      <td>1975-01-01</td>\n",
       "      <td>60.03</td>\n",
       "      <td>906.3</td>\n",
       "    </tr>\n",
       "    <tr>\n",
       "      <th>1</th>\n",
       "      <td>1975-04-01</td>\n",
       "      <td>60.98</td>\n",
       "      <td>935.1</td>\n",
       "    </tr>\n",
       "    <tr>\n",
       "      <th>2</th>\n",
       "      <td>1975-07-01</td>\n",
       "      <td>61.14</td>\n",
       "      <td>975.1</td>\n",
       "    </tr>\n",
       "    <tr>\n",
       "      <th>3</th>\n",
       "      <td>1975-10-01</td>\n",
       "      <td>62.22</td>\n",
       "      <td>997.8</td>\n",
       "    </tr>\n",
       "    <tr>\n",
       "      <th>4</th>\n",
       "      <td>1976-01-01</td>\n",
       "      <td>62.85</td>\n",
       "      <td>1026.6</td>\n",
       "    </tr>\n",
       "    <tr>\n",
       "      <th>...</th>\n",
       "      <td>...</td>\n",
       "      <td>...</td>\n",
       "      <td>...</td>\n",
       "    </tr>\n",
       "    <tr>\n",
       "      <th>185</th>\n",
       "      <td>2021-04-01</td>\n",
       "      <td>511.17</td>\n",
       "      <td>13380.5</td>\n",
       "    </tr>\n",
       "    <tr>\n",
       "      <th>186</th>\n",
       "      <td>2021-07-01</td>\n",
       "      <td>539.60</td>\n",
       "      <td>13380.5</td>\n",
       "    </tr>\n",
       "    <tr>\n",
       "      <th>187</th>\n",
       "      <td>2021-10-01</td>\n",
       "      <td>558.07</td>\n",
       "      <td>13380.5</td>\n",
       "    </tr>\n",
       "    <tr>\n",
       "      <th>188</th>\n",
       "      <td>2022-01-01</td>\n",
       "      <td>578.58</td>\n",
       "      <td>13380.5</td>\n",
       "    </tr>\n",
       "    <tr>\n",
       "      <th>189</th>\n",
       "      <td>2022-04-01</td>\n",
       "      <td>617.89</td>\n",
       "      <td>13380.5</td>\n",
       "    </tr>\n",
       "  </tbody>\n",
       "</table>\n",
       "<p>190 rows × 3 columns</p>\n",
       "</div>"
      ],
      "text/plain": [
       "          Time   STHPI     M2_B\n",
       "0   1975-01-01   60.03    906.3\n",
       "1   1975-04-01   60.98    935.1\n",
       "2   1975-07-01   61.14    975.1\n",
       "3   1975-10-01   62.22    997.8\n",
       "4   1976-01-01   62.85   1026.6\n",
       "..         ...     ...      ...\n",
       "185 2021-04-01  511.17  13380.5\n",
       "186 2021-07-01  539.60  13380.5\n",
       "187 2021-10-01  558.07  13380.5\n",
       "188 2022-01-01  578.58  13380.5\n",
       "189 2022-04-01  617.89  13380.5\n",
       "\n",
       "[190 rows x 3 columns]"
      ]
     },
     "execution_count": 109,
     "metadata": {},
     "output_type": "execute_result"
    }
   ],
   "source": [
    "# df2.columns = [\"Time\", \"STHPI\", \"M2_B\"]\n",
    "# df2\n",
    "# df3.columns = [\"Time\", \"STHPI\", \"M2_B\"]\n",
    "# df3"
   ]
  },
  {
   "cell_type": "markdown",
   "metadata": {},
   "source": [
    "### 시각화"
   ]
  },
  {
   "cell_type": "code",
   "execution_count": 129,
   "metadata": {
    "ExecuteTime": {
     "end_time": "2022-10-29T11:28:58.908022Z",
     "start_time": "2022-10-29T11:28:58.470627Z"
    }
   },
   "outputs": [
    {
     "data": {
      "image/png": "[encoded data removed]",
      "text/plain": [
       "<Figure size 1200x300 with 2 Axes>"
      ]
     },
     "metadata": {},
     "output_type": "display_data"
    }
   ],
   "source": [
    "import matplotlib.pyplot as plt\n",
    "import datetime\n",
    "# 1. 기본 스타일 설정\n",
    "plt.style.use('default')\n",
    "plt.rcParams['figure.figsize'] = (12, 3)\n",
    "plt.rcParams['font.size'] = 12\n",
    "\n",
    "# 2. 데이터 준비\n",
    "xm = df2.Time #df.시점 # df['시점']\n",
    "ym1 = df2.STHPI\n",
    "ym2 = df2.M2_B\n",
    "\n",
    "# 3. 그래프 그리기\n",
    "fig, ax1 = plt.subplots()\n",
    "\n",
    "# y1 : 미국 인덱스에 대한 값\n",
    "ax1.plot(xm, ym1, '-s', color='green', markersize=3, linewidth=3, alpha=0.7, label='US STHPI')\n",
    "\n",
    "ax1.set_ylim(300, 600)\n",
    "ax1.set_xlim(datetime.date(2014,1,1),datetime.date(2022,6,1))\n",
    "ax1.set_xlabel('Year')\n",
    "ax1.set_ylabel('US')\n",
    "ax1.tick_params(axis='both', direction='in')\n",
    "\n",
    "# y2 : M2 통화량\n",
    "ax2 = ax1.twinx()\n",
    "ax2.plot(xm, ym2, '-s', color='blue', markersize=3, linewidth=3, alpha=0.7, label='M2_Billion')\n",
    "\n",
    "# ax2.bar(x, y2, color='deeppink', label='KR Price', alpha=0.7, width=30)\n",
    "# ax2.set_ylim(40, 140)\n",
    "\n",
    "ax2.set_ylim(12000, 13500)\n",
    "ax2.set_ylabel('M2')\n",
    "ax2.tick_params(axis='y', direction='in')\n",
    "\n",
    "# set_zorder() 메서드는 z-축 방향의 순서를 지정합니다.\n",
    "# 아래 그림과 같이 zorder가 낮을수록 먼저 그려지고(ax2 = 한국), zorder가 높을수록 나중에 그려집니다.(ax1 = 미국)\n",
    "\n",
    "ax1.set_zorder(ax2.get_zorder() + 10)\n",
    "ax1.patch.set_visible(False)\n",
    "\n",
    "ax1.legend(loc='upper left')\n",
    "ax2.legend(loc='lower right')\n",
    "\n",
    "plt.savefig('./data/US_USSTHPI_M2.png')\n",
    "\n",
    "plt.show()"
   ]
  },
  {
   "cell_type": "code",
   "execution_count": 178,
   "metadata": {
    "ExecuteTime": {
     "end_time": "2022-10-29T12:57:57.285948Z",
     "start_time": "2022-10-29T12:57:56.786510Z"
    }
   },
   "outputs": [
    {
     "data": {
      "image/png": "[encoded data removed]",
      "text/plain": [
       "<Figure size 1200x300 with 2 Axes>"
      ]
     },
     "metadata": {},
     "output_type": "display_data"
    }
   ],
   "source": [
    "import matplotlib.pyplot as plt\n",
    "import datetime\n",
    "# 1. 기본 스타일 설정\n",
    "plt.style.use('default')\n",
    "plt.rcParams['figure.figsize'] = (12, 3)\n",
    "plt.rcParams['font.size'] = 12\n",
    "\n",
    "# 2. 데이터 준비\n",
    "xm = df3.Time #df.시점 # df['시점']\n",
    "ym1 = df3.M2\n",
    "ym2 = df3.USSTHPI\n",
    "\n",
    "# 3. 그래프 그리기\n",
    "fig, ax1 = plt.subplots()\n",
    "\n",
    "# y1 : 미국 인덱스에 대한 값\n",
    "ax1.plot(xm, ym1, '-s', color='green', markersize=3, linewidth=3, alpha=0.7, label='M2')\n",
    "\n",
    "ax1.set_ylim(10000, 20000)\n",
    "ax1.set_xlim(datetime.date(2014,1,1),datetime.date(2022,6,1))\n",
    "ax1.set_xlabel('Year')\n",
    "ax1.set_ylabel('M2_Billion')\n",
    "ax1.tick_params(axis='both', direction='in')\n",
    "\n",
    "# y2 : M2 통화량\n",
    "ax2 = ax1.twinx()\n",
    "ax2.plot(xm, ym2, '-s', color='blue', markersize=3, linewidth=3, alpha=0.7, label='US STHPI')\n",
    "\n",
    "# ax2.bar(x, y2, color='deeppink', label='KR Price', alpha=0.7, width=30)\n",
    "# ax2.set_ylim(40, 140)\n",
    "\n",
    "ax2.set_ylim(300, 600)\n",
    "ax2.set_ylabel('USSTHPI')\n",
    "ax2.tick_params(axis='y', direction='in')\n",
    "\n",
    "# set_zorder() 메서드는 z-축 방향의 순서를 지정합니다.\n",
    "# 아래 그림과 같이 zorder가 낮을수록 먼저 그려지고(ax2 = 한국), zorder가 높을수록 나중에 그려집니다.(ax1 = 미국)\n",
    "\n",
    "ax1.set_zorder(ax2.get_zorder() + 10)\n",
    "ax1.patch.set_visible(False)\n",
    "\n",
    "ax1.legend(loc='upper left')\n",
    "ax2.legend(loc='lower right')\n",
    "\n",
    "plt.savefig('./data/US_USSTHPI_M2_2022.png')\n",
    "\n",
    "plt.show()"
   ]
  },
  {
   "cell_type": "code",
   "execution_count": null,
   "metadata": {},
   "outputs": [],
   "source": []
  }
 ],
 "metadata": {
  "kernelspec": {
   "display_name": "Python 3",
   "language": "python",
   "name": "python3"
  },
  "language_info": {
   "codemirror_mode": {
    "name": "ipython",
    "version": 3
   },
   "file_extension": ".py",
   "mimetype": "text/x-python",
   "name": "python",
   "nbconvert_exporter": "python",
   "pygments_lexer": "ipython3",
   "version": "3.8.8"
  },
  "latex_envs": {
   "LaTeX_envs_menu_present": true,
   "autoclose": false,
   "autocomplete": true,
   "bibliofile": "biblio.bib",
   "cite_by": "apalike",
   "current_citInitial": 1,
   "eqLabelWithNumbers": true,
   "eqNumInitial": 1,
   "hotkeys": {
    "equation": "Ctrl-E",
    "itemize": "Ctrl-I"
   },
   "labels_anchors": false,
   "latex_user_defs": false,
   "report_style_numbering": false,
   "user_envs_cfg": false
  },
  "toc": {
   "base_numbering": 1,
   "nav_menu": {},
   "number_sections": true,
   "sideBar": true,
   "skip_h1_title": false,
   "title_cell": "Table of Contents",
   "title_sidebar": "Contents",
   "toc_cell": false,
   "toc_position": {},
   "toc_section_display": true,
   "toc_window_display": false
  }
 },
 "nbformat": 4,
 "nbformat_minor": 4
}
