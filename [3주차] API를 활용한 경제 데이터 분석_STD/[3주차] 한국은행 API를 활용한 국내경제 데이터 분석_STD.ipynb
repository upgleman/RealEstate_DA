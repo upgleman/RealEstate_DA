{
 "cells": [
  {
   "cell_type": "markdown",
   "metadata": {},
   "source": [
    "# <span style=\"color:royalblue\"> [3주차] API 쉽게 배우기</span> <img src=\"./data/logo.png\" style=\"width: 120px;\" align=\"right\">\n",
    "# 한국은행 API를 활용한 국내경제 데이터 분석 \n",
    "\n",
    "--- "
   ]
  },
  {
   "cell_type": "markdown",
   "metadata": {
    "ExecuteTime": {
     "end_time": "2021-10-15T07:31:11.077550Z",
     "start_time": "2021-10-15T07:31:11.058601Z"
    }
   },
   "source": [
    "<div style=\"text-align: right\"> Final Edition : 2022.11.1<br>\n",
    "    copyrightⓒ 2022 All rights reserved by Data Lover Pablo </div>"
   ]
  },
  {
   "cell_type": "markdown",
   "metadata": {},
   "source": [
    "# <span style=\"color:gray\"> [지난시간] 1. 미국 연방준비은행 세인트루이스 </span>\n",
    "\n",
    "[FRED(Federal Reserve Economic Data](https://fred.stlouisfed.org/) : 연방 준비 은행 경제 데이터  <BR>"
   ]
  },
  {
   "cell_type": "markdown",
   "metadata": {},
   "source": [
    "# 2. 한국은행 경제통계 시스템  \n",
    "\n",
    "[ECOS(Economic Statistics System)](http://ecos.bok.or.kr/jsp/openapi/OpenApiController.jsp?t=main) : 한국은행 경제통계 시스템 <BR>  "
   ]
  },
  {
   "cell_type": "markdown",
   "metadata": {},
   "source": [
    "# <span style=\"color:gray\"> [다음시간] 3. 공공 데이터 포털 </span>\n",
    "\n",
    "국토부 부동산 실거래가 데이터 수집 API  \n",
    "오픈소스 라이브러리 PublicDataReader [공식 Github](https://github.com/WooilJeong/PublicDataReader)\n",
    " - 부동산 데이터 수집하기\n",
    " - 건축물대장 데이터 조회하기\n",
    " - 상가업소 데이터 수집하기"
   ]
  },
  {
   "cell_type": "markdown",
   "metadata": {},
   "source": [
    "### 한국은행 API 사용법 참고 블로그\n",
    "http://bjecondata.blogspot.com/2019/08/open-api-ecos-ii.html  \n",
    "https://hayjo.tistory.com/59?category=913163"
   ]
  },
  {
   "cell_type": "markdown",
   "metadata": {},
   "source": [
    "## 1.1 필요한 Parser(파서) 패키지 설치"
   ]
  },
  {
   "cell_type": "markdown",
   "metadata": {
    "ExecuteTime": {
     "end_time": "2022-01-16T07:16:02.305621Z",
     "start_time": "2022-01-16T07:16:02.290686Z"
    }
   },
   "source": [
    "[BeautifulSoup 공식홈페이지 - Parser 비교](https://www.crummy.com/software/BeautifulSoup/bs4/doc/)"
   ]
  },
  {
   "cell_type": "markdown",
   "metadata": {
    "ExecuteTime": {
     "end_time": "2022-01-16T07:18:55.287763Z",
     "start_time": "2022-01-16T07:18:55.276933Z"
    }
   },
   "source": [
    "<img src=\"./data/parser.jpg\" style=\"width: 1000px;\" align=\"center\">"
   ]
  },
  {
   "cell_type": "code",
   "execution_count": 1,
   "metadata": {
    "ExecuteTime": {
     "end_time": "2022-10-31T13:47:08.113177Z",
     "start_time": "2022-10-31T13:47:08.097230Z"
    }
   },
   "outputs": [],
   "source": [
    "# 표 형식의 데이터를 크롤링, 파싱하는 패키지 설치\n",
    "# !pip install html_table_parser    "
   ]
  },
  {
   "cell_type": "code",
   "execution_count": 2,
   "metadata": {
    "ExecuteTime": {
     "end_time": "2022-10-31T13:47:08.128127Z",
     "start_time": "2022-10-31T13:47:08.115170Z"
    }
   },
   "outputs": [],
   "source": [
    "# HTML 문서를 트리구조로 분석해주는 라이브러리 # !pip install --upgrade html5lib\n",
    "# !pip install --upgrade html5lib==1.0b8\n",
    "# 설치후 커넬 리스타트 해야 합니다."
   ]
  },
  {
   "cell_type": "markdown",
   "metadata": {},
   "source": [
    "html 문서를 파싱하는 beatiful soup 업데이트  \n",
    "html_table_parser 을 설치하면 그에 맞는 버전으로 beautifulsoup4이 설치됩니다.(4.4.1)  \n",
    "!pip install --upgrade beautifulsoup4 "
   ]
  },
  {
   "cell_type": "code",
   "execution_count": 3,
   "metadata": {
    "ExecuteTime": {
     "end_time": "2022-10-31T13:47:08.143077Z",
     "start_time": "2022-10-31T13:47:08.130133Z"
    }
   },
   "outputs": [],
   "source": [
    "# !pip uninstall BeautifulSoup\n",
    "# !pip uninstall BeautifulSoup4\n",
    "# !pip install BeautifulSoup\n",
    "# !pip install html_table_parser\n",
    "# html 문서를 파싱하는 beatiful soup 업데이트\n",
    "# !pip install --upgrade beautifulsoup4    \n",
    "# !pip install --upgrade html5lib          \n",
    "# HTML 문서를 트리구조로 분석해주는 라이브러리\n",
    "# import bs4\n",
    "# print(num.__version__)"
   ]
  },
  {
   "cell_type": "markdown",
   "metadata": {},
   "source": [
    "## 1.2 한국은행 제공코드 결과확인\n",
    "[한국은행 파이썬 개발가이드](https://ecos.bok.or.kr/api/#/DevGuide/LanguageDevGuide)"
   ]
  },
  {
   "cell_type": "code",
   "execution_count": 4,
   "metadata": {
    "ExecuteTime": {
     "end_time": "2022-10-31T13:47:08.518890Z",
     "start_time": "2022-10-31T13:47:08.146068Z"
    }
   },
   "outputs": [
    {
     "name": "stdout",
     "output_type": "stream",
     "text": [
      "<?xml version=\"1.0\" encoding=\"UTF-8\"?>\n",
      "<StatisticTableList>\n",
      "  <list_total_count number=\"true\">1</list_total_count>\n",
      "  <row array=\"true\">\n",
      "    <P_STAT_CODE>0000000004</P_STAT_CODE>\n",
      "    <STAT_CODE>102Y004</STAT_CODE>\n",
      "    <STAT_NAME>1.1.1.1.1. 본원통화 구성내역(평잔, 계절조정계열)</STAT_NAME>\n",
      "    <CYCLE>M</CYCLE>\n",
      "    <SRCH_YN>Y</SRCH_YN>\n",
      "    <ORG_NAME>한국은행</ORG_NAME>\n",
      "  </row>\n",
      "</StatisticTableList>\n"
     ]
    }
   ],
   "source": [
    "import requests \n",
    "import xml.etree.ElementTree as ET \n",
    "\n",
    "## 호출하려는 OpenAPI URL를 정의합니다.\n",
    "url = \"https://ecos.bok.or.kr/api/StatisticTableList/sample/xml/kr/1/10/102Y004\"\n",
    "\n",
    "# sample : API 인증키\n",
    "# xml : 데이터 타입\n",
    "# kr : 한국\n",
    "# start : 1\n",
    "# end : 1\n",
    "\n",
    "# 043Y070 : 지역별 소비유형별 개인 신용카드\n",
    "# 021Y125 : 소비자물가지수\n",
    "\n",
    "\n",
    "## 정의된 OpenAPI URL을 호출합니다.\n",
    "response = requests.get(url)\n",
    "\n",
    "## http 요청이 성공했을때 API의 리턴값을 가져옵니다.\n",
    "if response.status_code == 200:\n",
    "    try:\n",
    "        contents = response.text\n",
    "        ecosRoot = ET.fromstring(contents)\n",
    "      \n",
    "        ## 호출결과에 오류가 있었는지 확인합니다.\n",
    "        if ecosRoot[0].text[:4] in (\"INFO\",\"ERRO\"):\n",
    "            print(ecosRoot[0].text + \" : \" + ecosRoot[1].text)\n",
    "\n",
    "            ## 오류메세지를 확인하고 처리합니다.\n",
    "        else:\n",
    "            print(contents)\n",
    "\n",
    "            ## 결과값을 활용하여 필요한 프로그램을 작성합니다.\n",
    "    except Exception as e:\n",
    "        print(str(e))\n",
    "\n",
    "        ##예외가 발생했을때 처리합니다.\n",
    "# 종료 태그가 없는 빈 태그(empty tag)는 반드시 끝에 공백과 함께 슬래시(/)를 붙여야 합니다."
   ]
  },
  {
   "cell_type": "markdown",
   "metadata": {},
   "source": [
    "## 1.3 한국은행 경제통계시스템 개발가이드\n",
    "[통계코드 검색](https://ecos.bok.or.kr/api/#/DevGuide/StatisticalCodeSearch)"
   ]
  },
  {
   "cell_type": "markdown",
   "metadata": {},
   "source": [
    "## 1.4 필요한 패키지, 모듈 불러오기"
   ]
  },
  {
   "cell_type": "code",
   "execution_count": 5,
   "metadata": {
    "ExecuteTime": {
     "end_time": "2022-10-31T13:47:09.189465Z",
     "start_time": "2022-10-31T13:47:08.520883Z"
    }
   },
   "outputs": [],
   "source": [
    "import datetime                     \n",
    "import requests\n",
    "import pandas as pd\n",
    "import numpy as np\n",
    "from bs4 import BeautifulSoup"
   ]
  },
  {
   "cell_type": "markdown",
   "metadata": {},
   "source": [
    "### [참고] 데이터 프레임을 자유자재로 다루기위한 기초  \n",
    "설명이 잘 되어 있는 블로그 : https://3months.tistory.com/292"
   ]
  },
  {
   "cell_type": "markdown",
   "metadata": {
    "ExecuteTime": {
     "end_time": "2021-09-24T10:22:11.198880Z",
     "start_time": "2021-09-24T10:22:11.183731Z"
    }
   },
   "source": [
    "## 1.5 한국은행에서 가져올 데이터 프레임 만들기 - 방법1"
   ]
  },
  {
   "cell_type": "code",
   "execution_count": 6,
   "metadata": {
    "ExecuteTime": {
     "end_time": "2022-10-31T13:47:09.204541Z",
     "start_time": "2022-10-31T13:47:09.189465Z"
    }
   },
   "outputs": [],
   "source": [
    "# 방법1 - {칼럼명 : [데이터], 칼럼명 : [데이터]}\n",
    "df = pd.DataFrame({\n",
    "    \"통계코드\": ['901Y014', '722Y001'],\n",
    "    \"항목명1\": ['KOSPI_평균', '한국은행기준금리'],\n",
    "    \"주기\": ['M', 'M'],\n",
    "    \"항목코드1\": ['1080000', '0101000'],\n",
    "    \"항목코드2\": [\"\",\"\"],\n",
    "    \"항목코드3\": [\"\",\"\"]\n",
    "    \n",
    "})"
   ]
  },
  {
   "cell_type": "code",
   "execution_count": 7,
   "metadata": {
    "ExecuteTime": {
     "end_time": "2022-10-31T13:47:09.235103Z",
     "start_time": "2022-10-31T13:47:09.206531Z"
    }
   },
   "outputs": [
    {
     "data": {
      "text/html": [
       "<div>\n",
       "<style scoped>\n",
       "    .dataframe tbody tr th:only-of-type {\n",
       "        vertical-align: middle;\n",
       "    }\n",
       "\n",
       "    .dataframe tbody tr th {\n",
       "        vertical-align: top;\n",
       "    }\n",
       "\n",
       "    .dataframe thead th {\n",
       "        text-align: right;\n",
       "    }\n",
       "</style>\n",
       "<table border=\"1\" class=\"dataframe\">\n",
       "  <thead>\n",
       "    <tr style=\"text-align: right;\">\n",
       "      <th></th>\n",
       "      <th>통계코드</th>\n",
       "      <th>항목명1</th>\n",
       "      <th>주기</th>\n",
       "      <th>항목코드1</th>\n",
       "      <th>항목코드2</th>\n",
       "      <th>항목코드3</th>\n",
       "    </tr>\n",
       "  </thead>\n",
       "  <tbody>\n",
       "    <tr>\n",
       "      <th>0</th>\n",
       "      <td>901Y014</td>\n",
       "      <td>KOSPI_평균</td>\n",
       "      <td>M</td>\n",
       "      <td>1080000</td>\n",
       "      <td></td>\n",
       "      <td></td>\n",
       "    </tr>\n",
       "    <tr>\n",
       "      <th>1</th>\n",
       "      <td>722Y001</td>\n",
       "      <td>한국은행기준금리</td>\n",
       "      <td>M</td>\n",
       "      <td>0101000</td>\n",
       "      <td></td>\n",
       "      <td></td>\n",
       "    </tr>\n",
       "  </tbody>\n",
       "</table>\n",
       "</div>"
      ],
      "text/plain": [
       "      통계코드      항목명1 주기    항목코드1 항목코드2 항목코드3\n",
       "0  901Y014  KOSPI_평균  M  1080000            \n",
       "1  722Y001  한국은행기준금리  M  0101000            "
      ]
     },
     "execution_count": 7,
     "metadata": {},
     "output_type": "execute_result"
    }
   ],
   "source": [
    "df"
   ]
  },
  {
   "cell_type": "code",
   "execution_count": 8,
   "metadata": {
    "ExecuteTime": {
     "end_time": "2022-10-31T13:47:09.250136Z",
     "start_time": "2022-10-31T13:47:09.239090Z"
    }
   },
   "outputs": [],
   "source": [
    "# # 방법2  data = [[행별 데이터],[행별 데이터]], index=[], column=[]\n",
    "# df_1 = pd.DataFrame(data=([['901Y001', '실업률', 'MM', 'AI1AJ'],\n",
    "#                            ['901Y001', '고용률', 'MM', 'AI1AK']]),\n",
    "#                     index=[0, 1],\n",
    "#                     columns=[\"통계코드\", \"항목명1\", \"주기\", \"항목코드1\"])\n",
    "# df_1"
   ]
  },
  {
   "cell_type": "markdown",
   "metadata": {
    "ExecuteTime": {
     "end_time": "2021-10-15T07:54:50.686404Z",
     "start_time": "2021-10-15T07:54:50.668455Z"
    }
   },
   "source": [
    "### 1.5.1 항목코드 칼럼추가"
   ]
  },
  {
   "cell_type": "code",
   "execution_count": 9,
   "metadata": {
    "ExecuteTime": {
     "end_time": "2022-10-31T13:47:09.269989Z",
     "start_time": "2022-10-31T13:47:09.252048Z"
    }
   },
   "outputs": [],
   "source": [
    "# # 칼럼추가 Append a column to `df`\n",
    "# df.loc[:, '항목코드2'] = pd.Series(['',''], index=df.index)\n",
    "# df.loc[:, '항목코드3'] = pd.Series(['',''], index=df.index)\n",
    "# df"
   ]
  },
  {
   "cell_type": "code",
   "execution_count": 10,
   "metadata": {
    "ExecuteTime": {
     "end_time": "2022-10-31T13:47:09.295972Z",
     "start_time": "2022-10-31T13:47:09.276968Z"
    }
   },
   "outputs": [
    {
     "data": {
      "text/html": [
       "<div>\n",
       "<style scoped>\n",
       "    .dataframe tbody tr th:only-of-type {\n",
       "        vertical-align: middle;\n",
       "    }\n",
       "\n",
       "    .dataframe tbody tr th {\n",
       "        vertical-align: top;\n",
       "    }\n",
       "\n",
       "    .dataframe thead th {\n",
       "        text-align: right;\n",
       "    }\n",
       "</style>\n",
       "<table border=\"1\" class=\"dataframe\">\n",
       "  <thead>\n",
       "    <tr style=\"text-align: right;\">\n",
       "      <th></th>\n",
       "      <th>통계코드</th>\n",
       "      <th>항목명1</th>\n",
       "      <th>주기</th>\n",
       "      <th>항목코드1</th>\n",
       "      <th>항목코드2</th>\n",
       "      <th>항목코드3</th>\n",
       "    </tr>\n",
       "  </thead>\n",
       "  <tbody>\n",
       "    <tr>\n",
       "      <th>0</th>\n",
       "      <td>901Y014</td>\n",
       "      <td>KOSPI_평균</td>\n",
       "      <td>M</td>\n",
       "      <td>1080000</td>\n",
       "      <td></td>\n",
       "      <td></td>\n",
       "    </tr>\n",
       "    <tr>\n",
       "      <th>1</th>\n",
       "      <td>722Y001</td>\n",
       "      <td>한국은행기준금리</td>\n",
       "      <td>M</td>\n",
       "      <td>0101000</td>\n",
       "      <td></td>\n",
       "      <td></td>\n",
       "    </tr>\n",
       "  </tbody>\n",
       "</table>\n",
       "</div>"
      ],
      "text/plain": [
       "      통계코드      항목명1 주기    항목코드1 항목코드2 항목코드3\n",
       "0  901Y014  KOSPI_평균  M  1080000            \n",
       "1  722Y001  한국은행기준금리  M  0101000            "
      ]
     },
     "execution_count": 10,
     "metadata": {},
     "output_type": "execute_result"
    }
   ],
   "source": [
    "df"
   ]
  },
  {
   "cell_type": "markdown",
   "metadata": {},
   "source": [
    "### 1.5.2 행 데이터 추가"
   ]
  },
  {
   "cell_type": "code",
   "execution_count": 11,
   "metadata": {
    "ExecuteTime": {
     "end_time": "2022-10-31T13:47:09.310888Z",
     "start_time": "2022-10-31T13:47:09.296897Z"
    }
   },
   "outputs": [],
   "source": [
    "temp = pd.DataFrame(data=[['902Y007', '생산자물가지수','M','KR',\"\",\"\"]], columns=[\"통계코드\", \"항목명1\", \"주기\", \"항목코드1\",\"항목코드2\", \"항목코드3\"])"
   ]
  },
  {
   "cell_type": "code",
   "execution_count": 12,
   "metadata": {
    "ExecuteTime": {
     "end_time": "2022-10-31T13:47:09.325804Z",
     "start_time": "2022-10-31T13:47:09.313841Z"
    }
   },
   "outputs": [
    {
     "data": {
      "text/html": [
       "<div>\n",
       "<style scoped>\n",
       "    .dataframe tbody tr th:only-of-type {\n",
       "        vertical-align: middle;\n",
       "    }\n",
       "\n",
       "    .dataframe tbody tr th {\n",
       "        vertical-align: top;\n",
       "    }\n",
       "\n",
       "    .dataframe thead th {\n",
       "        text-align: right;\n",
       "    }\n",
       "</style>\n",
       "<table border=\"1\" class=\"dataframe\">\n",
       "  <thead>\n",
       "    <tr style=\"text-align: right;\">\n",
       "      <th></th>\n",
       "      <th>통계코드</th>\n",
       "      <th>항목명1</th>\n",
       "      <th>주기</th>\n",
       "      <th>항목코드1</th>\n",
       "      <th>항목코드2</th>\n",
       "      <th>항목코드3</th>\n",
       "    </tr>\n",
       "  </thead>\n",
       "  <tbody>\n",
       "    <tr>\n",
       "      <th>0</th>\n",
       "      <td>902Y007</td>\n",
       "      <td>생산자물가지수</td>\n",
       "      <td>M</td>\n",
       "      <td>KR</td>\n",
       "      <td></td>\n",
       "      <td></td>\n",
       "    </tr>\n",
       "  </tbody>\n",
       "</table>\n",
       "</div>"
      ],
      "text/plain": [
       "      통계코드     항목명1 주기 항목코드1 항목코드2 항목코드3\n",
       "0  902Y007  생산자물가지수  M    KR            "
      ]
     },
     "execution_count": 12,
     "metadata": {},
     "output_type": "execute_result"
    }
   ],
   "source": [
    "temp"
   ]
  },
  {
   "cell_type": "code",
   "execution_count": 13,
   "metadata": {
    "ExecuteTime": {
     "end_time": "2022-10-31T13:47:09.340751Z",
     "start_time": "2022-10-31T13:47:09.327794Z"
    }
   },
   "outputs": [
    {
     "data": {
      "text/html": [
       "<div>\n",
       "<style scoped>\n",
       "    .dataframe tbody tr th:only-of-type {\n",
       "        vertical-align: middle;\n",
       "    }\n",
       "\n",
       "    .dataframe tbody tr th {\n",
       "        vertical-align: top;\n",
       "    }\n",
       "\n",
       "    .dataframe thead th {\n",
       "        text-align: right;\n",
       "    }\n",
       "</style>\n",
       "<table border=\"1\" class=\"dataframe\">\n",
       "  <thead>\n",
       "    <tr style=\"text-align: right;\">\n",
       "      <th></th>\n",
       "      <th>통계코드</th>\n",
       "      <th>항목명1</th>\n",
       "      <th>주기</th>\n",
       "      <th>항목코드1</th>\n",
       "      <th>항목코드2</th>\n",
       "      <th>항목코드3</th>\n",
       "    </tr>\n",
       "  </thead>\n",
       "  <tbody>\n",
       "    <tr>\n",
       "      <th>0</th>\n",
       "      <td>901Y014</td>\n",
       "      <td>KOSPI_평균</td>\n",
       "      <td>M</td>\n",
       "      <td>1080000</td>\n",
       "      <td></td>\n",
       "      <td></td>\n",
       "    </tr>\n",
       "    <tr>\n",
       "      <th>1</th>\n",
       "      <td>722Y001</td>\n",
       "      <td>한국은행기준금리</td>\n",
       "      <td>M</td>\n",
       "      <td>0101000</td>\n",
       "      <td></td>\n",
       "      <td></td>\n",
       "    </tr>\n",
       "  </tbody>\n",
       "</table>\n",
       "</div>"
      ],
      "text/plain": [
       "      통계코드      항목명1 주기    항목코드1 항목코드2 항목코드3\n",
       "0  901Y014  KOSPI_평균  M  1080000            \n",
       "1  722Y001  한국은행기준금리  M  0101000            "
      ]
     },
     "execution_count": 13,
     "metadata": {},
     "output_type": "execute_result"
    }
   ],
   "source": [
    "# df = pd.concat([df, temp])\n",
    "df"
   ]
  },
  {
   "cell_type": "code",
   "execution_count": 14,
   "metadata": {
    "ExecuteTime": {
     "end_time": "2022-10-31T13:47:09.370655Z",
     "start_time": "2022-10-31T13:47:09.342745Z"
    }
   },
   "outputs": [
    {
     "data": {
      "text/html": [
       "<div>\n",
       "<style scoped>\n",
       "    .dataframe tbody tr th:only-of-type {\n",
       "        vertical-align: middle;\n",
       "    }\n",
       "\n",
       "    .dataframe tbody tr th {\n",
       "        vertical-align: top;\n",
       "    }\n",
       "\n",
       "    .dataframe thead th {\n",
       "        text-align: right;\n",
       "    }\n",
       "</style>\n",
       "<table border=\"1\" class=\"dataframe\">\n",
       "  <thead>\n",
       "    <tr style=\"text-align: right;\">\n",
       "      <th></th>\n",
       "      <th>통계코드</th>\n",
       "      <th>항목명1</th>\n",
       "      <th>주기</th>\n",
       "      <th>항목코드1</th>\n",
       "      <th>항목코드2</th>\n",
       "      <th>항목코드3</th>\n",
       "    </tr>\n",
       "  </thead>\n",
       "  <tbody>\n",
       "    <tr>\n",
       "      <th>0</th>\n",
       "      <td>901Y014</td>\n",
       "      <td>KOSPI_평균</td>\n",
       "      <td>M</td>\n",
       "      <td>1080000</td>\n",
       "      <td></td>\n",
       "      <td></td>\n",
       "    </tr>\n",
       "    <tr>\n",
       "      <th>1</th>\n",
       "      <td>722Y001</td>\n",
       "      <td>한국은행기준금리</td>\n",
       "      <td>M</td>\n",
       "      <td>0101000</td>\n",
       "      <td></td>\n",
       "      <td></td>\n",
       "    </tr>\n",
       "    <tr>\n",
       "      <th>2</th>\n",
       "      <td>902Y007</td>\n",
       "      <td>생산자물가지수</td>\n",
       "      <td>M</td>\n",
       "      <td>KR</td>\n",
       "      <td></td>\n",
       "      <td></td>\n",
       "    </tr>\n",
       "  </tbody>\n",
       "</table>\n",
       "</div>"
      ],
      "text/plain": [
       "      통계코드      항목명1 주기    항목코드1 항목코드2 항목코드3\n",
       "0  901Y014  KOSPI_평균  M  1080000            \n",
       "1  722Y001  한국은행기준금리  M  0101000            \n",
       "2  902Y007   생산자물가지수  M       KR            "
      ]
     },
     "execution_count": 14,
     "metadata": {},
     "output_type": "execute_result"
    }
   ],
   "source": [
    "# 기준금리 행 추가\n",
    "# 통계표 > 2. 한국은행 주요계정 및 기준금리 > 2.6 한국은행 기준금리 및 여수신금리 > 한국은행 기준금리 [010100]\n",
    "\n",
    "temp = pd.DataFrame(data=[['902Y007', '생산자물가지수','M','KR',\"\",\"\"]], columns=[\"통계코드\", \"항목명1\", \"주기\", \"항목코드1\",\"항목코드2\", \"항목코드3\"])\n",
    "\n",
    "df = pd.concat([df, temp])\n",
    "df = df.reset_index(drop=True)\n",
    "df"
   ]
  },
  {
   "cell_type": "markdown",
   "metadata": {},
   "source": [
    "###  1.5.3 열 삭제 및 행 삭제"
   ]
  },
  {
   "cell_type": "markdown",
   "metadata": {},
   "source": [
    "#### 1.5.3.1 열(columns) 삭제\n",
    "\n",
    "* columns 이름으로 삭제  \n",
    "df.drop(columns = ['A'])  # 한 개 열을 삭제  \n",
    "df.drop(columns = ['A','B'])  #여러개 열을 삭제  \n",
    "<br><br>\n",
    "\n",
    "* axis 설정을 통해 삭제  \n",
    "df.drop('A', axis = 1)   #한 개 열을 삭제  \n",
    "df.drop(['A', 'B'], axis = 1)   #여러개 열을 삭제  \n",
    "<br><br>\n",
    "\n",
    "* iloc를 이용한 삭제(Slicing)  \n",
    "df.iloc[:, 1:] # 0번째 column을 삭제하고 나머지만 남긴다.<br>\n",
    "df.iloc[:,2:] # 0번째, 1번째 column 삭제 뒤 나머지만 남기기.  \n",
    "<br><br>    \n",
    "\n",
    "* loc를 이용한 삭제(Slicing)       <br>\n",
    "df.loc[:,'B':]  # B열부터 끝까지 출력  \n",
    "df.loc[:,'A':'B'] # A열부터 B열까지 출력"
   ]
  },
  {
   "cell_type": "markdown",
   "metadata": {},
   "source": [
    "#### 1.5.3.2 행(row) 삭제\n",
    "* 인덱스를 이용한 삭제  \n",
    "df.drop(0)  # index 중 0 행 삭제, default값이 axis = 0<BR>\n",
    "df.drop([1,2]) # 여러 행 삭제 - 1, 2 행 삭제   "
   ]
  },
  {
   "cell_type": "code",
   "execution_count": 15,
   "metadata": {
    "ExecuteTime": {
     "end_time": "2022-10-31T13:47:09.385601Z",
     "start_time": "2022-10-31T13:47:09.372644Z"
    }
   },
   "outputs": [],
   "source": [
    "# 열(칼럼)삭제 - 항목코드2 \n",
    "# df.drop(columns = ['항목코드2'], inplace=True) # 한 개 열을 삭제"
   ]
  },
  {
   "cell_type": "code",
   "execution_count": 16,
   "metadata": {
    "ExecuteTime": {
     "end_time": "2022-10-31T13:47:09.400558Z",
     "start_time": "2022-10-31T13:47:09.387594Z"
    }
   },
   "outputs": [],
   "source": [
    "# 행(로우) 삭제 - 고용률\n",
    "# df.drop([1], inplace=True) # 한 개 행을 삭제"
   ]
  },
  {
   "cell_type": "code",
   "execution_count": 17,
   "metadata": {
    "ExecuteTime": {
     "end_time": "2022-10-31T13:47:09.415501Z",
     "start_time": "2022-10-31T13:47:09.405535Z"
    }
   },
   "outputs": [],
   "source": [
    "# df = df.replace(np.nan,'', regex=True) # regex = True 정규표현식 작동. 문자열 일부만 치환하고 싶은 경우"
   ]
  },
  {
   "cell_type": "markdown",
   "metadata": {
    "ExecuteTime": {
     "end_time": "2021-10-19T11:55:09.066686Z",
     "start_time": "2021-10-19T11:55:09.058175Z"
    }
   },
   "source": [
    "정규표현식에 대해서는 아래 블로그 공부해보시면 좋습니다. https://ponyozzang.tistory.com/614"
   ]
  },
  {
   "cell_type": "markdown",
   "metadata": {
    "ExecuteTime": {
     "end_time": "2021-10-18T09:44:36.357200Z",
     "start_time": "2021-10-18T09:44:36.344116Z"
    }
   },
   "source": [
    "## <span style=\"color:red\"> 1.6 각자의 API KEY를 입력하세요  </span>"
   ]
  },
  {
   "cell_type": "code",
   "execution_count": 18,
   "metadata": {
    "ExecuteTime": {
     "end_time": "2022-10-31T13:47:09.430450Z",
     "start_time": "2022-10-31T13:47:09.417494Z"
    }
   },
   "outputs": [],
   "source": [
    "key = '6L9NIJW1BDGVDJLBO4CA' # 한국은행API 인증코드(개인별 보안자료)"
   ]
  },
  {
   "cell_type": "markdown",
   "metadata": {},
   "source": [
    "## [Tips] 정규 표현식(正規表現式, 영어: regular expression)\n",
    "간단히 regexp 또는 regex, rational expression<br>\n",
    "또는 정규식(正規式)은 특정한 규칙을 가진 문자열의 집합을 표현하는 데 사용하는 형식 언어<br>\n",
    "특정한 패턴과 일치하는 문자열을 검색, 치환, 제거 하는 기능을 지원함.\n",
    "[상세한 내용은 점프 투 파이썬 온라인 교재 참고해주세요](https://wikidocs.net/13#f)"
   ]
  },
  {
   "cell_type": "markdown",
   "metadata": {},
   "source": [
    "### strptime  : 문자열 → 날짜\n",
    "strptime means string parser, this will convert a string format to datetime.   \n",
    "\n",
    "### strftime : 날짜 → 문자열\n",
    "strftime means string formatter, this will format a datetime object to string format."
   ]
  },
  {
   "cell_type": "code",
   "execution_count": 19,
   "metadata": {
    "ExecuteTime": {
     "end_time": "2022-10-31T13:47:09.445401Z",
     "start_time": "2022-10-31T13:47:09.431448Z"
    }
   },
   "outputs": [],
   "source": [
    "# name = '홍길동'\n",
    "# age = 30"
   ]
  },
  {
   "cell_type": "code",
   "execution_count": 20,
   "metadata": {
    "ExecuteTime": {
     "end_time": "2022-10-31T13:47:09.460351Z",
     "start_time": "2022-10-31T13:47:09.447395Z"
    }
   },
   "outputs": [],
   "source": [
    "# f'나의 이름은 {name}입니다. 나이는 {age}입니다.'"
   ]
  },
  {
   "cell_type": "code",
   "execution_count": 21,
   "metadata": {
    "ExecuteTime": {
     "end_time": "2022-10-31T13:47:09.475683Z",
     "start_time": "2022-10-31T13:47:09.462345Z"
    }
   },
   "outputs": [],
   "source": [
    "# key=1\n",
    "# Statcode='0'\n",
    "# Freq='1'\n",
    "# Begdate='2'\n",
    "# Enddate='3'\n",
    "# Subcode1='4'\n",
    "# Subcode2='5'\n",
    "# Subcode3='6'"
   ]
  },
  {
   "cell_type": "code",
   "execution_count": 22,
   "metadata": {
    "ExecuteTime": {
     "end_time": "2022-10-31T13:47:09.490692Z",
     "start_time": "2022-10-31T13:47:09.477677Z"
    }
   },
   "outputs": [],
   "source": [
    "# url = f'http://ecos.bok.or.kr/api/StatisticSearch/{key}/xml/kr/1/100000/{Statcode}{Freq}{Begdate}{Enddate}{Subcode1}{Subcode2}{Subcode3}'\n",
    "# url"
   ]
  },
  {
   "cell_type": "markdown",
   "metadata": {},
   "source": [
    "### 1.6.1 df 표에서 정의한 데이터를 호출하는 함수"
   ]
  },
  {
   "cell_type": "code",
   "execution_count": 23,
   "metadata": {
    "ExecuteTime": {
     "end_time": "2022-10-31T13:47:09.505632Z",
     "start_time": "2022-10-31T13:47:09.493681Z"
    }
   },
   "outputs": [],
   "source": [
    "def Ecos(Statcode, Statname, Freq, Begdate, Enddate, Subcode1, Subcode2, Subcode3):\n",
    "\n",
    "    url = 'http://ecos.bok.or.kr/api/StatisticSearch/' + key + '/xml/kr/1/100000/%s/%s/%s/%s/%s/%s/%s/' % (\n",
    "        Statcode, Freq, Begdate, Enddate, Subcode1, Subcode2, Subcode3)\n",
    "    res = requests.get(url)\n",
    "    xml = BeautifulSoup(res.text, 'xml')\n",
    "\n",
    "    # Pandas 데이터프레임으로 전환합니다.\n",
    "    raw_data = xml.find_all(\"row\")\n",
    "    date_list = []\n",
    "    value_list = []\n",
    "\n",
    "    for item in raw_data:\n",
    "\n",
    "        value = item.find('DATA_VALUE').text.encode('utf-8')\n",
    "        date_str = item.find('TIME').text\n",
    "\n",
    "        # value 값을 실수로 바꿔주고 만약 안되면 NaN을 입력\n",
    "        try:\n",
    "            value = float(value)\n",
    "        except:\n",
    "            value = np.nan\n",
    "\n",
    "        date_list.append(datetime.datetime.strptime(date_str, '%Y%m'))\n",
    "        value_list.append(value)\n",
    "\n",
    "    df = pd.DataFrame(index=date_list)\n",
    "\n",
    "    df['%s' % (Statname)] = value_list\n",
    "\n",
    "    return df"
   ]
  },
  {
   "cell_type": "code",
   "execution_count": 24,
   "metadata": {
    "ExecuteTime": {
     "end_time": "2022-10-31T13:47:09.521218Z",
     "start_time": "2022-10-31T13:47:09.507629Z"
    }
   },
   "outputs": [],
   "source": [
    "### 1.6.2 위에서 정의한 함수(Ecos)를 사용하여 데이터를 뽑아 날짜 인덱스를 기준으로 세로로 병합(merge)한 함수"
   ]
  },
  {
   "cell_type": "code",
   "execution_count": 25,
   "metadata": {
    "ExecuteTime": {
     "end_time": "2022-10-31T13:47:09.536176Z",
     "start_time": "2022-10-31T13:47:09.523221Z"
    }
   },
   "outputs": [
    {
     "data": {
      "text/html": [
       "<div>\n",
       "<style scoped>\n",
       "    .dataframe tbody tr th:only-of-type {\n",
       "        vertical-align: middle;\n",
       "    }\n",
       "\n",
       "    .dataframe tbody tr th {\n",
       "        vertical-align: top;\n",
       "    }\n",
       "\n",
       "    .dataframe thead th {\n",
       "        text-align: right;\n",
       "    }\n",
       "</style>\n",
       "<table border=\"1\" class=\"dataframe\">\n",
       "  <thead>\n",
       "    <tr style=\"text-align: right;\">\n",
       "      <th></th>\n",
       "      <th>통계코드</th>\n",
       "      <th>항목명1</th>\n",
       "      <th>주기</th>\n",
       "      <th>항목코드1</th>\n",
       "      <th>항목코드2</th>\n",
       "      <th>항목코드3</th>\n",
       "    </tr>\n",
       "  </thead>\n",
       "  <tbody>\n",
       "    <tr>\n",
       "      <th>0</th>\n",
       "      <td>901Y014</td>\n",
       "      <td>KOSPI_평균</td>\n",
       "      <td>M</td>\n",
       "      <td>1080000</td>\n",
       "      <td></td>\n",
       "      <td></td>\n",
       "    </tr>\n",
       "    <tr>\n",
       "      <th>1</th>\n",
       "      <td>722Y001</td>\n",
       "      <td>한국은행기준금리</td>\n",
       "      <td>M</td>\n",
       "      <td>0101000</td>\n",
       "      <td></td>\n",
       "      <td></td>\n",
       "    </tr>\n",
       "    <tr>\n",
       "      <th>2</th>\n",
       "      <td>902Y007</td>\n",
       "      <td>생산자물가지수</td>\n",
       "      <td>M</td>\n",
       "      <td>KR</td>\n",
       "      <td></td>\n",
       "      <td></td>\n",
       "    </tr>\n",
       "  </tbody>\n",
       "</table>\n",
       "</div>"
      ],
      "text/plain": [
       "      통계코드      항목명1 주기    항목코드1 항목코드2 항목코드3\n",
       "0  901Y014  KOSPI_평균  M  1080000            \n",
       "1  722Y001  한국은행기준금리  M  0101000            \n",
       "2  902Y007   생산자물가지수  M       KR            "
      ]
     },
     "execution_count": 25,
     "metadata": {},
     "output_type": "execute_result"
    }
   ],
   "source": [
    "df"
   ]
  },
  {
   "cell_type": "code",
   "execution_count": 26,
   "metadata": {
    "ExecuteTime": {
     "end_time": "2022-10-31T13:47:09.551126Z",
     "start_time": "2022-10-31T13:47:09.538171Z"
    }
   },
   "outputs": [
    {
     "data": {
      "text/plain": [
       "3"
      ]
     },
     "execution_count": 26,
     "metadata": {},
     "output_type": "execute_result"
    }
   ],
   "source": [
    "end = len(df.index)\n",
    "end"
   ]
  },
  {
   "cell_type": "code",
   "execution_count": 27,
   "metadata": {
    "ExecuteTime": {
     "end_time": "2022-10-31T13:47:10.518948Z",
     "start_time": "2022-10-31T13:47:09.553119Z"
    }
   },
   "outputs": [],
   "source": [
    "# 반복 범위설정을 위해 데이터프레임의 행 개수(마지막 행)를 구합니다\n",
    "end = len(df.index)\n",
    "\n",
    "# 2개의 빈 데이터 프레임을 생성합니다.\n",
    "df_eachrow = pd.DataFrame()\n",
    "data_table = pd.DataFrame()\n",
    "\n",
    "# data 목록에 있는 시계열들을 반복적으로 추출합니다.\n",
    "# 추출기간은 2000년1월 ~ 2021년 7월로 합니다.\n",
    "\n",
    "START_TIME = '200001'\n",
    "END_TIME = '202107'\n",
    "\n",
    "for i in range(0, end):\n",
    "    df_eachrow = Ecos(df['통계코드'][i], df['항목명1'][i], df['주기'][i], START_TIME,\n",
    "                   END_TIME, df['항목코드1'][i], df['항목코드2'][i], df['항목코드3'][i])\n",
    "\n",
    "    if i == 0:\n",
    "        data_table = df_eachrow\n",
    "    else:\n",
    "        data_table = pd.merge(data_table,\n",
    "                              df_eachrow,\n",
    "                              left_index=True, # 인덱스를 기준열로 사용  # cf. left_on='time\", right_on=\"시점\"\n",
    "                              right_index=True,# 인덱스를 기준열로 사용\n",
    "                              how='outer') "
   ]
  },
  {
   "cell_type": "markdown",
   "metadata": {},
   "source": [
    "## 1.7 Merge 함수\n",
    "### [판다스 공식 홈페이지 - pandas.DataFrame.merge ](https://pandas.pydata.org/docs/reference/api/pandas.DataFrame.merge.html)\n",
    "DataFrame.merge(right, how='inner', on=None, left_on=None, right_on=None, left_index=False, right_index=False, sort=False, suffixes=('_x', '_y'), copy=True, indicator=False, validate=None)"
   ]
  },
  {
   "cell_type": "markdown",
   "metadata": {},
   "source": [
    "![merge](./data/merge.png)"
   ]
  },
  {
   "cell_type": "code",
   "execution_count": 28,
   "metadata": {
    "ExecuteTime": {
     "end_time": "2022-10-31T13:47:10.534909Z",
     "start_time": "2022-10-31T13:47:10.518948Z"
    }
   },
   "outputs": [
    {
     "data": {
      "text/html": [
       "<div>\n",
       "<style scoped>\n",
       "    .dataframe tbody tr th:only-of-type {\n",
       "        vertical-align: middle;\n",
       "    }\n",
       "\n",
       "    .dataframe tbody tr th {\n",
       "        vertical-align: top;\n",
       "    }\n",
       "\n",
       "    .dataframe thead th {\n",
       "        text-align: right;\n",
       "    }\n",
       "</style>\n",
       "<table border=\"1\" class=\"dataframe\">\n",
       "  <thead>\n",
       "    <tr style=\"text-align: right;\">\n",
       "      <th></th>\n",
       "      <th>KOSPI_평균</th>\n",
       "      <th>한국은행기준금리</th>\n",
       "      <th>생산자물가지수</th>\n",
       "    </tr>\n",
       "  </thead>\n",
       "  <tbody>\n",
       "    <tr>\n",
       "      <th>2000-01-01</th>\n",
       "      <td>NaN</td>\n",
       "      <td>4.75</td>\n",
       "      <td>79.52</td>\n",
       "    </tr>\n",
       "    <tr>\n",
       "      <th>2000-02-01</th>\n",
       "      <td>902.73</td>\n",
       "      <td>5.00</td>\n",
       "      <td>79.32</td>\n",
       "    </tr>\n",
       "    <tr>\n",
       "      <th>2000-03-01</th>\n",
       "      <td>878.38</td>\n",
       "      <td>5.00</td>\n",
       "      <td>79.27</td>\n",
       "    </tr>\n",
       "    <tr>\n",
       "      <th>2000-04-01</th>\n",
       "      <td>779.75</td>\n",
       "      <td>5.00</td>\n",
       "      <td>78.88</td>\n",
       "    </tr>\n",
       "    <tr>\n",
       "      <th>2000-05-01</th>\n",
       "      <td>720.77</td>\n",
       "      <td>5.00</td>\n",
       "      <td>78.69</td>\n",
       "    </tr>\n",
       "    <tr>\n",
       "      <th>...</th>\n",
       "      <td>...</td>\n",
       "      <td>...</td>\n",
       "      <td>...</td>\n",
       "    </tr>\n",
       "    <tr>\n",
       "      <th>2021-03-01</th>\n",
       "      <td>3032.47</td>\n",
       "      <td>0.50</td>\n",
       "      <td>108.06</td>\n",
       "    </tr>\n",
       "    <tr>\n",
       "      <th>2021-04-01</th>\n",
       "      <td>3165.08</td>\n",
       "      <td>0.50</td>\n",
       "      <td>109.09</td>\n",
       "    </tr>\n",
       "    <tr>\n",
       "      <th>2021-05-01</th>\n",
       "      <td>3169.20</td>\n",
       "      <td>0.50</td>\n",
       "      <td>109.68</td>\n",
       "    </tr>\n",
       "    <tr>\n",
       "      <th>2021-06-01</th>\n",
       "      <td>3259.14</td>\n",
       "      <td>0.50</td>\n",
       "      <td>110.26</td>\n",
       "    </tr>\n",
       "    <tr>\n",
       "      <th>2021-07-01</th>\n",
       "      <td>3254.57</td>\n",
       "      <td>0.50</td>\n",
       "      <td>111.33</td>\n",
       "    </tr>\n",
       "  </tbody>\n",
       "</table>\n",
       "<p>259 rows × 3 columns</p>\n",
       "</div>"
      ],
      "text/plain": [
       "            KOSPI_평균  한국은행기준금리  생산자물가지수\n",
       "2000-01-01       NaN      4.75    79.52\n",
       "2000-02-01    902.73      5.00    79.32\n",
       "2000-03-01    878.38      5.00    79.27\n",
       "2000-04-01    779.75      5.00    78.88\n",
       "2000-05-01    720.77      5.00    78.69\n",
       "...              ...       ...      ...\n",
       "2021-03-01   3032.47      0.50   108.06\n",
       "2021-04-01   3165.08      0.50   109.09\n",
       "2021-05-01   3169.20      0.50   109.68\n",
       "2021-06-01   3259.14      0.50   110.26\n",
       "2021-07-01   3254.57      0.50   111.33\n",
       "\n",
       "[259 rows x 3 columns]"
      ]
     },
     "execution_count": 28,
     "metadata": {},
     "output_type": "execute_result"
    }
   ],
   "source": [
    "data_table"
   ]
  },
  {
   "cell_type": "code",
   "execution_count": 29,
   "metadata": {
    "ExecuteTime": {
     "end_time": "2022-10-31T13:47:10.568144Z",
     "start_time": "2022-10-31T13:47:10.536189Z"
    }
   },
   "outputs": [
    {
     "data": {
      "text/html": [
       "<div>\n",
       "<style scoped>\n",
       "    .dataframe tbody tr th:only-of-type {\n",
       "        vertical-align: middle;\n",
       "    }\n",
       "\n",
       "    .dataframe tbody tr th {\n",
       "        vertical-align: top;\n",
       "    }\n",
       "\n",
       "    .dataframe thead th {\n",
       "        text-align: right;\n",
       "    }\n",
       "</style>\n",
       "<table border=\"1\" class=\"dataframe\">\n",
       "  <thead>\n",
       "    <tr style=\"text-align: right;\">\n",
       "      <th></th>\n",
       "      <th>KOSPI_평균</th>\n",
       "      <th>한국은행기준금리</th>\n",
       "      <th>생산자물가지수</th>\n",
       "    </tr>\n",
       "  </thead>\n",
       "  <tbody>\n",
       "    <tr>\n",
       "      <th>2000-01-01</th>\n",
       "      <td>902.73</td>\n",
       "      <td>4.75</td>\n",
       "      <td>79.52</td>\n",
       "    </tr>\n",
       "    <tr>\n",
       "      <th>2000-02-01</th>\n",
       "      <td>902.73</td>\n",
       "      <td>5.00</td>\n",
       "      <td>79.32</td>\n",
       "    </tr>\n",
       "    <tr>\n",
       "      <th>2000-03-01</th>\n",
       "      <td>878.38</td>\n",
       "      <td>5.00</td>\n",
       "      <td>79.27</td>\n",
       "    </tr>\n",
       "    <tr>\n",
       "      <th>2000-04-01</th>\n",
       "      <td>779.75</td>\n",
       "      <td>5.00</td>\n",
       "      <td>78.88</td>\n",
       "    </tr>\n",
       "    <tr>\n",
       "      <th>2000-05-01</th>\n",
       "      <td>720.77</td>\n",
       "      <td>5.00</td>\n",
       "      <td>78.69</td>\n",
       "    </tr>\n",
       "    <tr>\n",
       "      <th>...</th>\n",
       "      <td>...</td>\n",
       "      <td>...</td>\n",
       "      <td>...</td>\n",
       "    </tr>\n",
       "    <tr>\n",
       "      <th>2021-03-01</th>\n",
       "      <td>3032.47</td>\n",
       "      <td>0.50</td>\n",
       "      <td>108.06</td>\n",
       "    </tr>\n",
       "    <tr>\n",
       "      <th>2021-04-01</th>\n",
       "      <td>3165.08</td>\n",
       "      <td>0.50</td>\n",
       "      <td>109.09</td>\n",
       "    </tr>\n",
       "    <tr>\n",
       "      <th>2021-05-01</th>\n",
       "      <td>3169.20</td>\n",
       "      <td>0.50</td>\n",
       "      <td>109.68</td>\n",
       "    </tr>\n",
       "    <tr>\n",
       "      <th>2021-06-01</th>\n",
       "      <td>3259.14</td>\n",
       "      <td>0.50</td>\n",
       "      <td>110.26</td>\n",
       "    </tr>\n",
       "    <tr>\n",
       "      <th>2021-07-01</th>\n",
       "      <td>3254.57</td>\n",
       "      <td>0.50</td>\n",
       "      <td>111.33</td>\n",
       "    </tr>\n",
       "  </tbody>\n",
       "</table>\n",
       "<p>259 rows × 3 columns</p>\n",
       "</div>"
      ],
      "text/plain": [
       "            KOSPI_평균  한국은행기준금리  생산자물가지수\n",
       "2000-01-01    902.73      4.75    79.52\n",
       "2000-02-01    902.73      5.00    79.32\n",
       "2000-03-01    878.38      5.00    79.27\n",
       "2000-04-01    779.75      5.00    78.88\n",
       "2000-05-01    720.77      5.00    78.69\n",
       "...              ...       ...      ...\n",
       "2021-03-01   3032.47      0.50   108.06\n",
       "2021-04-01   3165.08      0.50   109.09\n",
       "2021-05-01   3169.20      0.50   109.68\n",
       "2021-06-01   3259.14      0.50   110.26\n",
       "2021-07-01   3254.57      0.50   111.33\n",
       "\n",
       "[259 rows x 3 columns]"
      ]
     },
     "execution_count": 29,
     "metadata": {},
     "output_type": "execute_result"
    }
   ],
   "source": [
    "# 결측치 채워넣기\n",
    "data_table.fillna(method='backfill', inplace=True) \n",
    "data_table"
   ]
  },
  {
   "cell_type": "markdown",
   "metadata": {
    "ExecuteTime": {
     "end_time": "2021-10-18T09:52:49.036016Z",
     "start_time": "2021-10-18T09:52:49.029009Z"
    }
   },
   "source": [
    "## 1.8 fillna 함수\n",
    "### [판다스 공식 홈페이지 - pandas.DataFrame.fillna](https://pandas.pydata.org/docs/reference/api/pandas.DataFrame.fillna.html)\n",
    "DataFrame.fillna(value=None, method=None, axis=None, inplace=False, limit=None, downcast=None)<br>\n",
    "method{‘backfill’, ‘bfill’, ‘pad’, ‘ffill’, None}, default None\n",
    "Method to use for filling holes in reindexed Series pad / ffill: propagate last valid observation forward to next valid backfill / bfill: use next valid observation to fill gap."
   ]
  },
  {
   "cell_type": "code",
   "execution_count": 30,
   "metadata": {
    "ExecuteTime": {
     "end_time": "2022-10-31T13:47:11.921839Z",
     "start_time": "2022-10-31T13:47:10.570136Z"
    }
   },
   "outputs": [
    {
     "data": {
      "text/plain": [
       "<AxesSubplot:>"
      ]
     },
     "execution_count": 30,
     "metadata": {},
     "output_type": "execute_result"
    },
    {
     "data": {
      "image/png": "[encoded data removed]",
      "text/plain": [
       "<Figure size 1800x720 with 2 Axes>"
      ]
     },
     "metadata": {
      "needs_background": "light"
     },
     "output_type": "display_data"
    }
   ],
   "source": [
    "import matplotlib.pyplot as plt\n",
    "import missingno as msno\n",
    "%matplotlib inline\n",
    "plt.rc('font', family = 'NanumGothic')\n",
    "msno.matrix(data_table)"
   ]
  },
  {
   "cell_type": "code",
   "execution_count": 31,
   "metadata": {
    "ExecuteTime": {
     "end_time": "2022-10-31T13:47:11.936789Z",
     "start_time": "2022-10-31T13:47:11.925832Z"
    }
   },
   "outputs": [
    {
     "data": {
      "text/plain": [
       "KOSPI_평균    0\n",
       "한국은행기준금리    0\n",
       "생산자물가지수     0\n",
       "dtype: int64"
      ]
     },
     "execution_count": 31,
     "metadata": {},
     "output_type": "execute_result"
    }
   ],
   "source": [
    "data_table.isnull().sum()"
   ]
  },
  {
   "cell_type": "code",
   "execution_count": 32,
   "metadata": {
    "ExecuteTime": {
     "end_time": "2022-10-31T13:47:11.967686Z",
     "start_time": "2022-10-31T13:47:11.940775Z"
    }
   },
   "outputs": [
    {
     "data": {
      "text/html": [
       "<div>\n",
       "<style scoped>\n",
       "    .dataframe tbody tr th:only-of-type {\n",
       "        vertical-align: middle;\n",
       "    }\n",
       "\n",
       "    .dataframe tbody tr th {\n",
       "        vertical-align: top;\n",
       "    }\n",
       "\n",
       "    .dataframe thead th {\n",
       "        text-align: right;\n",
       "    }\n",
       "</style>\n",
       "<table border=\"1\" class=\"dataframe\">\n",
       "  <thead>\n",
       "    <tr style=\"text-align: right;\">\n",
       "      <th></th>\n",
       "      <th>KOSPI_평균</th>\n",
       "      <th>한국은행기준금리</th>\n",
       "      <th>생산자물가지수</th>\n",
       "    </tr>\n",
       "  </thead>\n",
       "  <tbody>\n",
       "    <tr>\n",
       "      <th>2000-01-01</th>\n",
       "      <td>902.73</td>\n",
       "      <td>4.75</td>\n",
       "      <td>79.52</td>\n",
       "    </tr>\n",
       "    <tr>\n",
       "      <th>2000-02-01</th>\n",
       "      <td>902.73</td>\n",
       "      <td>5.00</td>\n",
       "      <td>79.32</td>\n",
       "    </tr>\n",
       "    <tr>\n",
       "      <th>2000-03-01</th>\n",
       "      <td>878.38</td>\n",
       "      <td>5.00</td>\n",
       "      <td>79.27</td>\n",
       "    </tr>\n",
       "    <tr>\n",
       "      <th>2000-04-01</th>\n",
       "      <td>779.75</td>\n",
       "      <td>5.00</td>\n",
       "      <td>78.88</td>\n",
       "    </tr>\n",
       "    <tr>\n",
       "      <th>2000-05-01</th>\n",
       "      <td>720.77</td>\n",
       "      <td>5.00</td>\n",
       "      <td>78.69</td>\n",
       "    </tr>\n",
       "    <tr>\n",
       "      <th>...</th>\n",
       "      <td>...</td>\n",
       "      <td>...</td>\n",
       "      <td>...</td>\n",
       "    </tr>\n",
       "    <tr>\n",
       "      <th>2021-03-01</th>\n",
       "      <td>3032.47</td>\n",
       "      <td>0.50</td>\n",
       "      <td>108.06</td>\n",
       "    </tr>\n",
       "    <tr>\n",
       "      <th>2021-04-01</th>\n",
       "      <td>3165.08</td>\n",
       "      <td>0.50</td>\n",
       "      <td>109.09</td>\n",
       "    </tr>\n",
       "    <tr>\n",
       "      <th>2021-05-01</th>\n",
       "      <td>3169.20</td>\n",
       "      <td>0.50</td>\n",
       "      <td>109.68</td>\n",
       "    </tr>\n",
       "    <tr>\n",
       "      <th>2021-06-01</th>\n",
       "      <td>3259.14</td>\n",
       "      <td>0.50</td>\n",
       "      <td>110.26</td>\n",
       "    </tr>\n",
       "    <tr>\n",
       "      <th>2021-07-01</th>\n",
       "      <td>3254.57</td>\n",
       "      <td>0.50</td>\n",
       "      <td>111.33</td>\n",
       "    </tr>\n",
       "  </tbody>\n",
       "</table>\n",
       "<p>259 rows × 3 columns</p>\n",
       "</div>"
      ],
      "text/plain": [
       "            KOSPI_평균  한국은행기준금리  생산자물가지수\n",
       "2000-01-01    902.73      4.75    79.52\n",
       "2000-02-01    902.73      5.00    79.32\n",
       "2000-03-01    878.38      5.00    79.27\n",
       "2000-04-01    779.75      5.00    78.88\n",
       "2000-05-01    720.77      5.00    78.69\n",
       "...              ...       ...      ...\n",
       "2021-03-01   3032.47      0.50   108.06\n",
       "2021-04-01   3165.08      0.50   109.09\n",
       "2021-05-01   3169.20      0.50   109.68\n",
       "2021-06-01   3259.14      0.50   110.26\n",
       "2021-07-01   3254.57      0.50   111.33\n",
       "\n",
       "[259 rows x 3 columns]"
      ]
     },
     "execution_count": 32,
     "metadata": {},
     "output_type": "execute_result"
    }
   ],
   "source": [
    "data_table"
   ]
  },
  {
   "cell_type": "code",
   "execution_count": 33,
   "metadata": {
    "ExecuteTime": {
     "end_time": "2022-10-31T13:47:12.071322Z",
     "start_time": "2022-10-31T13:47:11.968682Z"
    }
   },
   "outputs": [],
   "source": [
    "# 다운로드 데이터 저장\n",
    "file_name = './Ecos_downloaded.xlsx'\n",
    "writer = pd.ExcelWriter(file_name)\n",
    "\n",
    "data_table.to_excel(writer,'Series')\n",
    "writer.save()"
   ]
  },
  {
   "cell_type": "markdown",
   "metadata": {},
   "source": [
    "# 2. 한국은행 데이터 json 타입 전처리 함수 구현 feat. Class 개념"
   ]
  },
  {
   "cell_type": "code",
   "execution_count": 34,
   "metadata": {
    "ExecuteTime": {
     "end_time": "2022-10-31T13:47:12.086300Z",
     "start_time": "2022-10-31T13:47:12.072493Z"
    }
   },
   "outputs": [],
   "source": [
    "base = 'http://ecos.bok.or.kr/api/'"
   ]
  },
  {
   "cell_type": "code",
   "execution_count": 35,
   "metadata": {
    "ExecuteTime": {
     "end_time": "2022-10-31T13:47:12.101330Z",
     "start_time": "2022-10-31T13:47:12.088293Z"
    }
   },
   "outputs": [],
   "source": [
    "start = '1'\n",
    "end = '2'\n",
    "\n",
    "STAT_CODE='902Y008'\n",
    "ITEM_CODE1='KR'"
   ]
  },
  {
   "cell_type": "code",
   "execution_count": 36,
   "metadata": {
    "ExecuteTime": {
     "end_time": "2022-10-31T13:47:12.116182Z",
     "start_time": "2022-10-31T13:47:12.104240Z"
    }
   },
   "outputs": [],
   "source": [
    "url = base + 'StatisticItemList/' + key \\\n",
    "      + '/json/kr/' + str(start) + '/' + str(end) \\\n",
    "      + '/' + STAT_CODE + '/'+ITEM_CODE1"
   ]
  },
  {
   "cell_type": "code",
   "execution_count": 37,
   "metadata": {
    "ExecuteTime": {
     "end_time": "2022-10-31T13:47:12.131626Z",
     "start_time": "2022-10-31T13:47:12.118588Z"
    }
   },
   "outputs": [
    {
     "data": {
      "text/plain": [
       "'http://ecos.bok.or.kr/api/StatisticItemList/6L9NIJW1BDGVDJLBO4CA/json/kr/1/2/902Y008/KR'"
      ]
     },
     "execution_count": 37,
     "metadata": {},
     "output_type": "execute_result"
    }
   ],
   "source": [
    "url"
   ]
  },
  {
   "cell_type": "code",
   "execution_count": 38,
   "metadata": {
    "ExecuteTime": {
     "end_time": "2022-10-31T13:47:12.402630Z",
     "start_time": "2022-10-31T13:47:12.132542Z"
    }
   },
   "outputs": [],
   "source": [
    "data = requests.get(url).json()"
   ]
  },
  {
   "cell_type": "code",
   "execution_count": 39,
   "metadata": {
    "ExecuteTime": {
     "end_time": "2022-10-31T13:47:12.418130Z",
     "start_time": "2022-10-31T13:47:12.404544Z"
    }
   },
   "outputs": [
    {
     "data": {
      "text/plain": [
       "{'StatisticItemList': {'list_total_count': 121,\n",
       "  'row': [{'STAT_CODE': '902Y008',\n",
       "    'STAT_NAME': '9.1.2.2. 국제 주요국 소비자물가지수',\n",
       "    'GRP_CODE': 'Group1',\n",
       "    'GRP_NAME': '계정항목',\n",
       "    'ITEM_CODE': 'KR',\n",
       "    'ITEM_NAME': '한국',\n",
       "    'P_ITEM_CODE': None,\n",
       "    'P_ITEM_NAME': None,\n",
       "    'CYCLE': 'A',\n",
       "    'START_TIME': '1952',\n",
       "    'END_TIME': '2021',\n",
       "    'DATA_CNT': 70,\n",
       "    'UNIT_NAME': '2010=100',\n",
       "    'WEIGHT': None},\n",
       "   {'STAT_CODE': '902Y008',\n",
       "    'STAT_NAME': '9.1.2.2. 국제 주요국 소비자물가지수',\n",
       "    'GRP_CODE': 'Group1',\n",
       "    'GRP_NAME': '계정항목',\n",
       "    'ITEM_CODE': 'KR',\n",
       "    'ITEM_NAME': '한국',\n",
       "    'P_ITEM_CODE': None,\n",
       "    'P_ITEM_NAME': None,\n",
       "    'CYCLE': 'M',\n",
       "    'START_TIME': '195108',\n",
       "    'END_TIME': '202209',\n",
       "    'DATA_CNT': 854,\n",
       "    'UNIT_NAME': '2010=100',\n",
       "    'WEIGHT': None}]}}"
      ]
     },
     "execution_count": 39,
     "metadata": {},
     "output_type": "execute_result"
    }
   ],
   "source": [
    "data"
   ]
  },
  {
   "cell_type": "code",
   "execution_count": 40,
   "metadata": {
    "ExecuteTime": {
     "end_time": "2022-10-31T13:47:12.448126Z",
     "start_time": "2022-10-31T13:47:12.420124Z"
    }
   },
   "outputs": [
    {
     "data": {
      "text/plain": [
       "'2021'"
      ]
     },
     "execution_count": 40,
     "metadata": {},
     "output_type": "execute_result"
    }
   ],
   "source": [
    "data['StatisticItemList']['row'][0]['END_TIME']"
   ]
  },
  {
   "cell_type": "code",
   "execution_count": 41,
   "metadata": {
    "ExecuteTime": {
     "end_time": "2022-10-31T13:47:12.463098Z",
     "start_time": "2022-10-31T13:47:12.449132Z"
    }
   },
   "outputs": [
    {
     "data": {
      "text/plain": [
       "'A'"
      ]
     },
     "execution_count": 41,
     "metadata": {},
     "output_type": "execute_result"
    }
   ],
   "source": [
    "data['StatisticItemList']['row'][0]['CYCLE']"
   ]
  },
  {
   "cell_type": "code",
   "execution_count": 42,
   "metadata": {
    "ExecuteTime": {
     "end_time": "2022-10-31T13:47:12.477798Z",
     "start_time": "2022-10-31T13:47:12.465080Z"
    }
   },
   "outputs": [],
   "source": [
    "date = data['StatisticItemList']['row'][0]['END_TIME']\n",
    "cycle = data['StatisticItemList']['row'][0]['CYCLE']"
   ]
  },
  {
   "cell_type": "code",
   "execution_count": 43,
   "metadata": {
    "ExecuteTime": {
     "end_time": "2022-10-31T13:47:12.493045Z",
     "start_time": "2022-10-31T13:47:12.479791Z"
    }
   },
   "outputs": [
    {
     "data": {
      "text/plain": [
       "'http://ecos.bok.or.kr/api/StatisticSearch/6L9NIJW1BDGVDJLBO4CA/json/kr/1/1/902Y008/A/2021/2021/KR'"
      ]
     },
     "execution_count": 43,
     "metadata": {},
     "output_type": "execute_result"
    }
   ],
   "source": [
    "url = base + 'StatisticSearch/' + key \\\n",
    "      + '/json/kr/1/1/' + STAT_CODE + '/' + cycle + '/' \\\n",
    "      + date + '/' + date + '/' + ITEM_CODE1\n",
    "url "
   ]
  },
  {
   "cell_type": "code",
   "execution_count": 44,
   "metadata": {
    "ExecuteTime": {
     "end_time": "2022-10-31T13:47:12.631735Z",
     "start_time": "2022-10-31T13:47:12.494967Z"
    }
   },
   "outputs": [
    {
     "data": {
      "text/plain": [
       "{'StatisticSearch': {'list_total_count': 1,\n",
       "  'row': [{'STAT_CODE': '902Y008',\n",
       "    'STAT_NAME': '9.1.2.2. 국제 주요국 소비자물가지수',\n",
       "    'ITEM_CODE1': 'KR',\n",
       "    'ITEM_NAME1': '한국',\n",
       "    'ITEM_CODE2': None,\n",
       "    'ITEM_NAME2': None,\n",
       "    'ITEM_CODE3': None,\n",
       "    'ITEM_NAME3': None,\n",
       "    'ITEM_CODE4': None,\n",
       "    'ITEM_NAME4': None,\n",
       "    'UNIT_NAME': '2010=100',\n",
       "    'TIME': '2021',\n",
       "    'DATA_VALUE': '118.67'}]}}"
      ]
     },
     "execution_count": 44,
     "metadata": {},
     "output_type": "execute_result"
    }
   ],
   "source": [
    "data = requests.get(url).json()\n",
    "data"
   ]
  },
  {
   "cell_type": "code",
   "execution_count": 45,
   "metadata": {
    "ExecuteTime": {
     "end_time": "2022-10-31T13:47:12.646721Z",
     "start_time": "2022-10-31T13:47:12.632737Z"
    }
   },
   "outputs": [
    {
     "name": "stdout",
     "output_type": "stream",
     "text": [
      "{'date': '2021', 'value': 118.67}\n"
     ]
    }
   ],
   "source": [
    "returnDict = {\n",
    "    'date': date,\n",
    "    'value': float(data['StatisticSearch']['row'][0]['DATA_VALUE'])\n",
    "}\n",
    "print(returnDict)"
   ]
  },
  {
   "cell_type": "code",
   "execution_count": 46,
   "metadata": {
    "ExecuteTime": {
     "end_time": "2022-10-31T13:47:13.040801Z",
     "start_time": "2022-10-31T13:47:12.648715Z"
    }
   },
   "outputs": [
    {
     "name": "stdout",
     "output_type": "stream",
     "text": [
      "{'date': '202209', 'value': 126.12}\n"
     ]
    }
   ],
   "source": [
    "import requests\n",
    "\n",
    "class Ecos:\n",
    "    def __init__(self, Key, STAT_CODE, ITEM_CODE1, count): #초기생성자       \n",
    "        self.Key = Key\n",
    "        self.STAT_CODE = STAT_CODE\n",
    "        self.ITEM_CODE1 = ITEM_CODE1\n",
    "        self.base = 'http://ecos.bok.or.kr/api/'\n",
    "        self.count = count # count: StatisticItemList에서 ITEM_CODE1이 STAT_CODE의 몇 번째 항목인지\n",
    "\n",
    "    def getJSON(self, url):\n",
    "        return requests.get(url).json()\n",
    "\n",
    "    def getDate(self):  # 일자 구하기\n",
    "        url = self.base + 'StatisticItemList/' + self.Key \\\n",
    "              + '/json/kr/' + str(self.count) + '/' + str(self.count) \\\n",
    "              + '/' + self.STAT_CODE\n",
    "        data = self.getJSON(url)\n",
    "        return (data['StatisticItemList']['row'][0]['END_TIME'],\n",
    "                data['StatisticItemList']['row'][0]['CYCLE'])\n",
    "\n",
    "    def getLatest(self):  # 가장 최근 데이터 수집 함수\n",
    "        date, cycle = self.getDate()\n",
    "        url = self.base + 'StatisticSearch/' + self.Key \\\n",
    "              + '/json/kr/1/1/' + self.STAT_CODE + '/' + cycle + '/' \\\n",
    "              + date + '/' + date + '/' + self.ITEM_CODE1\n",
    "        data = self.getJSON(url)\n",
    "        if \"RESULT\" in data:\n",
    "            url = url.replace(date, self.validDate, 2)\n",
    "            data = self.getJSON(url)\n",
    "        returnDict = {\n",
    "            'date': date,\n",
    "            'value': float(data['StatisticSearch']['row'][0]['DATA_VALUE'])\n",
    "        }\n",
    "        self.validDate = date\n",
    "        return returnDict\n",
    "\n",
    "\n",
    "\n",
    "CPI = Ecos(key, STAT_CODE='902Y008', ITEM_CODE1='KR', count=2)#, start=1, end=2) # 최근 소비자 물가지수 CPI  # 최근 소비자 물가지수 CPI '021Y125' > 전세[D01101][2015=100]\n",
    "print(CPI.getLatest()) # {'date': '202110', 'value': 111.17}\n"
   ]
  },
  {
   "cell_type": "markdown",
   "metadata": {
    "ExecuteTime": {
     "end_time": "2021-09-23T08:54:06.614411Z",
     "start_time": "2021-09-23T08:54:06.605278Z"
    }
   },
   "source": [
    "# 3. 통계 기준점 정립"
   ]
  },
  {
   "cell_type": "markdown",
   "metadata": {},
   "source": [
    "## 3.1 소비자 물가지수 \n",
    "### 3.2.1 데이터 수집"
   ]
  },
  {
   "cell_type": "markdown",
   "metadata": {},
   "source": [
    "지출목적별 소비자물가지수(품목 포함, 2015=100)"
   ]
  },
  {
   "cell_type": "markdown",
   "metadata": {},
   "source": [
    "* 수집경로 : KOSIS 국가통계포털 <https://kosis.kr/>\n",
    "\n",
    "* 총지수(전국), 전세(전국), 월세(전국)\n",
    "* 1965.1.1부터 월별 통계 지수. (기준 2015=100)\n",
    "* 행렬전환 Transposed\n",
    "\n",
    "https://kosis.kr/statHtml/statHtml.do?orgId=101&tblId=DT_1J17001&vw_cd=&list_id=&scrId=&seqNo=&lang_mode=ko&obj_var_id=&itm_id=&conn_path=E1&docId=0288121992&markType=S&itmNm=%EC%A0%84%EA%B5%AD"
   ]
  },
  {
   "cell_type": "markdown",
   "metadata": {},
   "source": [
    "### 3.2.2 데이터 불러오기"
   ]
  },
  {
   "cell_type": "code",
   "execution_count": 47,
   "metadata": {
    "ExecuteTime": {
     "end_time": "2022-10-31T13:47:13.070880Z",
     "start_time": "2022-10-31T13:47:13.042794Z"
    }
   },
   "outputs": [
    {
     "data": {
      "text/html": [
       "<div>\n",
       "<style scoped>\n",
       "    .dataframe tbody tr th:only-of-type {\n",
       "        vertical-align: middle;\n",
       "    }\n",
       "\n",
       "    .dataframe tbody tr th {\n",
       "        vertical-align: top;\n",
       "    }\n",
       "\n",
       "    .dataframe thead th {\n",
       "        text-align: right;\n",
       "    }\n",
       "</style>\n",
       "<table border=\"1\" class=\"dataframe\">\n",
       "  <thead>\n",
       "    <tr style=\"text-align: right;\">\n",
       "      <th></th>\n",
       "      <th>시점</th>\n",
       "      <th>0 총지수</th>\n",
       "      <th>전세</th>\n",
       "      <th>월세</th>\n",
       "    </tr>\n",
       "  </thead>\n",
       "  <tbody>\n",
       "    <tr>\n",
       "      <th>0</th>\n",
       "      <td>시점</td>\n",
       "      <td>전국</td>\n",
       "      <td>전국</td>\n",
       "      <td>전국</td>\n",
       "    </tr>\n",
       "    <tr>\n",
       "      <th>1</th>\n",
       "      <td>1965. 01</td>\n",
       "      <td>2.628</td>\n",
       "      <td>-</td>\n",
       "      <td>-</td>\n",
       "    </tr>\n",
       "    <tr>\n",
       "      <th>2</th>\n",
       "      <td>1965. 02</td>\n",
       "      <td>2.686</td>\n",
       "      <td>-</td>\n",
       "      <td>-</td>\n",
       "    </tr>\n",
       "    <tr>\n",
       "      <th>3</th>\n",
       "      <td>1965. 03</td>\n",
       "      <td>2.691</td>\n",
       "      <td>-</td>\n",
       "      <td>-</td>\n",
       "    </tr>\n",
       "    <tr>\n",
       "      <th>4</th>\n",
       "      <td>1965. 04</td>\n",
       "      <td>2.733</td>\n",
       "      <td>-</td>\n",
       "      <td>-</td>\n",
       "    </tr>\n",
       "    <tr>\n",
       "      <th>...</th>\n",
       "      <td>...</td>\n",
       "      <td>...</td>\n",
       "      <td>...</td>\n",
       "      <td>...</td>\n",
       "    </tr>\n",
       "    <tr>\n",
       "      <th>676</th>\n",
       "      <td>2021. 04</td>\n",
       "      <td>107.39</td>\n",
       "      <td>109.68</td>\n",
       "      <td>100.51</td>\n",
       "    </tr>\n",
       "    <tr>\n",
       "      <th>677</th>\n",
       "      <td>2021. 05</td>\n",
       "      <td>107.46</td>\n",
       "      <td>109.94</td>\n",
       "      <td>100.59</td>\n",
       "    </tr>\n",
       "    <tr>\n",
       "      <th>678</th>\n",
       "      <td>2021. 06</td>\n",
       "      <td>107.39</td>\n",
       "      <td>110.09</td>\n",
       "      <td>100.66</td>\n",
       "    </tr>\n",
       "    <tr>\n",
       "      <th>679</th>\n",
       "      <td>2021. 07</td>\n",
       "      <td>107.61</td>\n",
       "      <td>110.31</td>\n",
       "      <td>100.72</td>\n",
       "    </tr>\n",
       "    <tr>\n",
       "      <th>680</th>\n",
       "      <td>2021. 08</td>\n",
       "      <td>108.29</td>\n",
       "      <td>110.59</td>\n",
       "      <td>100.81</td>\n",
       "    </tr>\n",
       "  </tbody>\n",
       "</table>\n",
       "<p>681 rows × 4 columns</p>\n",
       "</div>"
      ],
      "text/plain": [
       "           시점   0 총지수      전세      월세\n",
       "0          시점      전국      전국      전국\n",
       "1    1965. 01   2.628       -       -\n",
       "2    1965. 02   2.686       -       -\n",
       "3    1965. 03   2.691       -       -\n",
       "4    1965. 04   2.733       -       -\n",
       "..        ...     ...     ...     ...\n",
       "676  2021. 04  107.39  109.68  100.51\n",
       "677  2021. 05  107.46  109.94  100.59\n",
       "678  2021. 06  107.39  110.09  100.66\n",
       "679  2021. 07  107.61  110.31  100.72\n",
       "680  2021. 08  108.29  110.59  100.81\n",
       "\n",
       "[681 rows x 4 columns]"
      ]
     },
     "execution_count": 47,
     "metadata": {},
     "output_type": "execute_result"
    }
   ],
   "source": [
    "import pandas as pd\n",
    "Price_index = pd.read_csv('./data/지출목적별_소비자물가지수_품목_포함__2015100__20210923175813.csv', encoding='cp949')\n",
    "Price_index"
   ]
  },
  {
   "cell_type": "code",
   "execution_count": 48,
   "metadata": {
    "ExecuteTime": {
     "end_time": "2022-10-31T13:47:13.085831Z",
     "start_time": "2022-10-31T13:47:13.072874Z"
    }
   },
   "outputs": [
    {
     "data": {
      "text/html": [
       "<div>\n",
       "<style scoped>\n",
       "    .dataframe tbody tr th:only-of-type {\n",
       "        vertical-align: middle;\n",
       "    }\n",
       "\n",
       "    .dataframe tbody tr th {\n",
       "        vertical-align: top;\n",
       "    }\n",
       "\n",
       "    .dataframe thead th {\n",
       "        text-align: right;\n",
       "    }\n",
       "</style>\n",
       "<table border=\"1\" class=\"dataframe\">\n",
       "  <thead>\n",
       "    <tr style=\"text-align: right;\">\n",
       "      <th></th>\n",
       "      <th>시점</th>\n",
       "      <th>0 총지수</th>\n",
       "      <th>전세</th>\n",
       "      <th>월세</th>\n",
       "    </tr>\n",
       "  </thead>\n",
       "  <tbody>\n",
       "    <tr>\n",
       "      <th>1</th>\n",
       "      <td>1965. 01</td>\n",
       "      <td>2.628</td>\n",
       "      <td>-</td>\n",
       "      <td>-</td>\n",
       "    </tr>\n",
       "    <tr>\n",
       "      <th>2</th>\n",
       "      <td>1965. 02</td>\n",
       "      <td>2.686</td>\n",
       "      <td>-</td>\n",
       "      <td>-</td>\n",
       "    </tr>\n",
       "    <tr>\n",
       "      <th>3</th>\n",
       "      <td>1965. 03</td>\n",
       "      <td>2.691</td>\n",
       "      <td>-</td>\n",
       "      <td>-</td>\n",
       "    </tr>\n",
       "    <tr>\n",
       "      <th>4</th>\n",
       "      <td>1965. 04</td>\n",
       "      <td>2.733</td>\n",
       "      <td>-</td>\n",
       "      <td>-</td>\n",
       "    </tr>\n",
       "    <tr>\n",
       "      <th>5</th>\n",
       "      <td>1965. 05</td>\n",
       "      <td>2.788</td>\n",
       "      <td>-</td>\n",
       "      <td>-</td>\n",
       "    </tr>\n",
       "    <tr>\n",
       "      <th>...</th>\n",
       "      <td>...</td>\n",
       "      <td>...</td>\n",
       "      <td>...</td>\n",
       "      <td>...</td>\n",
       "    </tr>\n",
       "    <tr>\n",
       "      <th>676</th>\n",
       "      <td>2021. 04</td>\n",
       "      <td>107.39</td>\n",
       "      <td>109.68</td>\n",
       "      <td>100.51</td>\n",
       "    </tr>\n",
       "    <tr>\n",
       "      <th>677</th>\n",
       "      <td>2021. 05</td>\n",
       "      <td>107.46</td>\n",
       "      <td>109.94</td>\n",
       "      <td>100.59</td>\n",
       "    </tr>\n",
       "    <tr>\n",
       "      <th>678</th>\n",
       "      <td>2021. 06</td>\n",
       "      <td>107.39</td>\n",
       "      <td>110.09</td>\n",
       "      <td>100.66</td>\n",
       "    </tr>\n",
       "    <tr>\n",
       "      <th>679</th>\n",
       "      <td>2021. 07</td>\n",
       "      <td>107.61</td>\n",
       "      <td>110.31</td>\n",
       "      <td>100.72</td>\n",
       "    </tr>\n",
       "    <tr>\n",
       "      <th>680</th>\n",
       "      <td>2021. 08</td>\n",
       "      <td>108.29</td>\n",
       "      <td>110.59</td>\n",
       "      <td>100.81</td>\n",
       "    </tr>\n",
       "  </tbody>\n",
       "</table>\n",
       "<p>680 rows × 4 columns</p>\n",
       "</div>"
      ],
      "text/plain": [
       "           시점   0 총지수      전세      월세\n",
       "1    1965. 01   2.628       -       -\n",
       "2    1965. 02   2.686       -       -\n",
       "3    1965. 03   2.691       -       -\n",
       "4    1965. 04   2.733       -       -\n",
       "5    1965. 05   2.788       -       -\n",
       "..        ...     ...     ...     ...\n",
       "676  2021. 04  107.39  109.68  100.51\n",
       "677  2021. 05  107.46  109.94  100.59\n",
       "678  2021. 06  107.39  110.09  100.66\n",
       "679  2021. 07  107.61  110.31  100.72\n",
       "680  2021. 08  108.29  110.59  100.81\n",
       "\n",
       "[680 rows x 4 columns]"
      ]
     },
     "execution_count": 48,
     "metadata": {},
     "output_type": "execute_result"
    }
   ],
   "source": [
    "# 0번째 행 삭제\n",
    "Price_index = Price_index.drop(index=0, axis=0)\n",
    "Price_index"
   ]
  },
  {
   "cell_type": "code",
   "execution_count": 49,
   "metadata": {
    "ExecuteTime": {
     "end_time": "2022-10-31T13:47:13.100791Z",
     "start_time": "2022-10-31T13:47:13.090813Z"
    }
   },
   "outputs": [],
   "source": [
    "# 참고 열삭제\n",
    "# 'col1', 'col2' 열 삭제\n",
    "# df = df.drop(columns=['col1', 'col2'], axis=1)"
   ]
  },
  {
   "cell_type": "code",
   "execution_count": 50,
   "metadata": {
    "ExecuteTime": {
     "end_time": "2022-10-31T13:47:13.130680Z",
     "start_time": "2022-10-31T13:47:13.119736Z"
    }
   },
   "outputs": [],
   "source": [
    "# <!-- (1) pandas DataFrame의 칼럼 이름 바꾸기\n",
    "#     :  df.columns = ['a', 'b']\n",
    "#     :  df.rename(columns = {'old_nm' : 'new_nm'}, inplace = True) -->"
   ]
  },
  {
   "cell_type": "code",
   "execution_count": 51,
   "metadata": {
    "ExecuteTime": {
     "end_time": "2022-10-31T13:47:13.146717Z",
     "start_time": "2022-10-31T13:47:13.133671Z"
    }
   },
   "outputs": [],
   "source": [
    "Price_index.rename(columns = {'0 총지수' : '소비자물가지수'}, inplace = True)"
   ]
  },
  {
   "cell_type": "code",
   "execution_count": 52,
   "metadata": {
    "ExecuteTime": {
     "end_time": "2022-10-31T13:47:13.161670Z",
     "start_time": "2022-10-31T13:47:13.148712Z"
    }
   },
   "outputs": [
    {
     "data": {
      "text/html": [
       "<div>\n",
       "<style scoped>\n",
       "    .dataframe tbody tr th:only-of-type {\n",
       "        vertical-align: middle;\n",
       "    }\n",
       "\n",
       "    .dataframe tbody tr th {\n",
       "        vertical-align: top;\n",
       "    }\n",
       "\n",
       "    .dataframe thead th {\n",
       "        text-align: right;\n",
       "    }\n",
       "</style>\n",
       "<table border=\"1\" class=\"dataframe\">\n",
       "  <thead>\n",
       "    <tr style=\"text-align: right;\">\n",
       "      <th></th>\n",
       "      <th>시점</th>\n",
       "      <th>소비자물가지수</th>\n",
       "      <th>전세</th>\n",
       "      <th>월세</th>\n",
       "    </tr>\n",
       "  </thead>\n",
       "  <tbody>\n",
       "    <tr>\n",
       "      <th>0</th>\n",
       "      <td>1975. 01</td>\n",
       "      <td>8.849</td>\n",
       "      <td>8.755</td>\n",
       "      <td>10.481</td>\n",
       "    </tr>\n",
       "    <tr>\n",
       "      <th>1</th>\n",
       "      <td>1975. 02</td>\n",
       "      <td>9.009</td>\n",
       "      <td>8.755</td>\n",
       "      <td>10.481</td>\n",
       "    </tr>\n",
       "    <tr>\n",
       "      <th>2</th>\n",
       "      <td>1975. 03</td>\n",
       "      <td>9.179</td>\n",
       "      <td>9.122</td>\n",
       "      <td>10.890</td>\n",
       "    </tr>\n",
       "    <tr>\n",
       "      <th>3</th>\n",
       "      <td>1975. 04</td>\n",
       "      <td>9.468</td>\n",
       "      <td>9.122</td>\n",
       "      <td>10.890</td>\n",
       "    </tr>\n",
       "    <tr>\n",
       "      <th>4</th>\n",
       "      <td>1975. 05</td>\n",
       "      <td>9.808</td>\n",
       "      <td>9.122</td>\n",
       "      <td>10.890</td>\n",
       "    </tr>\n",
       "    <tr>\n",
       "      <th>...</th>\n",
       "      <td>...</td>\n",
       "      <td>...</td>\n",
       "      <td>...</td>\n",
       "      <td>...</td>\n",
       "    </tr>\n",
       "    <tr>\n",
       "      <th>555</th>\n",
       "      <td>2021. 04</td>\n",
       "      <td>107.39</td>\n",
       "      <td>109.68</td>\n",
       "      <td>100.51</td>\n",
       "    </tr>\n",
       "    <tr>\n",
       "      <th>556</th>\n",
       "      <td>2021. 05</td>\n",
       "      <td>107.46</td>\n",
       "      <td>109.94</td>\n",
       "      <td>100.59</td>\n",
       "    </tr>\n",
       "    <tr>\n",
       "      <th>557</th>\n",
       "      <td>2021. 06</td>\n",
       "      <td>107.39</td>\n",
       "      <td>110.09</td>\n",
       "      <td>100.66</td>\n",
       "    </tr>\n",
       "    <tr>\n",
       "      <th>558</th>\n",
       "      <td>2021. 07</td>\n",
       "      <td>107.61</td>\n",
       "      <td>110.31</td>\n",
       "      <td>100.72</td>\n",
       "    </tr>\n",
       "    <tr>\n",
       "      <th>559</th>\n",
       "      <td>2021. 08</td>\n",
       "      <td>108.29</td>\n",
       "      <td>110.59</td>\n",
       "      <td>100.81</td>\n",
       "    </tr>\n",
       "  </tbody>\n",
       "</table>\n",
       "<p>560 rows × 4 columns</p>\n",
       "</div>"
      ],
      "text/plain": [
       "           시점 소비자물가지수      전세      월세\n",
       "0    1975. 01   8.849   8.755  10.481\n",
       "1    1975. 02   9.009   8.755  10.481\n",
       "2    1975. 03   9.179   9.122  10.890\n",
       "3    1975. 04   9.468   9.122  10.890\n",
       "4    1975. 05   9.808   9.122  10.890\n",
       "..        ...     ...     ...     ...\n",
       "555  2021. 04  107.39  109.68  100.51\n",
       "556  2021. 05  107.46  109.94  100.59\n",
       "557  2021. 06  107.39  110.09  100.66\n",
       "558  2021. 07  107.61  110.31  100.72\n",
       "559  2021. 08  108.29  110.59  100.81\n",
       "\n",
       "[560 rows x 4 columns]"
      ]
     },
     "execution_count": 52,
     "metadata": {},
     "output_type": "execute_result"
    }
   ],
   "source": [
    "# 결측치 제거 후 인덱스 reset\n",
    "Price_index = Price_index[Price_index['전세'] !='-'].reset_index(drop=True)\n",
    "Price_index"
   ]
  },
  {
   "cell_type": "code",
   "execution_count": 53,
   "metadata": {
    "ExecuteTime": {
     "end_time": "2022-10-31T13:47:13.192050Z",
     "start_time": "2022-10-31T13:47:13.177098Z"
    }
   },
   "outputs": [
    {
     "data": {
      "text/html": [
       "<div>\n",
       "<style scoped>\n",
       "    .dataframe tbody tr th:only-of-type {\n",
       "        vertical-align: middle;\n",
       "    }\n",
       "\n",
       "    .dataframe tbody tr th {\n",
       "        vertical-align: top;\n",
       "    }\n",
       "\n",
       "    .dataframe thead th {\n",
       "        text-align: right;\n",
       "    }\n",
       "</style>\n",
       "<table border=\"1\" class=\"dataframe\">\n",
       "  <thead>\n",
       "    <tr style=\"text-align: right;\">\n",
       "      <th></th>\n",
       "      <th>시점</th>\n",
       "      <th>소비자물가지수</th>\n",
       "      <th>전세가격지수</th>\n",
       "      <th>월세가격지수</th>\n",
       "    </tr>\n",
       "  </thead>\n",
       "  <tbody>\n",
       "    <tr>\n",
       "      <th>0</th>\n",
       "      <td>1975. 01</td>\n",
       "      <td>8.849</td>\n",
       "      <td>8.755</td>\n",
       "      <td>10.481</td>\n",
       "    </tr>\n",
       "    <tr>\n",
       "      <th>1</th>\n",
       "      <td>1975. 02</td>\n",
       "      <td>9.009</td>\n",
       "      <td>8.755</td>\n",
       "      <td>10.481</td>\n",
       "    </tr>\n",
       "    <tr>\n",
       "      <th>2</th>\n",
       "      <td>1975. 03</td>\n",
       "      <td>9.179</td>\n",
       "      <td>9.122</td>\n",
       "      <td>10.890</td>\n",
       "    </tr>\n",
       "    <tr>\n",
       "      <th>3</th>\n",
       "      <td>1975. 04</td>\n",
       "      <td>9.468</td>\n",
       "      <td>9.122</td>\n",
       "      <td>10.890</td>\n",
       "    </tr>\n",
       "    <tr>\n",
       "      <th>4</th>\n",
       "      <td>1975. 05</td>\n",
       "      <td>9.808</td>\n",
       "      <td>9.122</td>\n",
       "      <td>10.890</td>\n",
       "    </tr>\n",
       "    <tr>\n",
       "      <th>...</th>\n",
       "      <td>...</td>\n",
       "      <td>...</td>\n",
       "      <td>...</td>\n",
       "      <td>...</td>\n",
       "    </tr>\n",
       "    <tr>\n",
       "      <th>555</th>\n",
       "      <td>2021. 04</td>\n",
       "      <td>107.39</td>\n",
       "      <td>109.68</td>\n",
       "      <td>100.51</td>\n",
       "    </tr>\n",
       "    <tr>\n",
       "      <th>556</th>\n",
       "      <td>2021. 05</td>\n",
       "      <td>107.46</td>\n",
       "      <td>109.94</td>\n",
       "      <td>100.59</td>\n",
       "    </tr>\n",
       "    <tr>\n",
       "      <th>557</th>\n",
       "      <td>2021. 06</td>\n",
       "      <td>107.39</td>\n",
       "      <td>110.09</td>\n",
       "      <td>100.66</td>\n",
       "    </tr>\n",
       "    <tr>\n",
       "      <th>558</th>\n",
       "      <td>2021. 07</td>\n",
       "      <td>107.61</td>\n",
       "      <td>110.31</td>\n",
       "      <td>100.72</td>\n",
       "    </tr>\n",
       "    <tr>\n",
       "      <th>559</th>\n",
       "      <td>2021. 08</td>\n",
       "      <td>108.29</td>\n",
       "      <td>110.59</td>\n",
       "      <td>100.81</td>\n",
       "    </tr>\n",
       "  </tbody>\n",
       "</table>\n",
       "<p>560 rows × 4 columns</p>\n",
       "</div>"
      ],
      "text/plain": [
       "           시점 소비자물가지수  전세가격지수  월세가격지수\n",
       "0    1975. 01   8.849   8.755  10.481\n",
       "1    1975. 02   9.009   8.755  10.481\n",
       "2    1975. 03   9.179   9.122  10.890\n",
       "3    1975. 04   9.468   9.122  10.890\n",
       "4    1975. 05   9.808   9.122  10.890\n",
       "..        ...     ...     ...     ...\n",
       "555  2021. 04  107.39  109.68  100.51\n",
       "556  2021. 05  107.46  109.94  100.59\n",
       "557  2021. 06  107.39  110.09  100.66\n",
       "558  2021. 07  107.61  110.31  100.72\n",
       "559  2021. 08  108.29  110.59  100.81\n",
       "\n",
       "[560 rows x 4 columns]"
      ]
     },
     "execution_count": 53,
     "metadata": {},
     "output_type": "execute_result"
    }
   ],
   "source": [
    "Price_index.columns = ['시점', '소비자물가지수', '전세가격지수', '월세가격지수']\n",
    "Price_index"
   ]
  },
  {
   "cell_type": "code",
   "execution_count": 54,
   "metadata": {
    "ExecuteTime": {
     "end_time": "2022-10-31T13:47:13.207008Z",
     "start_time": "2022-10-31T13:47:13.194043Z"
    }
   },
   "outputs": [],
   "source": [
    "# 1번째 행부터 끝행 까지 데이터를 추출\n",
    "# Price_index = Price_index[1::]"
   ]
  },
  {
   "cell_type": "code",
   "execution_count": 55,
   "metadata": {
    "ExecuteTime": {
     "end_time": "2022-10-31T13:47:13.221977Z",
     "start_time": "2022-10-31T13:47:13.211984Z"
    }
   },
   "outputs": [
    {
     "name": "stdout",
     "output_type": "stream",
     "text": [
      "<class 'pandas.core.frame.DataFrame'>\n",
      "RangeIndex: 560 entries, 0 to 559\n",
      "Data columns (total 4 columns):\n",
      " #   Column   Non-Null Count  Dtype \n",
      "---  ------   --------------  ----- \n",
      " 0   시점       560 non-null    object\n",
      " 1   소비자물가지수  560 non-null    object\n",
      " 2   전세가격지수   560 non-null    object\n",
      " 3   월세가격지수   560 non-null    object\n",
      "dtypes: object(4)\n",
      "memory usage: 17.6+ KB\n"
     ]
    }
   ],
   "source": [
    "Price_index.info()"
   ]
  },
  {
   "cell_type": "code",
   "execution_count": 56,
   "metadata": {
    "ExecuteTime": {
     "end_time": "2022-10-31T13:47:13.281748Z",
     "start_time": "2022-10-31T13:47:13.224946Z"
    }
   },
   "outputs": [],
   "source": [
    "Price_index['시점'] = pd.to_datetime(Price_index['시점'])"
   ]
  },
  {
   "cell_type": "code",
   "execution_count": 57,
   "metadata": {
    "ExecuteTime": {
     "end_time": "2022-10-31T13:47:13.296712Z",
     "start_time": "2022-10-31T13:47:13.282745Z"
    }
   },
   "outputs": [],
   "source": [
    "# Price_index = Price_index.apply(pd.to_numeric)\n",
    "Price_index[['소비자물가지수', '전세가격지수', '월세가격지수']] = Price_index[['소비자물가지수', '전세가격지수', '월세가격지수']].apply(pd.to_numeric)"
   ]
  },
  {
   "cell_type": "code",
   "execution_count": 58,
   "metadata": {
    "ExecuteTime": {
     "end_time": "2022-10-31T13:47:13.311648Z",
     "start_time": "2022-10-31T13:47:13.300686Z"
    }
   },
   "outputs": [
    {
     "name": "stdout",
     "output_type": "stream",
     "text": [
      "<class 'pandas.core.frame.DataFrame'>\n",
      "RangeIndex: 560 entries, 0 to 559\n",
      "Data columns (total 4 columns):\n",
      " #   Column   Non-Null Count  Dtype         \n",
      "---  ------   --------------  -----         \n",
      " 0   시점       560 non-null    datetime64[ns]\n",
      " 1   소비자물가지수  560 non-null    float64       \n",
      " 2   전세가격지수   560 non-null    float64       \n",
      " 3   월세가격지수   560 non-null    float64       \n",
      "dtypes: datetime64[ns](1), float64(3)\n",
      "memory usage: 17.6 KB\n"
     ]
    }
   ],
   "source": [
    "Price_index.info()"
   ]
  },
  {
   "cell_type": "code",
   "execution_count": 59,
   "metadata": {
    "ExecuteTime": {
     "end_time": "2022-10-31T13:47:13.326690Z",
     "start_time": "2022-10-31T13:47:13.313688Z"
    }
   },
   "outputs": [
    {
     "data": {
      "text/html": [
       "<div>\n",
       "<style scoped>\n",
       "    .dataframe tbody tr th:only-of-type {\n",
       "        vertical-align: middle;\n",
       "    }\n",
       "\n",
       "    .dataframe tbody tr th {\n",
       "        vertical-align: top;\n",
       "    }\n",
       "\n",
       "    .dataframe thead th {\n",
       "        text-align: right;\n",
       "    }\n",
       "</style>\n",
       "<table border=\"1\" class=\"dataframe\">\n",
       "  <thead>\n",
       "    <tr style=\"text-align: right;\">\n",
       "      <th></th>\n",
       "      <th>시점</th>\n",
       "      <th>소비자물가지수</th>\n",
       "      <th>전세가격지수</th>\n",
       "      <th>월세가격지수</th>\n",
       "    </tr>\n",
       "  </thead>\n",
       "  <tbody>\n",
       "    <tr>\n",
       "      <th>0</th>\n",
       "      <td>1975-01-01</td>\n",
       "      <td>8.849</td>\n",
       "      <td>8.755</td>\n",
       "      <td>10.481</td>\n",
       "    </tr>\n",
       "    <tr>\n",
       "      <th>1</th>\n",
       "      <td>1975-02-01</td>\n",
       "      <td>9.009</td>\n",
       "      <td>8.755</td>\n",
       "      <td>10.481</td>\n",
       "    </tr>\n",
       "    <tr>\n",
       "      <th>2</th>\n",
       "      <td>1975-03-01</td>\n",
       "      <td>9.179</td>\n",
       "      <td>9.122</td>\n",
       "      <td>10.890</td>\n",
       "    </tr>\n",
       "    <tr>\n",
       "      <th>3</th>\n",
       "      <td>1975-04-01</td>\n",
       "      <td>9.468</td>\n",
       "      <td>9.122</td>\n",
       "      <td>10.890</td>\n",
       "    </tr>\n",
       "    <tr>\n",
       "      <th>4</th>\n",
       "      <td>1975-05-01</td>\n",
       "      <td>9.808</td>\n",
       "      <td>9.122</td>\n",
       "      <td>10.890</td>\n",
       "    </tr>\n",
       "  </tbody>\n",
       "</table>\n",
       "</div>"
      ],
      "text/plain": [
       "          시점  소비자물가지수  전세가격지수  월세가격지수\n",
       "0 1975-01-01    8.849   8.755  10.481\n",
       "1 1975-02-01    9.009   8.755  10.481\n",
       "2 1975-03-01    9.179   9.122  10.890\n",
       "3 1975-04-01    9.468   9.122  10.890\n",
       "4 1975-05-01    9.808   9.122  10.890"
      ]
     },
     "execution_count": 59,
     "metadata": {},
     "output_type": "execute_result"
    }
   ],
   "source": [
    "Price_index.head()"
   ]
  },
  {
   "cell_type": "code",
   "execution_count": 60,
   "metadata": {
    "ExecuteTime": {
     "end_time": "2022-10-31T13:47:13.356500Z",
     "start_time": "2022-10-31T13:47:13.328592Z"
    }
   },
   "outputs": [
    {
     "data": {
      "text/html": [
       "<div>\n",
       "<style scoped>\n",
       "    .dataframe tbody tr th:only-of-type {\n",
       "        vertical-align: middle;\n",
       "    }\n",
       "\n",
       "    .dataframe tbody tr th {\n",
       "        vertical-align: top;\n",
       "    }\n",
       "\n",
       "    .dataframe thead th {\n",
       "        text-align: right;\n",
       "    }\n",
       "</style>\n",
       "<table border=\"1\" class=\"dataframe\">\n",
       "  <thead>\n",
       "    <tr style=\"text-align: right;\">\n",
       "      <th></th>\n",
       "      <th>시점</th>\n",
       "      <th>소비자물가지수</th>\n",
       "      <th>전세가격지수</th>\n",
       "      <th>월세가격지수</th>\n",
       "    </tr>\n",
       "  </thead>\n",
       "  <tbody>\n",
       "    <tr>\n",
       "      <th>0</th>\n",
       "      <td>1975-01-01</td>\n",
       "      <td>8.849</td>\n",
       "      <td>8.755</td>\n",
       "      <td>10.481</td>\n",
       "    </tr>\n",
       "    <tr>\n",
       "      <th>1</th>\n",
       "      <td>1975-02-01</td>\n",
       "      <td>9.009</td>\n",
       "      <td>8.755</td>\n",
       "      <td>10.481</td>\n",
       "    </tr>\n",
       "    <tr>\n",
       "      <th>2</th>\n",
       "      <td>1975-03-01</td>\n",
       "      <td>9.179</td>\n",
       "      <td>9.122</td>\n",
       "      <td>10.890</td>\n",
       "    </tr>\n",
       "    <tr>\n",
       "      <th>3</th>\n",
       "      <td>1975-04-01</td>\n",
       "      <td>9.468</td>\n",
       "      <td>9.122</td>\n",
       "      <td>10.890</td>\n",
       "    </tr>\n",
       "    <tr>\n",
       "      <th>4</th>\n",
       "      <td>1975-05-01</td>\n",
       "      <td>9.808</td>\n",
       "      <td>9.122</td>\n",
       "      <td>10.890</td>\n",
       "    </tr>\n",
       "    <tr>\n",
       "      <th>...</th>\n",
       "      <td>...</td>\n",
       "      <td>...</td>\n",
       "      <td>...</td>\n",
       "      <td>...</td>\n",
       "    </tr>\n",
       "    <tr>\n",
       "      <th>481</th>\n",
       "      <td>2015-02-01</td>\n",
       "      <td>99.710</td>\n",
       "      <td>98.640</td>\n",
       "      <td>99.860</td>\n",
       "    </tr>\n",
       "    <tr>\n",
       "      <th>482</th>\n",
       "      <td>2015-03-01</td>\n",
       "      <td>99.720</td>\n",
       "      <td>98.910</td>\n",
       "      <td>99.900</td>\n",
       "    </tr>\n",
       "    <tr>\n",
       "      <th>483</th>\n",
       "      <td>2015-04-01</td>\n",
       "      <td>99.750</td>\n",
       "      <td>99.260</td>\n",
       "      <td>99.930</td>\n",
       "    </tr>\n",
       "    <tr>\n",
       "      <th>484</th>\n",
       "      <td>2015-05-01</td>\n",
       "      <td>100.030</td>\n",
       "      <td>99.550</td>\n",
       "      <td>100.000</td>\n",
       "    </tr>\n",
       "    <tr>\n",
       "      <th>485</th>\n",
       "      <td>2015-06-01</td>\n",
       "      <td>100.050</td>\n",
       "      <td>99.870</td>\n",
       "      <td>100.020</td>\n",
       "    </tr>\n",
       "  </tbody>\n",
       "</table>\n",
       "<p>486 rows × 4 columns</p>\n",
       "</div>"
      ],
      "text/plain": [
       "            시점  소비자물가지수  전세가격지수   월세가격지수\n",
       "0   1975-01-01    8.849   8.755   10.481\n",
       "1   1975-02-01    9.009   8.755   10.481\n",
       "2   1975-03-01    9.179   9.122   10.890\n",
       "3   1975-04-01    9.468   9.122   10.890\n",
       "4   1975-05-01    9.808   9.122   10.890\n",
       "..         ...      ...     ...      ...\n",
       "481 2015-02-01   99.710  98.640   99.860\n",
       "482 2015-03-01   99.720  98.910   99.900\n",
       "483 2015-04-01   99.750  99.260   99.930\n",
       "484 2015-05-01  100.030  99.550  100.000\n",
       "485 2015-06-01  100.050  99.870  100.020\n",
       "\n",
       "[486 rows x 4 columns]"
      ]
     },
     "execution_count": 60,
     "metadata": {},
     "output_type": "execute_result"
    }
   ],
   "source": [
    "Price_index[Price_index['전세가격지수'] <= 100]"
   ]
  },
  {
   "cell_type": "markdown",
   "metadata": {},
   "source": [
    "## 3.2 주택매매가격지수"
   ]
  },
  {
   "cell_type": "markdown",
   "metadata": {
    "ExecuteTime": {
     "end_time": "2021-09-24T02:14:13.969572Z",
     "start_time": "2021-09-24T02:14:13.954572Z"
    }
   },
   "source": [
    "주택가격지수(KHPI : Korea Housing Price Index)<br>\n",
    "기준시점과 매기 조사되는 조사시점의 가격비를 이용하여 기준시점이 100인 수치로 환산한 값을 의미"
   ]
  },
  {
   "cell_type": "markdown",
   "metadata": {},
   "source": [
    "### 3.2.1 데이터 수집"
   ]
  },
  {
   "cell_type": "markdown",
   "metadata": {},
   "source": [
    "* 수집경로 : KOSIS 국가통계포털 <https://kosis.kr/>\n",
    "* 작성기관 : 한국부동산원\n",
    "* 기준년도 : 2021년 6월\n",
    "* 2012년 부터 집계. 1965.1.1부터 월별 통계 지수. \n",
    "(기준 2017.11=100 에서 최근 통계법 개정으로 2021.6=100으로 변경)\n",
    "* 행렬전환 Transposed\n",
    "* 다운로드\n",
    "https://kosis.kr/statHtml/statHtml.do?orgId=101&tblId=DT_1J17001&vw_cd=&list_id=&scrId=&seqNo=&lang_mode=ko&obj_var_id=&itm_id=&conn_path=E1&docId=0288121992&markType=S&itmNm=%EC%A0%84%EA%B5%AD"
   ]
  },
  {
   "cell_type": "markdown",
   "metadata": {},
   "source": [
    "## 3.2.2 데이터 불러오기"
   ]
  },
  {
   "cell_type": "code",
   "execution_count": 61,
   "metadata": {
    "ExecuteTime": {
     "end_time": "2022-10-31T13:47:13.386900Z",
     "start_time": "2022-10-31T13:47:13.362480Z"
    },
    "scrolled": true
   },
   "outputs": [
    {
     "data": {
      "text/html": [
       "<div>\n",
       "<style scoped>\n",
       "    .dataframe tbody tr th:only-of-type {\n",
       "        vertical-align: middle;\n",
       "    }\n",
       "\n",
       "    .dataframe tbody tr th {\n",
       "        vertical-align: top;\n",
       "    }\n",
       "\n",
       "    .dataframe thead th {\n",
       "        text-align: right;\n",
       "    }\n",
       "</style>\n",
       "<table border=\"1\" class=\"dataframe\">\n",
       "  <thead>\n",
       "    <tr style=\"text-align: right;\">\n",
       "      <th></th>\n",
       "      <th>시점</th>\n",
       "      <th>종합</th>\n",
       "      <th>아파트</th>\n",
       "    </tr>\n",
       "  </thead>\n",
       "  <tbody>\n",
       "    <tr>\n",
       "      <th>0</th>\n",
       "      <td>시점</td>\n",
       "      <td>전국</td>\n",
       "      <td>전국</td>\n",
       "    </tr>\n",
       "    <tr>\n",
       "      <th>1</th>\n",
       "      <td>2003.11</td>\n",
       "      <td>61.5</td>\n",
       "      <td>55.4</td>\n",
       "    </tr>\n",
       "    <tr>\n",
       "      <th>2</th>\n",
       "      <td>2003.12</td>\n",
       "      <td>61.0</td>\n",
       "      <td>55.1</td>\n",
       "    </tr>\n",
       "    <tr>\n",
       "      <th>3</th>\n",
       "      <td>2004.01</td>\n",
       "      <td>60.7</td>\n",
       "      <td>55.0</td>\n",
       "    </tr>\n",
       "    <tr>\n",
       "      <th>4</th>\n",
       "      <td>2004.02</td>\n",
       "      <td>60.7</td>\n",
       "      <td>55.1</td>\n",
       "    </tr>\n",
       "    <tr>\n",
       "      <th>...</th>\n",
       "      <td>...</td>\n",
       "      <td>...</td>\n",
       "      <td>...</td>\n",
       "    </tr>\n",
       "    <tr>\n",
       "      <th>223</th>\n",
       "      <td>2022.05</td>\n",
       "      <td>104.8</td>\n",
       "      <td>106.1</td>\n",
       "    </tr>\n",
       "    <tr>\n",
       "      <th>224</th>\n",
       "      <td>2022.06</td>\n",
       "      <td>104.8</td>\n",
       "      <td>106.0</td>\n",
       "    </tr>\n",
       "    <tr>\n",
       "      <th>225</th>\n",
       "      <td>2022.07</td>\n",
       "      <td>104.8</td>\n",
       "      <td>105.8</td>\n",
       "    </tr>\n",
       "    <tr>\n",
       "      <th>226</th>\n",
       "      <td>2022.08</td>\n",
       "      <td>104.5</td>\n",
       "      <td>105.3</td>\n",
       "    </tr>\n",
       "    <tr>\n",
       "      <th>227</th>\n",
       "      <td>2022.09</td>\n",
       "      <td>103.9</td>\n",
       "      <td>104.5</td>\n",
       "    </tr>\n",
       "  </tbody>\n",
       "</table>\n",
       "<p>228 rows × 3 columns</p>\n",
       "</div>"
      ],
      "text/plain": [
       "          시점     종합    아파트\n",
       "0         시점     전국     전국\n",
       "1    2003.11   61.5   55.4\n",
       "2    2003.12   61.0   55.1\n",
       "3    2004.01   60.7   55.0\n",
       "4    2004.02   60.7   55.1\n",
       "..       ...    ...    ...\n",
       "223  2022.05  104.8  106.1\n",
       "224  2022.06  104.8  106.0\n",
       "225  2022.07  104.8  105.8\n",
       "226  2022.08  104.5  105.3\n",
       "227  2022.09  103.9  104.5\n",
       "\n",
       "[228 rows x 3 columns]"
      ]
     },
     "execution_count": 61,
     "metadata": {},
     "output_type": "execute_result"
    }
   ],
   "source": [
    "import pandas as pd\n",
    "APT_index = pd.read_csv('data/유형별_매매가격지수_20221031224545.csv', encoding='cp949')\n",
    "APT_index"
   ]
  },
  {
   "cell_type": "code",
   "execution_count": 62,
   "metadata": {
    "ExecuteTime": {
     "end_time": "2022-10-31T13:47:13.401785Z",
     "start_time": "2022-10-31T13:47:13.388827Z"
    }
   },
   "outputs": [
    {
     "data": {
      "text/html": [
       "<div>\n",
       "<style scoped>\n",
       "    .dataframe tbody tr th:only-of-type {\n",
       "        vertical-align: middle;\n",
       "    }\n",
       "\n",
       "    .dataframe tbody tr th {\n",
       "        vertical-align: top;\n",
       "    }\n",
       "\n",
       "    .dataframe thead th {\n",
       "        text-align: right;\n",
       "    }\n",
       "</style>\n",
       "<table border=\"1\" class=\"dataframe\">\n",
       "  <thead>\n",
       "    <tr style=\"text-align: right;\">\n",
       "      <th></th>\n",
       "      <th>시점</th>\n",
       "      <th>종합</th>\n",
       "      <th>아파트</th>\n",
       "    </tr>\n",
       "  </thead>\n",
       "  <tbody>\n",
       "    <tr>\n",
       "      <th>1</th>\n",
       "      <td>2003.11</td>\n",
       "      <td>61.5</td>\n",
       "      <td>55.4</td>\n",
       "    </tr>\n",
       "    <tr>\n",
       "      <th>2</th>\n",
       "      <td>2003.12</td>\n",
       "      <td>61.0</td>\n",
       "      <td>55.1</td>\n",
       "    </tr>\n",
       "    <tr>\n",
       "      <th>3</th>\n",
       "      <td>2004.01</td>\n",
       "      <td>60.7</td>\n",
       "      <td>55.0</td>\n",
       "    </tr>\n",
       "    <tr>\n",
       "      <th>4</th>\n",
       "      <td>2004.02</td>\n",
       "      <td>60.7</td>\n",
       "      <td>55.1</td>\n",
       "    </tr>\n",
       "    <tr>\n",
       "      <th>5</th>\n",
       "      <td>2004.03</td>\n",
       "      <td>60.8</td>\n",
       "      <td>55.4</td>\n",
       "    </tr>\n",
       "    <tr>\n",
       "      <th>...</th>\n",
       "      <td>...</td>\n",
       "      <td>...</td>\n",
       "      <td>...</td>\n",
       "    </tr>\n",
       "    <tr>\n",
       "      <th>223</th>\n",
       "      <td>2022.05</td>\n",
       "      <td>104.8</td>\n",
       "      <td>106.1</td>\n",
       "    </tr>\n",
       "    <tr>\n",
       "      <th>224</th>\n",
       "      <td>2022.06</td>\n",
       "      <td>104.8</td>\n",
       "      <td>106.0</td>\n",
       "    </tr>\n",
       "    <tr>\n",
       "      <th>225</th>\n",
       "      <td>2022.07</td>\n",
       "      <td>104.8</td>\n",
       "      <td>105.8</td>\n",
       "    </tr>\n",
       "    <tr>\n",
       "      <th>226</th>\n",
       "      <td>2022.08</td>\n",
       "      <td>104.5</td>\n",
       "      <td>105.3</td>\n",
       "    </tr>\n",
       "    <tr>\n",
       "      <th>227</th>\n",
       "      <td>2022.09</td>\n",
       "      <td>103.9</td>\n",
       "      <td>104.5</td>\n",
       "    </tr>\n",
       "  </tbody>\n",
       "</table>\n",
       "<p>227 rows × 3 columns</p>\n",
       "</div>"
      ],
      "text/plain": [
       "          시점     종합    아파트\n",
       "1    2003.11   61.5   55.4\n",
       "2    2003.12   61.0   55.1\n",
       "3    2004.01   60.7   55.0\n",
       "4    2004.02   60.7   55.1\n",
       "5    2004.03   60.8   55.4\n",
       "..       ...    ...    ...\n",
       "223  2022.05  104.8  106.1\n",
       "224  2022.06  104.8  106.0\n",
       "225  2022.07  104.8  105.8\n",
       "226  2022.08  104.5  105.3\n",
       "227  2022.09  103.9  104.5\n",
       "\n",
       "[227 rows x 3 columns]"
      ]
     },
     "execution_count": 62,
     "metadata": {},
     "output_type": "execute_result"
    }
   ],
   "source": [
    "# 1번째 행부터 끝행 까지 데이터를 추출\n",
    "APT_index= APT_index[1::]\n",
    "APT_index"
   ]
  },
  {
   "cell_type": "code",
   "execution_count": 63,
   "metadata": {
    "ExecuteTime": {
     "end_time": "2022-10-31T13:47:13.432191Z",
     "start_time": "2022-10-31T13:47:13.403778Z"
    }
   },
   "outputs": [
    {
     "data": {
      "text/html": [
       "<div>\n",
       "<style scoped>\n",
       "    .dataframe tbody tr th:only-of-type {\n",
       "        vertical-align: middle;\n",
       "    }\n",
       "\n",
       "    .dataframe tbody tr th {\n",
       "        vertical-align: top;\n",
       "    }\n",
       "\n",
       "    .dataframe thead th {\n",
       "        text-align: right;\n",
       "    }\n",
       "</style>\n",
       "<table border=\"1\" class=\"dataframe\">\n",
       "  <thead>\n",
       "    <tr style=\"text-align: right;\">\n",
       "      <th></th>\n",
       "      <th>시점</th>\n",
       "      <th>주택매매지수</th>\n",
       "      <th>아파트매매지수</th>\n",
       "    </tr>\n",
       "  </thead>\n",
       "  <tbody>\n",
       "    <tr>\n",
       "      <th>1</th>\n",
       "      <td>2003.11</td>\n",
       "      <td>61.5</td>\n",
       "      <td>55.4</td>\n",
       "    </tr>\n",
       "    <tr>\n",
       "      <th>2</th>\n",
       "      <td>2003.12</td>\n",
       "      <td>61.0</td>\n",
       "      <td>55.1</td>\n",
       "    </tr>\n",
       "    <tr>\n",
       "      <th>3</th>\n",
       "      <td>2004.01</td>\n",
       "      <td>60.7</td>\n",
       "      <td>55.0</td>\n",
       "    </tr>\n",
       "    <tr>\n",
       "      <th>4</th>\n",
       "      <td>2004.02</td>\n",
       "      <td>60.7</td>\n",
       "      <td>55.1</td>\n",
       "    </tr>\n",
       "    <tr>\n",
       "      <th>5</th>\n",
       "      <td>2004.03</td>\n",
       "      <td>60.8</td>\n",
       "      <td>55.4</td>\n",
       "    </tr>\n",
       "    <tr>\n",
       "      <th>...</th>\n",
       "      <td>...</td>\n",
       "      <td>...</td>\n",
       "      <td>...</td>\n",
       "    </tr>\n",
       "    <tr>\n",
       "      <th>223</th>\n",
       "      <td>2022.05</td>\n",
       "      <td>104.8</td>\n",
       "      <td>106.1</td>\n",
       "    </tr>\n",
       "    <tr>\n",
       "      <th>224</th>\n",
       "      <td>2022.06</td>\n",
       "      <td>104.8</td>\n",
       "      <td>106.0</td>\n",
       "    </tr>\n",
       "    <tr>\n",
       "      <th>225</th>\n",
       "      <td>2022.07</td>\n",
       "      <td>104.8</td>\n",
       "      <td>105.8</td>\n",
       "    </tr>\n",
       "    <tr>\n",
       "      <th>226</th>\n",
       "      <td>2022.08</td>\n",
       "      <td>104.5</td>\n",
       "      <td>105.3</td>\n",
       "    </tr>\n",
       "    <tr>\n",
       "      <th>227</th>\n",
       "      <td>2022.09</td>\n",
       "      <td>103.9</td>\n",
       "      <td>104.5</td>\n",
       "    </tr>\n",
       "  </tbody>\n",
       "</table>\n",
       "<p>227 rows × 3 columns</p>\n",
       "</div>"
      ],
      "text/plain": [
       "          시점 주택매매지수 아파트매매지수\n",
       "1    2003.11   61.5    55.4\n",
       "2    2003.12   61.0    55.1\n",
       "3    2004.01   60.7    55.0\n",
       "4    2004.02   60.7    55.1\n",
       "5    2004.03   60.8    55.4\n",
       "..       ...    ...     ...\n",
       "223  2022.05  104.8   106.1\n",
       "224  2022.06  104.8   106.0\n",
       "225  2022.07  104.8   105.8\n",
       "226  2022.08  104.5   105.3\n",
       "227  2022.09  103.9   104.5\n",
       "\n",
       "[227 rows x 3 columns]"
      ]
     },
     "execution_count": 63,
     "metadata": {},
     "output_type": "execute_result"
    }
   ],
   "source": [
    "APT_index.columns = ['시점', '주택매매지수', '아파트매매지수']\n",
    "APT_index"
   ]
  },
  {
   "cell_type": "markdown",
   "metadata": {},
   "source": [
    "###  3.2.3 데이터 타입반경"
   ]
  },
  {
   "cell_type": "code",
   "execution_count": 64,
   "metadata": {
    "ExecuteTime": {
     "end_time": "2022-10-31T13:47:13.462092Z",
     "start_time": "2022-10-31T13:47:13.433188Z"
    }
   },
   "outputs": [
    {
     "name": "stdout",
     "output_type": "stream",
     "text": [
      "<class 'pandas.core.frame.DataFrame'>\n",
      "RangeIndex: 227 entries, 1 to 227\n",
      "Data columns (total 3 columns):\n",
      " #   Column   Non-Null Count  Dtype \n",
      "---  ------   --------------  ----- \n",
      " 0   시점       227 non-null    object\n",
      " 1   주택매매지수   227 non-null    object\n",
      " 2   아파트매매지수  227 non-null    object\n",
      "dtypes: object(3)\n",
      "memory usage: 5.4+ KB\n"
     ]
    }
   ],
   "source": [
    "APT_index.info()"
   ]
  },
  {
   "cell_type": "code",
   "execution_count": 65,
   "metadata": {
    "ExecuteTime": {
     "end_time": "2022-10-31T13:47:14.139822Z",
     "start_time": "2022-10-31T13:47:13.464087Z"
    }
   },
   "outputs": [],
   "source": [
    "import warnings\n",
    "warnings.filterwarnings(\"ignore\")\n",
    "\n",
    "APT_index['시점'] = pd.to_datetime(APT_index['시점'])"
   ]
  },
  {
   "cell_type": "code",
   "execution_count": 66,
   "metadata": {
    "ExecuteTime": {
     "end_time": "2022-10-31T13:47:14.201330Z",
     "start_time": "2022-10-31T13:47:14.141817Z"
    }
   },
   "outputs": [],
   "source": [
    "# Price_index = Price_index.apply(pd.to_numeric)\n",
    "APT_index[['주택매매지수', '아파트매매지수']] = APT_index[['주택매매지수', '아파트매매지수']].apply(pd.to_numeric)"
   ]
  },
  {
   "cell_type": "code",
   "execution_count": 67,
   "metadata": {
    "ExecuteTime": {
     "end_time": "2022-10-31T13:47:14.216680Z",
     "start_time": "2022-10-31T13:47:14.202466Z"
    }
   },
   "outputs": [],
   "source": [
    "# warning 참고\n",
    "# https://pandas.pydata.org/pandas-docs/stable/user_guide/indexing.html#returning-a-view-versus-a-copy"
   ]
  },
  {
   "cell_type": "code",
   "execution_count": 68,
   "metadata": {
    "ExecuteTime": {
     "end_time": "2022-10-31T13:47:14.231529Z",
     "start_time": "2022-10-31T13:47:14.218572Z"
    }
   },
   "outputs": [
    {
     "name": "stdout",
     "output_type": "stream",
     "text": [
      "<class 'pandas.core.frame.DataFrame'>\n",
      "RangeIndex: 227 entries, 1 to 227\n",
      "Data columns (total 3 columns):\n",
      " #   Column   Non-Null Count  Dtype         \n",
      "---  ------   --------------  -----         \n",
      " 0   시점       227 non-null    datetime64[ns]\n",
      " 1   주택매매지수   227 non-null    float64       \n",
      " 2   아파트매매지수  227 non-null    float64       \n",
      "dtypes: datetime64[ns](1), float64(2)\n",
      "memory usage: 5.4 KB\n"
     ]
    }
   ],
   "source": [
    "APT_index.info()"
   ]
  },
  {
   "cell_type": "markdown",
   "metadata": {},
   "source": [
    "# 3.3 데이터 병합"
   ]
  },
  {
   "cell_type": "markdown",
   "metadata": {
    "ExecuteTime": {
     "end_time": "2021-09-24T02:22:09.760951Z",
     "start_time": "2021-09-24T02:22:09.741330Z"
    }
   },
   "source": [
    "소비자물가지수 + 주택매매가격지수"
   ]
  },
  {
   "cell_type": "markdown",
   "metadata": {},
   "source": [
    "### 3.3.1 Merge 함수(pd.merge_asof)"
   ]
  },
  {
   "cell_type": "code",
   "execution_count": 69,
   "metadata": {
    "ExecuteTime": {
     "end_time": "2022-10-31T13:47:14.261430Z",
     "start_time": "2022-10-31T13:47:14.233522Z"
    }
   },
   "outputs": [
    {
     "data": {
      "text/html": [
       "<div>\n",
       "<style scoped>\n",
       "    .dataframe tbody tr th:only-of-type {\n",
       "        vertical-align: middle;\n",
       "    }\n",
       "\n",
       "    .dataframe tbody tr th {\n",
       "        vertical-align: top;\n",
       "    }\n",
       "\n",
       "    .dataframe thead th {\n",
       "        text-align: right;\n",
       "    }\n",
       "</style>\n",
       "<table border=\"1\" class=\"dataframe\">\n",
       "  <thead>\n",
       "    <tr style=\"text-align: right;\">\n",
       "      <th></th>\n",
       "      <th>시점</th>\n",
       "      <th>소비자물가지수</th>\n",
       "      <th>전세가격지수</th>\n",
       "      <th>월세가격지수</th>\n",
       "      <th>주택매매지수</th>\n",
       "      <th>아파트매매지수</th>\n",
       "    </tr>\n",
       "  </thead>\n",
       "  <tbody>\n",
       "    <tr>\n",
       "      <th>0</th>\n",
       "      <td>1975-01-01</td>\n",
       "      <td>8.849</td>\n",
       "      <td>8.755</td>\n",
       "      <td>10.481</td>\n",
       "      <td>NaN</td>\n",
       "      <td>NaN</td>\n",
       "    </tr>\n",
       "    <tr>\n",
       "      <th>1</th>\n",
       "      <td>1975-02-01</td>\n",
       "      <td>9.009</td>\n",
       "      <td>8.755</td>\n",
       "      <td>10.481</td>\n",
       "      <td>NaN</td>\n",
       "      <td>NaN</td>\n",
       "    </tr>\n",
       "    <tr>\n",
       "      <th>2</th>\n",
       "      <td>1975-03-01</td>\n",
       "      <td>9.179</td>\n",
       "      <td>9.122</td>\n",
       "      <td>10.890</td>\n",
       "      <td>NaN</td>\n",
       "      <td>NaN</td>\n",
       "    </tr>\n",
       "    <tr>\n",
       "      <th>3</th>\n",
       "      <td>1975-04-01</td>\n",
       "      <td>9.468</td>\n",
       "      <td>9.122</td>\n",
       "      <td>10.890</td>\n",
       "      <td>NaN</td>\n",
       "      <td>NaN</td>\n",
       "    </tr>\n",
       "    <tr>\n",
       "      <th>4</th>\n",
       "      <td>1975-05-01</td>\n",
       "      <td>9.808</td>\n",
       "      <td>9.122</td>\n",
       "      <td>10.890</td>\n",
       "      <td>NaN</td>\n",
       "      <td>NaN</td>\n",
       "    </tr>\n",
       "    <tr>\n",
       "      <th>...</th>\n",
       "      <td>...</td>\n",
       "      <td>...</td>\n",
       "      <td>...</td>\n",
       "      <td>...</td>\n",
       "      <td>...</td>\n",
       "      <td>...</td>\n",
       "    </tr>\n",
       "    <tr>\n",
       "      <th>555</th>\n",
       "      <td>2021-04-01</td>\n",
       "      <td>107.390</td>\n",
       "      <td>109.680</td>\n",
       "      <td>100.510</td>\n",
       "      <td>98.2</td>\n",
       "      <td>97.4</td>\n",
       "    </tr>\n",
       "    <tr>\n",
       "      <th>556</th>\n",
       "      <td>2021-05-01</td>\n",
       "      <td>107.460</td>\n",
       "      <td>109.940</td>\n",
       "      <td>100.590</td>\n",
       "      <td>98.9</td>\n",
       "      <td>98.3</td>\n",
       "    </tr>\n",
       "    <tr>\n",
       "      <th>557</th>\n",
       "      <td>2021-06-01</td>\n",
       "      <td>107.390</td>\n",
       "      <td>110.090</td>\n",
       "      <td>100.660</td>\n",
       "      <td>100.0</td>\n",
       "      <td>100.0</td>\n",
       "    </tr>\n",
       "    <tr>\n",
       "      <th>558</th>\n",
       "      <td>2021-07-01</td>\n",
       "      <td>107.610</td>\n",
       "      <td>110.310</td>\n",
       "      <td>100.720</td>\n",
       "      <td>100.9</td>\n",
       "      <td>101.2</td>\n",
       "    </tr>\n",
       "    <tr>\n",
       "      <th>559</th>\n",
       "      <td>2021-08-01</td>\n",
       "      <td>108.290</td>\n",
       "      <td>110.590</td>\n",
       "      <td>100.810</td>\n",
       "      <td>101.8</td>\n",
       "      <td>102.6</td>\n",
       "    </tr>\n",
       "  </tbody>\n",
       "</table>\n",
       "<p>560 rows × 6 columns</p>\n",
       "</div>"
      ],
      "text/plain": [
       "            시점  소비자물가지수   전세가격지수   월세가격지수  주택매매지수  아파트매매지수\n",
       "0   1975-01-01    8.849    8.755   10.481     NaN      NaN\n",
       "1   1975-02-01    9.009    8.755   10.481     NaN      NaN\n",
       "2   1975-03-01    9.179    9.122   10.890     NaN      NaN\n",
       "3   1975-04-01    9.468    9.122   10.890     NaN      NaN\n",
       "4   1975-05-01    9.808    9.122   10.890     NaN      NaN\n",
       "..         ...      ...      ...      ...     ...      ...\n",
       "555 2021-04-01  107.390  109.680  100.510    98.2     97.4\n",
       "556 2021-05-01  107.460  109.940  100.590    98.9     98.3\n",
       "557 2021-06-01  107.390  110.090  100.660   100.0    100.0\n",
       "558 2021-07-01  107.610  110.310  100.720   100.9    101.2\n",
       "559 2021-08-01  108.290  110.590  100.810   101.8    102.6\n",
       "\n",
       "[560 rows x 6 columns]"
      ]
     },
     "execution_count": 69,
     "metadata": {},
     "output_type": "execute_result"
    }
   ],
   "source": [
    "df_merged = pd.merge_asof(\n",
    "    Price_index.sort_values(by='시점'), APT_index.sort_values(by='시점'),\n",
    "    on='시점',  allow_exact_matches=True)\n",
    "df_merged "
   ]
  },
  {
   "cell_type": "code",
   "execution_count": 70,
   "metadata": {
    "ExecuteTime": {
     "end_time": "2022-10-31T13:47:14.276657Z",
     "start_time": "2022-10-31T13:47:14.263421Z"
    }
   },
   "outputs": [],
   "source": [
    "df_merged.dropna(axis=0, inplace=True)"
   ]
  },
  {
   "cell_type": "code",
   "execution_count": 71,
   "metadata": {
    "ExecuteTime": {
     "end_time": "2022-10-31T13:47:14.292594Z",
     "start_time": "2022-10-31T13:47:14.278641Z"
    }
   },
   "outputs": [
    {
     "name": "stdout",
     "output_type": "stream",
     "text": [
      "<class 'pandas.core.frame.DataFrame'>\n",
      "Int64Index: 214 entries, 346 to 559\n",
      "Data columns (total 6 columns):\n",
      " #   Column   Non-Null Count  Dtype         \n",
      "---  ------   --------------  -----         \n",
      " 0   시점       214 non-null    datetime64[ns]\n",
      " 1   소비자물가지수  214 non-null    float64       \n",
      " 2   전세가격지수   214 non-null    float64       \n",
      " 3   월세가격지수   214 non-null    float64       \n",
      " 4   주택매매지수   214 non-null    float64       \n",
      " 5   아파트매매지수  214 non-null    float64       \n",
      "dtypes: datetime64[ns](1), float64(5)\n",
      "memory usage: 11.7 KB\n"
     ]
    }
   ],
   "source": [
    "df_merged.info()"
   ]
  },
  {
   "cell_type": "markdown",
   "metadata": {},
   "source": [
    "## 3.4 그래프 시각화"
   ]
  },
  {
   "cell_type": "code",
   "execution_count": 72,
   "metadata": {
    "ExecuteTime": {
     "end_time": "2022-10-31T13:47:14.621002Z",
     "start_time": "2022-10-31T13:47:14.295584Z"
    }
   },
   "outputs": [
    {
     "data": {
      "image/png": "[encoded data removed]",
      "text/plain": [
       "<Figure size 1200x300 with 2 Axes>"
      ]
     },
     "metadata": {},
     "output_type": "display_data"
    }
   ],
   "source": [
    "import matplotlib.pyplot as plt\n",
    "\n",
    "# 1. 기본 스타일 설정\n",
    "plt.style.use('default')\n",
    "plt.rcParams['figure.figsize'] = (12, 3)\n",
    "plt.rcParams['font.size'] = 12\n",
    "plt.rc('font', family = 'NanumGothic')\n",
    "\n",
    "# 2. 데이터 준비\n",
    "x = df_merged['시점']\n",
    "y1 = df_merged['소비자물가지수']\n",
    "y2 = df_merged['주택매매지수']\n",
    "\n",
    "# 3. 그래프 그리기\n",
    "fig, ax1 = plt.subplots()\n",
    "\n",
    "# y1 에 대한 값\n",
    "ax1.plot(x, y1, '-s', color='green', markersize=3, linewidth=3, alpha=0.7, label='소비자물가지수')\n",
    "# ax1.set_ylim(0, 18)\n",
    "ax1.set_xlabel('연도')\n",
    "ax1.set_ylabel('물가지수')\n",
    "ax1.tick_params(axis='both', direction='in')\n",
    "\n",
    "\n",
    "# y2 에 대한 값\n",
    "ax2 = ax1.twinx()\n",
    "ax2.plot(x, y2, '-s', color='blue', markersize=3, linewidth=3, alpha=0.7, label='주택매매지수')\n",
    "ax2.set_ylabel('주택지수')\n",
    "ax2.tick_params(axis='y', direction='in')\n",
    "\n",
    "# set_zorder() 메서드는 z-축 방향의 순서를 지정합니다.\n",
    "# 아래 그림과 같이 zorder가 낮을수록 먼저 그려지고, zorder가 높을수록 나중에 그려집니다.\n",
    "\n",
    "ax1.set_zorder(ax2.get_zorder() + 10)\n",
    "ax1.patch.set_visible(False)\n",
    "\n",
    "ax1.legend(loc='upper left')\n",
    "ax2.legend(loc='lower right')\n",
    "\n",
    "plt.show()"
   ]
  },
  {
   "cell_type": "markdown",
   "metadata": {},
   "source": [
    "## 3.5 통계적 오류 정정"
   ]
  },
  {
   "cell_type": "markdown",
   "metadata": {},
   "source": [
    "* 기준시점\n",
    "  - 소비자물가지수, 전세가격지수, 월세가격지수 : 2015.1 기준\n",
    "  - 주택매매지수, 아파트매매지수 : 2021.6 기준"
   ]
  },
  {
   "cell_type": "code",
   "execution_count": null,
   "metadata": {},
   "outputs": [],
   "source": [
    "# 1. 병합된 데이터를 확인해봅니다."
   ]
  },
  {
   "cell_type": "code",
   "execution_count": 73,
   "metadata": {
    "ExecuteTime": {
     "end_time": "2022-10-31T13:47:14.636483Z",
     "start_time": "2022-10-31T13:47:14.621989Z"
    }
   },
   "outputs": [
    {
     "data": {
      "text/html": [
       "<div>\n",
       "<style scoped>\n",
       "    .dataframe tbody tr th:only-of-type {\n",
       "        vertical-align: middle;\n",
       "    }\n",
       "\n",
       "    .dataframe tbody tr th {\n",
       "        vertical-align: top;\n",
       "    }\n",
       "\n",
       "    .dataframe thead th {\n",
       "        text-align: right;\n",
       "    }\n",
       "</style>\n",
       "<table border=\"1\" class=\"dataframe\">\n",
       "  <thead>\n",
       "    <tr style=\"text-align: right;\">\n",
       "      <th></th>\n",
       "      <th>시점</th>\n",
       "      <th>소비자물가지수</th>\n",
       "      <th>전세가격지수</th>\n",
       "      <th>월세가격지수</th>\n",
       "      <th>주택매매지수</th>\n",
       "      <th>아파트매매지수</th>\n",
       "    </tr>\n",
       "  </thead>\n",
       "  <tbody>\n",
       "    <tr>\n",
       "      <th>346</th>\n",
       "      <td>2003-11-01</td>\n",
       "      <td>74.227</td>\n",
       "      <td>74.724</td>\n",
       "      <td>88.846</td>\n",
       "      <td>61.5</td>\n",
       "      <td>55.4</td>\n",
       "    </tr>\n",
       "    <tr>\n",
       "      <th>347</th>\n",
       "      <td>2003-12-01</td>\n",
       "      <td>74.561</td>\n",
       "      <td>74.913</td>\n",
       "      <td>88.846</td>\n",
       "      <td>61.0</td>\n",
       "      <td>55.1</td>\n",
       "    </tr>\n",
       "    <tr>\n",
       "      <th>348</th>\n",
       "      <td>2004-01-01</td>\n",
       "      <td>75.027</td>\n",
       "      <td>75.039</td>\n",
       "      <td>89.015</td>\n",
       "      <td>60.7</td>\n",
       "      <td>55.0</td>\n",
       "    </tr>\n",
       "    <tr>\n",
       "      <th>349</th>\n",
       "      <td>2004-02-01</td>\n",
       "      <td>75.359</td>\n",
       "      <td>75.102</td>\n",
       "      <td>88.930</td>\n",
       "      <td>60.7</td>\n",
       "      <td>55.1</td>\n",
       "    </tr>\n",
       "    <tr>\n",
       "      <th>350</th>\n",
       "      <td>2004-03-01</td>\n",
       "      <td>76.091</td>\n",
       "      <td>75.164</td>\n",
       "      <td>88.846</td>\n",
       "      <td>60.8</td>\n",
       "      <td>55.4</td>\n",
       "    </tr>\n",
       "    <tr>\n",
       "      <th>...</th>\n",
       "      <td>...</td>\n",
       "      <td>...</td>\n",
       "      <td>...</td>\n",
       "      <td>...</td>\n",
       "      <td>...</td>\n",
       "      <td>...</td>\n",
       "    </tr>\n",
       "    <tr>\n",
       "      <th>555</th>\n",
       "      <td>2021-04-01</td>\n",
       "      <td>107.390</td>\n",
       "      <td>109.680</td>\n",
       "      <td>100.510</td>\n",
       "      <td>98.2</td>\n",
       "      <td>97.4</td>\n",
       "    </tr>\n",
       "    <tr>\n",
       "      <th>556</th>\n",
       "      <td>2021-05-01</td>\n",
       "      <td>107.460</td>\n",
       "      <td>109.940</td>\n",
       "      <td>100.590</td>\n",
       "      <td>98.9</td>\n",
       "      <td>98.3</td>\n",
       "    </tr>\n",
       "    <tr>\n",
       "      <th>557</th>\n",
       "      <td>2021-06-01</td>\n",
       "      <td>107.390</td>\n",
       "      <td>110.090</td>\n",
       "      <td>100.660</td>\n",
       "      <td>100.0</td>\n",
       "      <td>100.0</td>\n",
       "    </tr>\n",
       "    <tr>\n",
       "      <th>558</th>\n",
       "      <td>2021-07-01</td>\n",
       "      <td>107.610</td>\n",
       "      <td>110.310</td>\n",
       "      <td>100.720</td>\n",
       "      <td>100.9</td>\n",
       "      <td>101.2</td>\n",
       "    </tr>\n",
       "    <tr>\n",
       "      <th>559</th>\n",
       "      <td>2021-08-01</td>\n",
       "      <td>108.290</td>\n",
       "      <td>110.590</td>\n",
       "      <td>100.810</td>\n",
       "      <td>101.8</td>\n",
       "      <td>102.6</td>\n",
       "    </tr>\n",
       "  </tbody>\n",
       "</table>\n",
       "<p>214 rows × 6 columns</p>\n",
       "</div>"
      ],
      "text/plain": [
       "            시점  소비자물가지수   전세가격지수   월세가격지수  주택매매지수  아파트매매지수\n",
       "346 2003-11-01   74.227   74.724   88.846    61.5     55.4\n",
       "347 2003-12-01   74.561   74.913   88.846    61.0     55.1\n",
       "348 2004-01-01   75.027   75.039   89.015    60.7     55.0\n",
       "349 2004-02-01   75.359   75.102   88.930    60.7     55.1\n",
       "350 2004-03-01   76.091   75.164   88.846    60.8     55.4\n",
       "..         ...      ...      ...      ...     ...      ...\n",
       "555 2021-04-01  107.390  109.680  100.510    98.2     97.4\n",
       "556 2021-05-01  107.460  109.940  100.590    98.9     98.3\n",
       "557 2021-06-01  107.390  110.090  100.660   100.0    100.0\n",
       "558 2021-07-01  107.610  110.310  100.720   100.9    101.2\n",
       "559 2021-08-01  108.290  110.590  100.810   101.8    102.6\n",
       "\n",
       "[214 rows x 6 columns]"
      ]
     },
     "execution_count": 73,
     "metadata": {},
     "output_type": "execute_result"
    }
   ],
   "source": [
    "df_merged"
   ]
  },
  {
   "cell_type": "code",
   "execution_count": null,
   "metadata": {},
   "outputs": [],
   "source": [
    "# 2. 칼럼명을 기준시점으로 구분해서 바꿔줍니다."
   ]
  },
  {
   "cell_type": "code",
   "execution_count": null,
   "metadata": {
    "ExecuteTime": {
     "end_time": "2022-10-31T13:47:14.666614Z",
     "start_time": "2022-10-31T13:47:14.638477Z"
    }
   },
   "outputs": [],
   "source": [
    "df_merged.columns = ['시점', '소비자물가지수(2015=100)', '전세가격지수(2015=100)', '월세가격지수(2015=100)','주택매매지수(2021.6=100)', '아파트매매지수(2021.6=100)']\n",
    "df_merged"
   ]
  },
  {
   "cell_type": "code",
   "execution_count": 75,
   "metadata": {
    "ExecuteTime": {
     "end_time": "2022-10-31T13:47:14.697053Z",
     "start_time": "2022-10-31T13:47:14.681107Z"
    }
   },
   "outputs": [
    {
     "data": {
      "text/plain": [
       "Index(['시점', '소비자물가지수(2015=100)', '전세가격지수(2015=100)', '월세가격지수(2015=100)',\n",
       "       '주택매매지수(2021.6=100)', '아파트매매지수(2021.6=100)'],\n",
       "      dtype='object')"
      ]
     },
     "execution_count": 75,
     "metadata": {},
     "output_type": "execute_result"
    }
   ],
   "source": [
    "df_merged.columns"
   ]
  },
  {
   "cell_type": "code",
   "execution_count": 76,
   "metadata": {
    "ExecuteTime": {
     "end_time": "2022-10-31T13:47:14.726954Z",
     "start_time": "2022-10-31T13:47:14.699047Z"
    }
   },
   "outputs": [
    {
     "data": {
      "text/html": [
       "<div>\n",
       "<style scoped>\n",
       "    .dataframe tbody tr th:only-of-type {\n",
       "        vertical-align: middle;\n",
       "    }\n",
       "\n",
       "    .dataframe tbody tr th {\n",
       "        vertical-align: top;\n",
       "    }\n",
       "\n",
       "    .dataframe thead th {\n",
       "        text-align: right;\n",
       "    }\n",
       "</style>\n",
       "<table border=\"1\" class=\"dataframe\">\n",
       "  <thead>\n",
       "    <tr style=\"text-align: right;\">\n",
       "      <th></th>\n",
       "      <th>소비자물가지수(2015=100)</th>\n",
       "      <th>전세가격지수(2015=100)</th>\n",
       "      <th>월세가격지수(2015=100)</th>\n",
       "      <th>주택매매지수(2021.6=100)</th>\n",
       "      <th>아파트매매지수(2021.6=100)</th>\n",
       "    </tr>\n",
       "    <tr>\n",
       "      <th>시점</th>\n",
       "      <th></th>\n",
       "      <th></th>\n",
       "      <th></th>\n",
       "      <th></th>\n",
       "      <th></th>\n",
       "    </tr>\n",
       "  </thead>\n",
       "  <tbody>\n",
       "    <tr>\n",
       "      <th>2003-11-01</th>\n",
       "      <td>74.227</td>\n",
       "      <td>74.724</td>\n",
       "      <td>88.846</td>\n",
       "      <td>61.5</td>\n",
       "      <td>55.4</td>\n",
       "    </tr>\n",
       "    <tr>\n",
       "      <th>2003-12-01</th>\n",
       "      <td>74.561</td>\n",
       "      <td>74.913</td>\n",
       "      <td>88.846</td>\n",
       "      <td>61.0</td>\n",
       "      <td>55.1</td>\n",
       "    </tr>\n",
       "    <tr>\n",
       "      <th>2004-01-01</th>\n",
       "      <td>75.027</td>\n",
       "      <td>75.039</td>\n",
       "      <td>89.015</td>\n",
       "      <td>60.7</td>\n",
       "      <td>55.0</td>\n",
       "    </tr>\n",
       "    <tr>\n",
       "      <th>2004-02-01</th>\n",
       "      <td>75.359</td>\n",
       "      <td>75.102</td>\n",
       "      <td>88.930</td>\n",
       "      <td>60.7</td>\n",
       "      <td>55.1</td>\n",
       "    </tr>\n",
       "    <tr>\n",
       "      <th>2004-03-01</th>\n",
       "      <td>76.091</td>\n",
       "      <td>75.164</td>\n",
       "      <td>88.846</td>\n",
       "      <td>60.8</td>\n",
       "      <td>55.4</td>\n",
       "    </tr>\n",
       "    <tr>\n",
       "      <th>...</th>\n",
       "      <td>...</td>\n",
       "      <td>...</td>\n",
       "      <td>...</td>\n",
       "      <td>...</td>\n",
       "      <td>...</td>\n",
       "    </tr>\n",
       "    <tr>\n",
       "      <th>2021-04-01</th>\n",
       "      <td>107.390</td>\n",
       "      <td>109.680</td>\n",
       "      <td>100.510</td>\n",
       "      <td>98.2</td>\n",
       "      <td>97.4</td>\n",
       "    </tr>\n",
       "    <tr>\n",
       "      <th>2021-05-01</th>\n",
       "      <td>107.460</td>\n",
       "      <td>109.940</td>\n",
       "      <td>100.590</td>\n",
       "      <td>98.9</td>\n",
       "      <td>98.3</td>\n",
       "    </tr>\n",
       "    <tr>\n",
       "      <th>2021-06-01</th>\n",
       "      <td>107.390</td>\n",
       "      <td>110.090</td>\n",
       "      <td>100.660</td>\n",
       "      <td>100.0</td>\n",
       "      <td>100.0</td>\n",
       "    </tr>\n",
       "    <tr>\n",
       "      <th>2021-07-01</th>\n",
       "      <td>107.610</td>\n",
       "      <td>110.310</td>\n",
       "      <td>100.720</td>\n",
       "      <td>100.9</td>\n",
       "      <td>101.2</td>\n",
       "    </tr>\n",
       "    <tr>\n",
       "      <th>2021-08-01</th>\n",
       "      <td>108.290</td>\n",
       "      <td>110.590</td>\n",
       "      <td>100.810</td>\n",
       "      <td>101.8</td>\n",
       "      <td>102.6</td>\n",
       "    </tr>\n",
       "  </tbody>\n",
       "</table>\n",
       "<p>214 rows × 5 columns</p>\n",
       "</div>"
      ],
      "text/plain": [
       "            소비자물가지수(2015=100)  전세가격지수(2015=100)  월세가격지수(2015=100)  \\\n",
       "시점                                                                  \n",
       "2003-11-01             74.227            74.724            88.846   \n",
       "2003-12-01             74.561            74.913            88.846   \n",
       "2004-01-01             75.027            75.039            89.015   \n",
       "2004-02-01             75.359            75.102            88.930   \n",
       "2004-03-01             76.091            75.164            88.846   \n",
       "...                       ...               ...               ...   \n",
       "2021-04-01            107.390           109.680           100.510   \n",
       "2021-05-01            107.460           109.940           100.590   \n",
       "2021-06-01            107.390           110.090           100.660   \n",
       "2021-07-01            107.610           110.310           100.720   \n",
       "2021-08-01            108.290           110.590           100.810   \n",
       "\n",
       "            주택매매지수(2021.6=100)  아파트매매지수(2021.6=100)  \n",
       "시점                                                   \n",
       "2003-11-01                61.5                 55.4  \n",
       "2003-12-01                61.0                 55.1  \n",
       "2004-01-01                60.7                 55.0  \n",
       "2004-02-01                60.7                 55.1  \n",
       "2004-03-01                60.8                 55.4  \n",
       "...                        ...                  ...  \n",
       "2021-04-01                98.2                 97.4  \n",
       "2021-05-01                98.9                 98.3  \n",
       "2021-06-01               100.0                100.0  \n",
       "2021-07-01               100.9                101.2  \n",
       "2021-08-01               101.8                102.6  \n",
       "\n",
       "[214 rows x 5 columns]"
      ]
     },
     "execution_count": 76,
     "metadata": {},
     "output_type": "execute_result"
    }
   ],
   "source": [
    "df_merged.set_index('시점', inplace=True)\n",
    "df_merged"
   ]
  },
  {
   "cell_type": "code",
   "execution_count": null,
   "metadata": {},
   "outputs": [],
   "source": [
    "# 3. 기준시점 POINT를 잡습니다."
   ]
  },
  {
   "cell_type": "code",
   "execution_count": 77,
   "metadata": {
    "ExecuteTime": {
     "end_time": "2022-10-31T13:47:14.742923Z",
     "start_time": "2022-10-31T13:47:14.728946Z"
    }
   },
   "outputs": [
    {
     "name": "stdout",
     "output_type": "stream",
     "text": [
      "기준 소비자물가지수 : 107.39\n",
      "기준 전세가격지수 : 110.09\n",
      "기준 월세가격지수 : 100.66\n"
     ]
    }
   ],
   "source": [
    "price_r_point = df_merged.loc['2021-06-01']['소비자물가지수(2015=100)']\n",
    "junse_r_point = df_merged.loc['2021-06-01']['전세가격지수(2015=100)']\n",
    "Monthly_r_point = df_merged.loc['2021-06-01']['월세가격지수(2015=100)']\n",
    "\n",
    "print('기준 소비자물가지수 :', price_r_point)\n",
    "print('기준 전세가격지수 :', junse_r_point)\n",
    "print('기준 월세가격지수 :', Monthly_r_point)"
   ]
  },
  {
   "cell_type": "code",
   "execution_count": null,
   "metadata": {},
   "outputs": [],
   "source": [
    "# 4. 기준시점을 변경해줍니다."
   ]
  },
  {
   "cell_type": "code",
   "execution_count": 78,
   "metadata": {
    "ExecuteTime": {
     "end_time": "2022-10-31T13:47:14.758372Z",
     "start_time": "2022-10-31T13:47:14.744918Z"
    }
   },
   "outputs": [],
   "source": [
    "# 2015=100 기준인 각각의 값을 2021.6월 지수로 나눠주고 100을 곱해 환산해줍니다.\n",
    "\n",
    "df_merged['소비자물가지수(2021.6=100)'] = df_merged['소비자물가지수(2015=100)'] / price_r_point * 100\n",
    "df_merged['전세가격지수(2021.6=100)'] = df_merged['전세가격지수(2015=100)'] / junse_r_point * 100\n",
    "df_merged['월세가격지수(2021.6=100)'] = df_merged['월세가격지수(2015=100)'] / Monthly_r_point * 100"
   ]
  },
  {
   "cell_type": "code",
   "execution_count": null,
   "metadata": {},
   "outputs": [],
   "source": [
    "# 5. 소수점 자릿수를 통일해줍니다."
   ]
  },
  {
   "cell_type": "code",
   "execution_count": 79,
   "metadata": {
    "ExecuteTime": {
     "end_time": "2022-10-31T13:47:14.773307Z",
     "start_time": "2022-10-31T13:47:14.762360Z"
    }
   },
   "outputs": [],
   "source": [
    "df_merged = df_merged.round(decimals=2)"
   ]
  },
  {
   "cell_type": "code",
   "execution_count": null,
   "metadata": {},
   "outputs": [],
   "source": [
    "# 6. 변경전 기준시점 데이터를 제거해줍니다.(drop)"
   ]
  },
  {
   "cell_type": "code",
   "execution_count": 80,
   "metadata": {
    "ExecuteTime": {
     "end_time": "2022-10-31T13:47:14.803210Z",
     "start_time": "2022-10-31T13:47:14.777631Z"
    }
   },
   "outputs": [
    {
     "data": {
      "text/html": [
       "<div>\n",
       "<style scoped>\n",
       "    .dataframe tbody tr th:only-of-type {\n",
       "        vertical-align: middle;\n",
       "    }\n",
       "\n",
       "    .dataframe tbody tr th {\n",
       "        vertical-align: top;\n",
       "    }\n",
       "\n",
       "    .dataframe thead th {\n",
       "        text-align: right;\n",
       "    }\n",
       "</style>\n",
       "<table border=\"1\" class=\"dataframe\">\n",
       "  <thead>\n",
       "    <tr style=\"text-align: right;\">\n",
       "      <th></th>\n",
       "      <th>주택매매지수(2021.6=100)</th>\n",
       "      <th>아파트매매지수(2021.6=100)</th>\n",
       "      <th>소비자물가지수(2021.6=100)</th>\n",
       "      <th>전세가격지수(2021.6=100)</th>\n",
       "      <th>월세가격지수(2021.6=100)</th>\n",
       "    </tr>\n",
       "    <tr>\n",
       "      <th>시점</th>\n",
       "      <th></th>\n",
       "      <th></th>\n",
       "      <th></th>\n",
       "      <th></th>\n",
       "      <th></th>\n",
       "    </tr>\n",
       "  </thead>\n",
       "  <tbody>\n",
       "    <tr>\n",
       "      <th>2003-11-01</th>\n",
       "      <td>61.5</td>\n",
       "      <td>55.4</td>\n",
       "      <td>69.12</td>\n",
       "      <td>67.88</td>\n",
       "      <td>88.26</td>\n",
       "    </tr>\n",
       "    <tr>\n",
       "      <th>2003-12-01</th>\n",
       "      <td>61.0</td>\n",
       "      <td>55.1</td>\n",
       "      <td>69.43</td>\n",
       "      <td>68.05</td>\n",
       "      <td>88.26</td>\n",
       "    </tr>\n",
       "    <tr>\n",
       "      <th>2004-01-01</th>\n",
       "      <td>60.7</td>\n",
       "      <td>55.0</td>\n",
       "      <td>69.86</td>\n",
       "      <td>68.16</td>\n",
       "      <td>88.43</td>\n",
       "    </tr>\n",
       "    <tr>\n",
       "      <th>2004-02-01</th>\n",
       "      <td>60.7</td>\n",
       "      <td>55.1</td>\n",
       "      <td>70.17</td>\n",
       "      <td>68.22</td>\n",
       "      <td>88.35</td>\n",
       "    </tr>\n",
       "    <tr>\n",
       "      <th>2004-03-01</th>\n",
       "      <td>60.8</td>\n",
       "      <td>55.4</td>\n",
       "      <td>70.85</td>\n",
       "      <td>68.28</td>\n",
       "      <td>88.26</td>\n",
       "    </tr>\n",
       "    <tr>\n",
       "      <th>...</th>\n",
       "      <td>...</td>\n",
       "      <td>...</td>\n",
       "      <td>...</td>\n",
       "      <td>...</td>\n",
       "      <td>...</td>\n",
       "    </tr>\n",
       "    <tr>\n",
       "      <th>2021-04-01</th>\n",
       "      <td>98.2</td>\n",
       "      <td>97.4</td>\n",
       "      <td>100.00</td>\n",
       "      <td>99.63</td>\n",
       "      <td>99.85</td>\n",
       "    </tr>\n",
       "    <tr>\n",
       "      <th>2021-05-01</th>\n",
       "      <td>98.9</td>\n",
       "      <td>98.3</td>\n",
       "      <td>100.07</td>\n",
       "      <td>99.86</td>\n",
       "      <td>99.93</td>\n",
       "    </tr>\n",
       "    <tr>\n",
       "      <th>2021-06-01</th>\n",
       "      <td>100.0</td>\n",
       "      <td>100.0</td>\n",
       "      <td>100.00</td>\n",
       "      <td>100.00</td>\n",
       "      <td>100.00</td>\n",
       "    </tr>\n",
       "    <tr>\n",
       "      <th>2021-07-01</th>\n",
       "      <td>100.9</td>\n",
       "      <td>101.2</td>\n",
       "      <td>100.20</td>\n",
       "      <td>100.20</td>\n",
       "      <td>100.06</td>\n",
       "    </tr>\n",
       "    <tr>\n",
       "      <th>2021-08-01</th>\n",
       "      <td>101.8</td>\n",
       "      <td>102.6</td>\n",
       "      <td>100.84</td>\n",
       "      <td>100.45</td>\n",
       "      <td>100.15</td>\n",
       "    </tr>\n",
       "  </tbody>\n",
       "</table>\n",
       "<p>214 rows × 5 columns</p>\n",
       "</div>"
      ],
      "text/plain": [
       "            주택매매지수(2021.6=100)  아파트매매지수(2021.6=100)  소비자물가지수(2021.6=100)  \\\n",
       "시점                                                                         \n",
       "2003-11-01                61.5                 55.4                69.12   \n",
       "2003-12-01                61.0                 55.1                69.43   \n",
       "2004-01-01                60.7                 55.0                69.86   \n",
       "2004-02-01                60.7                 55.1                70.17   \n",
       "2004-03-01                60.8                 55.4                70.85   \n",
       "...                        ...                  ...                  ...   \n",
       "2021-04-01                98.2                 97.4               100.00   \n",
       "2021-05-01                98.9                 98.3               100.07   \n",
       "2021-06-01               100.0                100.0               100.00   \n",
       "2021-07-01               100.9                101.2               100.20   \n",
       "2021-08-01               101.8                102.6               100.84   \n",
       "\n",
       "            전세가격지수(2021.6=100)  월세가격지수(2021.6=100)  \n",
       "시점                                                  \n",
       "2003-11-01               67.88               88.26  \n",
       "2003-12-01               68.05               88.26  \n",
       "2004-01-01               68.16               88.43  \n",
       "2004-02-01               68.22               88.35  \n",
       "2004-03-01               68.28               88.26  \n",
       "...                        ...                 ...  \n",
       "2021-04-01               99.63               99.85  \n",
       "2021-05-01               99.86               99.93  \n",
       "2021-06-01              100.00              100.00  \n",
       "2021-07-01              100.20              100.06  \n",
       "2021-08-01              100.45              100.15  \n",
       "\n",
       "[214 rows x 5 columns]"
      ]
     },
     "execution_count": 80,
     "metadata": {},
     "output_type": "execute_result"
    }
   ],
   "source": [
    "df_merged.drop(['소비자물가지수(2015=100)','전세가격지수(2015=100)','월세가격지수(2015=100)'], axis=1)"
   ]
  },
  {
   "cell_type": "code",
   "execution_count": 83,
   "metadata": {
    "ExecuteTime": {
     "end_time": "2022-10-31T13:52:11.861695Z",
     "start_time": "2022-10-31T13:52:11.537260Z"
    }
   },
   "outputs": [
    {
     "data": {
      "image/png": "[encoded data removed]",
      "text/plain": [
       "<Figure size 1200x300 with 1 Axes>"
      ]
     },
     "metadata": {},
     "output_type": "display_data"
    }
   ],
   "source": [
    "import matplotlib.pyplot as plt\n",
    "\n",
    "# 1. 기본 스타일 설정\n",
    "plt.style.use('default')\n",
    "plt.rcParams['figure.figsize'] = (12, 3)\n",
    "plt.rcParams['font.size'] = 12\n",
    "plt.rc('font', family = 'NanumGothic')\n",
    "\n",
    "# 2. 데이터 준비\n",
    "x = df_merged.index\n",
    "y1 = df_merged['소비자물가지수(2021.6=100)']\n",
    "y2 = df_merged['주택매매지수(2021.6=100)']\n",
    "y3 = df_merged['전세가격지수(2021.6=100)']\n",
    "\n",
    "# 3. 그래프 그리기\n",
    "fig, ax1 = plt.subplots()\n",
    "\n",
    "# y1 에 대한 값\n",
    "ax1.plot(x, y1, '-s', color='green', markersize=1, linewidth=1, alpha=0.7, label='소비자물가지수')\n",
    "ax1.set_ylim(50, 110)\n",
    "ax1.set_xlabel('연도')\n",
    "ax1.set_ylabel('지수')\n",
    "ax1.tick_params(axis='both', direction='in')\n",
    "\n",
    "# y2 에 대한 값\n",
    "ax2 = ax1\n",
    "ax2.plot(x, y2, '-s', color='blue', markersize=1, linewidth=1, alpha=0.7, label='주택매매지수')\n",
    "\n",
    "# y3 에 대한 값\n",
    "ax3 = ax1\n",
    "ax3.plot(x, y3, '-s', color='purple', markersize=1, linewidth=1, alpha=0.7, label='전세가격지수')\n",
    "\n",
    "# set_zorder() 메서드는 z-축 방향의 순서를 지정합니다.\n",
    "ax1.set_zorder(ax2.get_zorder() + 10)\n",
    "ax1.patch.set_visible(False)\n",
    "ax1.legend(loc='upper left')\n",
    "\n",
    "plt.show()"
   ]
  },
  {
   "cell_type": "markdown",
   "metadata": {},
   "source": [
    "# matplotlib 참고 자료\n",
    "공식 튜토리얼 Demo of table function to display a table within a plot.<BR>\n",
    "https://matplotlib.org/stable/gallery/misc/table_demo.html#sphx-glr-gallery-misc-table-demo-py"
   ]
  }
 ],
 "metadata": {
  "kernelspec": {
   "display_name": "Python 3",
   "language": "python",
   "name": "python3"
  },
  "language_info": {
   "codemirror_mode": {
    "name": "ipython",
    "version": 3
   },
   "file_extension": ".py",
   "mimetype": "text/x-python",
   "name": "python",
   "nbconvert_exporter": "python",
   "pygments_lexer": "ipython3",
   "version": "3.8.5"
  },
  "latex_envs": {
   "LaTeX_envs_menu_present": true,
   "autoclose": false,
   "autocomplete": true,
   "bibliofile": "biblio.bib",
   "cite_by": "apalike",
   "current_citInitial": 1,
   "eqLabelWithNumbers": true,
   "eqNumInitial": 1,
   "hotkeys": {
    "equation": "Ctrl-E",
    "itemize": "Ctrl-I"
   },
   "labels_anchors": false,
   "latex_user_defs": false,
   "report_style_numbering": false,
   "user_envs_cfg": false
  }
 },
 "nbformat": 4,
 "nbformat_minor": 5
}
